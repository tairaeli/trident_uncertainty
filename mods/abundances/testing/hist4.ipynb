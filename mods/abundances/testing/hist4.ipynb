{
 "cells": [
  {
   "cell_type": "code",
   "execution_count": 1,
   "id": "d776e3c9-9ac1-4e01-b461-97fd721dc38b",
   "metadata": {},
   "outputs": [],
   "source": [
    "import collections\n",
    "import pandas as pd\n",
    "import numpy as np\n",
    "import matplotlib.pyplot as plt\n",
    "%matplotlib inline"
   ]
  },
  {
   "cell_type": "code",
   "execution_count": 2,
   "id": "30930577-6ee3-476f-a361-ccda10cc8fae",
   "metadata": {},
   "outputs": [],
   "source": [
    "data = {}\n",
    "for i in range(25):\n",
    "    data[f'df{i}'] = pd.read_csv(f'~/git_env/research/oshea/trident_modifications/testing_mods/SolAb/test_sal/abundance_test3/data/data_row{i}_.csv', delim_whitespace=True)"
   ]
  },
  {
   "cell_type": "code",
   "execution_count": 3,
   "id": "1fba9e0f-e39d-4f0d-9e26-72d026191e03",
   "metadata": {},
   "outputs": [],
   "source": [
    "df1 = data['df0']\n",
    "\n",
    "def what_ions(df, ion_list, ray_index):\n",
    "    \"\"\"\n",
    "    determines what ions are returned in handy dandy dataframe from salsa \n",
    "    \n",
    "    :ion_list: list of ions initially passed to salsa\n",
    "    \n",
    "    :ray: lightray index from salsa dataframe\n",
    "    \"\"\"\n",
    "    names = [i for i in ion_list if i in df['name'].tolist() and i in ray_index['name'].tolist()]\n",
    "\n",
    "    return names\n",
    "\n",
    "names = what_ions(df = df1, ion_list = ['Ne VIII', 'Mg X', 'O VI', 'S IV', 'Si III', 'C II', 'N I'], ray_index = df1[df1['lightray_index'] == 62])\n"
   ]
  },
  {
   "cell_type": "code",
   "execution_count": 4,
   "id": "b7b6f781-7bd0-4f37-bf9c-1a8e1b8b9fee",
   "metadata": {},
   "outputs": [],
   "source": [
    "def pick_intervals(file_dictionary, lightray):\n",
    "    \n",
    "    master_df = pd.DataFrame()\n",
    "    \n",
    "    for df in file_dictionary:\n",
    "        obj = file_dictionary[df]\n",
    "        master_df = master_df.append(obj[obj['lightray_index'] == lightray])\n",
    "        \n",
    "    master_df.reset_index(inplace=True)\n",
    "    \n",
    "    index_list = []\n",
    "    \n",
    "    for index in range(len(master_df)):\n",
    "        \n",
    "        magic_start = master_df['interval_start'][index]\n",
    "        magic_end = master_df['interval_end'][index]\n",
    "\n",
    "        if index == 0:\n",
    "            index_list.append([magic_start, magic_end])\n",
    "        elif [magic_start, magic_end] in index_list:\n",
    "            pass\n",
    "        else:\n",
    "            \n",
    "            count = 0\n",
    "\n",
    "            for x in range(len(index_list)):\n",
    "\n",
    "                if [magic_start, magic_end] in index_list:\n",
    "                    pass\n",
    "                \n",
    "                elif index_list[x][0] == magic_start:\n",
    "                    if magic_end > index_list[x][1]:\n",
    "                        index_list[x][1] = magic_end\n",
    "                    else:\n",
    "                        count += 1\n",
    "\n",
    "                elif index_list[x][1] == magic_end:\n",
    "                    if magic_start < index_list[x][0]:\n",
    "                        index_list[x][0] = magic_start\n",
    "                    else:\n",
    "                        count += 1\n",
    "  \n",
    "            if [magic_start, magic_end] not in index_list and count == 0:\n",
    "                index_list.append([magic_start, magic_end])\n",
    "            \n",
    "    return master_df, index_list"
   ]
  },
  {
   "cell_type": "code",
   "execution_count": 5,
   "id": "f858a0a8-1fda-4d5d-b054-5cf9d034d328",
   "metadata": {},
   "outputs": [
    {
     "data": {
      "text/plain": [
       "[[102, 132.0],\n",
       " [178, 215.0],\n",
       " [373, 384.0],\n",
       " [351, 365.0],\n",
       " [215, 219.0],\n",
       " [232, 357.0],\n",
       " [258, 283.0],\n",
       " [284, 357.0],\n",
       " [357, 365.0],\n",
       " [234, 264.0],\n",
       " [266, 270.0],\n",
       " [273, 276.0],\n",
       " [277, 279.0]]"
      ]
     },
     "execution_count": 5,
     "metadata": {},
     "output_type": "execute_result"
    }
   ],
   "source": [
    "master_df, index_list = pick_intervals(data, 62)\n",
    "index_list"
   ]
  },
  {
   "cell_type": "code",
   "execution_count": 6,
   "id": "b7f81e54-04ca-47e6-a22f-8ca354ced1fe",
   "metadata": {},
   "outputs": [],
   "source": [
    "def hist_plot(absorber_df, thing_we_care_about, xleft=13.0, xright=13.6, lims=False):\n",
    "    \n",
    "    dic = {}\n",
    "    for index in range(len(absorber_df)):\n",
    "        if index == 0:\n",
    "            dic[f\"{absorber_df['name'][index]}\"] = []\n",
    "        else:\n",
    "            if absorber_df['name'][index] == absorber_df['name'][index-1]:\n",
    "                pass\n",
    "            else:\n",
    "                dic[f\"{absorber_df['name'][index]}\"] = []\n",
    "                \n",
    "    for ion in dic:\n",
    "        for index in range(len(absorber_df)):\n",
    "            if absorber_df['name'][index] == ion:\n",
    "                dic[ion].append(absorber_df[thing_we_care_about][index])\n",
    "#         print(dic[ion])\n",
    "        plt.hist(dic[ion], label=ion)\n",
    "        if lims is not False:\n",
    "            plt.xlim(xleft, xright)\n",
    "    plt.legend()\n",
    "    \n",
    "    return dic"
   ]
  },
  {
   "cell_type": "code",
   "execution_count": 7,
   "id": "937b0254-3b7a-4146-8a70-21460f5fda80",
   "metadata": {},
   "outputs": [
    {
     "name": "stdout",
     "output_type": "stream",
     "text": [
      "interval: [102, 132.0], Counter({'O VI': 25})\n",
      "df length = 25\n"
     ]
    },
    {
     "data": {
      "image/png": "[encoded data removed]",
      "text/plain": [
       "<Figure size 432x288 with 1 Axes>"
      ]
     },
     "metadata": {
      "needs_background": "light"
     },
     "output_type": "display_data"
    },
    {
     "name": "stdout",
     "output_type": "stream",
     "text": [
      "interval: [178, 215.0], Counter({'O VI': 25})\n",
      "df length = 25\n"
     ]
    },
    {
     "data": {
      "image/png": "[encoded data removed]",
      "text/plain": [
       "<Figure size 432x288 with 1 Axes>"
      ]
     },
     "metadata": {
      "needs_background": "light"
     },
     "output_type": "display_data"
    },
    {
     "name": "stdout",
     "output_type": "stream",
     "text": [
      "interval: [373, 384.0], Counter({'O VI': 25})\n",
      "df length = 25\n"
     ]
    },
    {
     "data": {
      "image/png": "[encoded data removed]",
      "text/plain": [
       "<Figure size 432x288 with 1 Axes>"
      ]
     },
     "metadata": {
      "needs_background": "light"
     },
     "output_type": "display_data"
    },
    {
     "name": "stdout",
     "output_type": "stream",
     "text": [
      "interval: [351, 365.0], Counter({'C II': 50, 'S IV': 25, 'Si III': 25})\n",
      "df length = 100\n"
     ]
    },
    {
     "data": {
      "image/png": "[encoded data removed]",
      "text/plain": [
       "<Figure size 432x288 with 1 Axes>"
      ]
     },
     "metadata": {
      "needs_background": "light"
     },
     "output_type": "display_data"
    },
    {
     "name": "stdout",
     "output_type": "stream",
     "text": [
      "interval: [215, 219.0], Counter({'Si III': 25, 'C II': 25})\n",
      "df length = 50\n"
     ]
    },
    {
     "data": {
      "image/png": "[encoded data removed]",
      "text/plain": [
       "<Figure size 432x288 with 1 Axes>"
      ]
     },
     "metadata": {
      "needs_background": "light"
     },
     "output_type": "display_data"
    },
    {
     "name": "stdout",
     "output_type": "stream",
     "text": [
      "interval: [232, 357.0], Counter({'N I': 100, 'Si III': 75, 'C II': 25})\n",
      "df length = 200\n"
     ]
    },
    {
     "data": {
      "image/png": "[encoded data removed]",
      "text/plain": [
       "<Figure size 432x288 with 1 Axes>"
      ]
     },
     "metadata": {
      "needs_background": "light"
     },
     "output_type": "display_data"
    },
    {
     "name": "stdout",
     "output_type": "stream",
     "text": [
      "interval: [258, 283.0], Counter({'N I': 75, 'Si III': 25})\n",
      "df length = 100\n"
     ]
    },
    {
     "data": {
      "image/png": "[encoded data removed]",
      "text/plain": [
       "<Figure size 432x288 with 1 Axes>"
      ]
     },
     "metadata": {
      "needs_background": "light"
     },
     "output_type": "display_data"
    },
    {
     "name": "stdout",
     "output_type": "stream",
     "text": [
      "interval: [284, 357.0], Counter({'Si III': 25})\n",
      "df length = 25\n"
     ]
    },
    {
     "data": {
      "image/png": "[encoded data removed]",
      "text/plain": [
       "<Figure size 432x288 with 1 Axes>"
      ]
     },
     "metadata": {
      "needs_background": "light"
     },
     "output_type": "display_data"
    },
    {
     "name": "stdout",
     "output_type": "stream",
     "text": [
      "interval: [357, 365.0], Counter({'C II': 50, 'Si III': 25})\n",
      "df length = 75\n"
     ]
    },
    {
     "data": {
      "image/png": "[encoded data removed]",
      "text/plain": [
       "<Figure size 432x288 with 1 Axes>"
      ]
     },
     "metadata": {
      "needs_background": "light"
     },
     "output_type": "display_data"
    },
    {
     "name": "stdout",
     "output_type": "stream",
     "text": [
      "interval: [234, 264.0], Counter({'N I': 25})\n",
      "df length = 25\n"
     ]
    },
    {
     "data": {
      "image/png": "[encoded data removed]",
      "text/plain": [
       "<Figure size 432x288 with 1 Axes>"
      ]
     },
     "metadata": {
      "needs_background": "light"
     },
     "output_type": "display_data"
    },
    {
     "name": "stdout",
     "output_type": "stream",
     "text": [
      "interval: [266, 270.0], Counter({'N I': 25})\n",
      "df length = 25\n"
     ]
    },
    {
     "data": {
      "image/png": "[encoded data removed]",
      "text/plain": [
       "<Figure size 432x288 with 1 Axes>"
      ]
     },
     "metadata": {
      "needs_background": "light"
     },
     "output_type": "display_data"
    },
    {
     "name": "stdout",
     "output_type": "stream",
     "text": [
      "interval: [273, 276.0], Counter({'N I': 25})\n",
      "df length = 25\n"
     ]
    },
    {
     "data": {
      "image/png": "[encoded data removed]",
      "text/plain": [
       "<Figure size 432x288 with 1 Axes>"
      ]
     },
     "metadata": {
      "needs_background": "light"
     },
     "output_type": "display_data"
    },
    {
     "name": "stdout",
     "output_type": "stream",
     "text": [
      "interval: [277, 279.0], Counter({'N I': 25})\n",
      "df length = 25\n"
     ]
    },
    {
     "data": {
      "image/png": "[encoded data removed]",
      "text/plain": [
       "<Figure size 432x288 with 1 Axes>"
      ]
     },
     "metadata": {
      "needs_background": "light"
     },
     "output_type": "display_data"
    }
   ],
   "source": [
    "for interval in index_list:\n",
    "    df = master_df[(master_df['interval_start'] >= interval[0]) & (master_df['interval_end'] <= interval[1])]\n",
    "    name_list=[]\n",
    "    for name in df['name']:\n",
    "        name_list.append(name)\n",
    "    print(f\"interval: {interval}, {collections.Counter(name_list)}\")\n",
    "    print(f\"df length = {len(df)}\")\n",
    "    df.reset_index(inplace=True)\n",
    "    plt.figure()\n",
    "    hist_plot(df, 'col_dens')\n",
    "    plt.show()\n",
    "    "
   ]
  },
  {
   "cell_type": "code",
   "execution_count": 8,
   "id": "e1b5fd51-4025-40b2-9b96-d6b40e84bfec",
   "metadata": {},
   "outputs": [
    {
     "name": "stdout",
     "output_type": "stream",
     "text": [
      "Counter({'O VI': 25})\n"
     ]
    },
    {
     "data": {
      "text/html": [
       "<div>\n",
       "<style scoped>\n",
       "    .dataframe tbody tr th:only-of-type {\n",
       "        vertical-align: middle;\n",
       "    }\n",
       "\n",
       "    .dataframe tbody tr th {\n",
       "        vertical-align: top;\n",
       "    }\n",
       "\n",
       "    .dataframe thead th {\n",
       "        text-align: right;\n",
       "    }\n",
       "</style>\n",
       "<table border=\"1\" class=\"dataframe\">\n",
       "  <thead>\n",
       "    <tr style=\"text-align: right;\">\n",
       "      <th></th>\n",
       "      <th>level_0</th>\n",
       "      <th>index</th>\n",
       "      <th>name</th>\n",
       "      <th>wave</th>\n",
       "      <th>redshift</th>\n",
       "      <th>col_dens</th>\n",
       "      <th>delta_v</th>\n",
       "      <th>vel_dispersion</th>\n",
       "      <th>interval_start</th>\n",
       "      <th>interval_end</th>\n",
       "      <th>density</th>\n",
       "      <th>temperature</th>\n",
       "      <th>metallicity</th>\n",
       "      <th>lightray_index</th>\n",
       "    </tr>\n",
       "  </thead>\n",
       "  <tbody>\n",
       "    <tr>\n",
       "      <th>0</th>\n",
       "      <td>0</td>\n",
       "      <td>48</td>\n",
       "      <td>O VI</td>\n",
       "      <td>1031.912</td>\n",
       "      <td>0.0</td>\n",
       "      <td>13.256224</td>\n",
       "      <td>117.556132</td>\n",
       "      <td>11.379019</td>\n",
       "      <td>102</td>\n",
       "      <td>132.0</td>\n",
       "      <td>5.448518e-29</td>\n",
       "      <td>136130.406452</td>\n",
       "      <td>1.096768</td>\n",
       "      <td>62.0</td>\n",
       "    </tr>\n",
       "    <tr>\n",
       "      <th>1</th>\n",
       "      <td>17</td>\n",
       "      <td>48</td>\n",
       "      <td>O VI</td>\n",
       "      <td>1031.912</td>\n",
       "      <td>0.0</td>\n",
       "      <td>13.256224</td>\n",
       "      <td>117.556132</td>\n",
       "      <td>11.379019</td>\n",
       "      <td>102</td>\n",
       "      <td>132.0</td>\n",
       "      <td>5.448518e-29</td>\n",
       "      <td>136130.406452</td>\n",
       "      <td>1.096768</td>\n",
       "      <td>62.0</td>\n",
       "    </tr>\n",
       "    <tr>\n",
       "      <th>2</th>\n",
       "      <td>34</td>\n",
       "      <td>48</td>\n",
       "      <td>O VI</td>\n",
       "      <td>1031.912</td>\n",
       "      <td>0.0</td>\n",
       "      <td>13.256224</td>\n",
       "      <td>117.556132</td>\n",
       "      <td>11.379019</td>\n",
       "      <td>102</td>\n",
       "      <td>132.0</td>\n",
       "      <td>5.448518e-29</td>\n",
       "      <td>136130.406452</td>\n",
       "      <td>1.096768</td>\n",
       "      <td>62.0</td>\n",
       "    </tr>\n",
       "    <tr>\n",
       "      <th>3</th>\n",
       "      <td>51</td>\n",
       "      <td>48</td>\n",
       "      <td>O VI</td>\n",
       "      <td>1031.912</td>\n",
       "      <td>0.0</td>\n",
       "      <td>13.256224</td>\n",
       "      <td>117.556132</td>\n",
       "      <td>11.379019</td>\n",
       "      <td>102</td>\n",
       "      <td>132.0</td>\n",
       "      <td>5.448518e-29</td>\n",
       "      <td>136130.406452</td>\n",
       "      <td>1.096768</td>\n",
       "      <td>62.0</td>\n",
       "    </tr>\n",
       "    <tr>\n",
       "      <th>4</th>\n",
       "      <td>68</td>\n",
       "      <td>48</td>\n",
       "      <td>O VI</td>\n",
       "      <td>1031.912</td>\n",
       "      <td>0.0</td>\n",
       "      <td>13.256224</td>\n",
       "      <td>117.556132</td>\n",
       "      <td>11.379019</td>\n",
       "      <td>102</td>\n",
       "      <td>132.0</td>\n",
       "      <td>5.448518e-29</td>\n",
       "      <td>136130.406452</td>\n",
       "      <td>1.096768</td>\n",
       "      <td>62.0</td>\n",
       "    </tr>\n",
       "    <tr>\n",
       "      <th>5</th>\n",
       "      <td>85</td>\n",
       "      <td>48</td>\n",
       "      <td>O VI</td>\n",
       "      <td>1031.912</td>\n",
       "      <td>0.0</td>\n",
       "      <td>13.256224</td>\n",
       "      <td>117.556132</td>\n",
       "      <td>11.379019</td>\n",
       "      <td>102</td>\n",
       "      <td>132.0</td>\n",
       "      <td>5.448518e-29</td>\n",
       "      <td>136130.406452</td>\n",
       "      <td>1.096768</td>\n",
       "      <td>62.0</td>\n",
       "    </tr>\n",
       "    <tr>\n",
       "      <th>6</th>\n",
       "      <td>102</td>\n",
       "      <td>48</td>\n",
       "      <td>O VI</td>\n",
       "      <td>1031.912</td>\n",
       "      <td>0.0</td>\n",
       "      <td>13.256224</td>\n",
       "      <td>117.556132</td>\n",
       "      <td>11.379019</td>\n",
       "      <td>102</td>\n",
       "      <td>132.0</td>\n",
       "      <td>5.448518e-29</td>\n",
       "      <td>136130.406452</td>\n",
       "      <td>1.096768</td>\n",
       "      <td>62.0</td>\n",
       "    </tr>\n",
       "    <tr>\n",
       "      <th>7</th>\n",
       "      <td>119</td>\n",
       "      <td>48</td>\n",
       "      <td>O VI</td>\n",
       "      <td>1031.912</td>\n",
       "      <td>0.0</td>\n",
       "      <td>13.256224</td>\n",
       "      <td>117.556132</td>\n",
       "      <td>11.379019</td>\n",
       "      <td>102</td>\n",
       "      <td>132.0</td>\n",
       "      <td>5.448518e-29</td>\n",
       "      <td>136130.406452</td>\n",
       "      <td>1.096768</td>\n",
       "      <td>62.0</td>\n",
       "    </tr>\n",
       "    <tr>\n",
       "      <th>8</th>\n",
       "      <td>136</td>\n",
       "      <td>48</td>\n",
       "      <td>O VI</td>\n",
       "      <td>1031.912</td>\n",
       "      <td>0.0</td>\n",
       "      <td>13.256224</td>\n",
       "      <td>117.556132</td>\n",
       "      <td>11.379019</td>\n",
       "      <td>102</td>\n",
       "      <td>132.0</td>\n",
       "      <td>5.448518e-29</td>\n",
       "      <td>136130.406452</td>\n",
       "      <td>1.096768</td>\n",
       "      <td>62.0</td>\n",
       "    </tr>\n",
       "    <tr>\n",
       "      <th>9</th>\n",
       "      <td>153</td>\n",
       "      <td>48</td>\n",
       "      <td>O VI</td>\n",
       "      <td>1031.912</td>\n",
       "      <td>0.0</td>\n",
       "      <td>13.256224</td>\n",
       "      <td>117.556132</td>\n",
       "      <td>11.379019</td>\n",
       "      <td>102</td>\n",
       "      <td>132.0</td>\n",
       "      <td>5.448518e-29</td>\n",
       "      <td>136130.406452</td>\n",
       "      <td>1.096768</td>\n",
       "      <td>62.0</td>\n",
       "    </tr>\n",
       "    <tr>\n",
       "      <th>10</th>\n",
       "      <td>170</td>\n",
       "      <td>48</td>\n",
       "      <td>O VI</td>\n",
       "      <td>1031.912</td>\n",
       "      <td>0.0</td>\n",
       "      <td>13.256224</td>\n",
       "      <td>117.556132</td>\n",
       "      <td>11.379019</td>\n",
       "      <td>102</td>\n",
       "      <td>132.0</td>\n",
       "      <td>5.448518e-29</td>\n",
       "      <td>136130.406452</td>\n",
       "      <td>1.096768</td>\n",
       "      <td>62.0</td>\n",
       "    </tr>\n",
       "    <tr>\n",
       "      <th>11</th>\n",
       "      <td>187</td>\n",
       "      <td>48</td>\n",
       "      <td>O VI</td>\n",
       "      <td>1031.912</td>\n",
       "      <td>0.0</td>\n",
       "      <td>13.256224</td>\n",
       "      <td>117.556132</td>\n",
       "      <td>11.379019</td>\n",
       "      <td>102</td>\n",
       "      <td>132.0</td>\n",
       "      <td>5.448518e-29</td>\n",
       "      <td>136130.406452</td>\n",
       "      <td>1.096768</td>\n",
       "      <td>62.0</td>\n",
       "    </tr>\n",
       "    <tr>\n",
       "      <th>12</th>\n",
       "      <td>204</td>\n",
       "      <td>48</td>\n",
       "      <td>O VI</td>\n",
       "      <td>1031.912</td>\n",
       "      <td>0.0</td>\n",
       "      <td>13.256224</td>\n",
       "      <td>117.556132</td>\n",
       "      <td>11.379019</td>\n",
       "      <td>102</td>\n",
       "      <td>132.0</td>\n",
       "      <td>5.448518e-29</td>\n",
       "      <td>136130.406452</td>\n",
       "      <td>1.096768</td>\n",
       "      <td>62.0</td>\n",
       "    </tr>\n",
       "    <tr>\n",
       "      <th>13</th>\n",
       "      <td>221</td>\n",
       "      <td>48</td>\n",
       "      <td>O VI</td>\n",
       "      <td>1031.912</td>\n",
       "      <td>0.0</td>\n",
       "      <td>13.256224</td>\n",
       "      <td>117.556132</td>\n",
       "      <td>11.379019</td>\n",
       "      <td>102</td>\n",
       "      <td>132.0</td>\n",
       "      <td>5.448518e-29</td>\n",
       "      <td>136130.406452</td>\n",
       "      <td>1.096768</td>\n",
       "      <td>62.0</td>\n",
       "    </tr>\n",
       "    <tr>\n",
       "      <th>14</th>\n",
       "      <td>238</td>\n",
       "      <td>48</td>\n",
       "      <td>O VI</td>\n",
       "      <td>1031.912</td>\n",
       "      <td>0.0</td>\n",
       "      <td>13.256224</td>\n",
       "      <td>117.556132</td>\n",
       "      <td>11.379019</td>\n",
       "      <td>102</td>\n",
       "      <td>132.0</td>\n",
       "      <td>5.448518e-29</td>\n",
       "      <td>136130.406452</td>\n",
       "      <td>1.096768</td>\n",
       "      <td>62.0</td>\n",
       "    </tr>\n",
       "    <tr>\n",
       "      <th>15</th>\n",
       "      <td>255</td>\n",
       "      <td>48</td>\n",
       "      <td>O VI</td>\n",
       "      <td>1031.912</td>\n",
       "      <td>0.0</td>\n",
       "      <td>13.256224</td>\n",
       "      <td>117.556132</td>\n",
       "      <td>11.379019</td>\n",
       "      <td>102</td>\n",
       "      <td>132.0</td>\n",
       "      <td>5.448518e-29</td>\n",
       "      <td>136130.406452</td>\n",
       "      <td>1.096768</td>\n",
       "      <td>62.0</td>\n",
       "    </tr>\n",
       "    <tr>\n",
       "      <th>16</th>\n",
       "      <td>272</td>\n",
       "      <td>48</td>\n",
       "      <td>O VI</td>\n",
       "      <td>1031.912</td>\n",
       "      <td>0.0</td>\n",
       "      <td>13.256224</td>\n",
       "      <td>117.556132</td>\n",
       "      <td>11.379019</td>\n",
       "      <td>102</td>\n",
       "      <td>132.0</td>\n",
       "      <td>5.448518e-29</td>\n",
       "      <td>136130.406452</td>\n",
       "      <td>1.096768</td>\n",
       "      <td>62.0</td>\n",
       "    </tr>\n",
       "    <tr>\n",
       "      <th>17</th>\n",
       "      <td>289</td>\n",
       "      <td>48</td>\n",
       "      <td>O VI</td>\n",
       "      <td>1031.912</td>\n",
       "      <td>0.0</td>\n",
       "      <td>13.256224</td>\n",
       "      <td>117.556132</td>\n",
       "      <td>11.379019</td>\n",
       "      <td>102</td>\n",
       "      <td>132.0</td>\n",
       "      <td>5.448518e-29</td>\n",
       "      <td>136130.406452</td>\n",
       "      <td>1.096768</td>\n",
       "      <td>62.0</td>\n",
       "    </tr>\n",
       "    <tr>\n",
       "      <th>18</th>\n",
       "      <td>306</td>\n",
       "      <td>48</td>\n",
       "      <td>O VI</td>\n",
       "      <td>1031.912</td>\n",
       "      <td>0.0</td>\n",
       "      <td>13.256224</td>\n",
       "      <td>117.556132</td>\n",
       "      <td>11.379019</td>\n",
       "      <td>102</td>\n",
       "      <td>132.0</td>\n",
       "      <td>5.448518e-29</td>\n",
       "      <td>136130.406452</td>\n",
       "      <td>1.096768</td>\n",
       "      <td>62.0</td>\n",
       "    </tr>\n",
       "    <tr>\n",
       "      <th>19</th>\n",
       "      <td>323</td>\n",
       "      <td>48</td>\n",
       "      <td>O VI</td>\n",
       "      <td>1031.912</td>\n",
       "      <td>0.0</td>\n",
       "      <td>13.256224</td>\n",
       "      <td>117.556132</td>\n",
       "      <td>11.379019</td>\n",
       "      <td>102</td>\n",
       "      <td>132.0</td>\n",
       "      <td>5.448518e-29</td>\n",
       "      <td>136130.406452</td>\n",
       "      <td>1.096768</td>\n",
       "      <td>62.0</td>\n",
       "    </tr>\n",
       "    <tr>\n",
       "      <th>20</th>\n",
       "      <td>340</td>\n",
       "      <td>48</td>\n",
       "      <td>O VI</td>\n",
       "      <td>1031.912</td>\n",
       "      <td>0.0</td>\n",
       "      <td>13.256224</td>\n",
       "      <td>117.556132</td>\n",
       "      <td>11.379019</td>\n",
       "      <td>102</td>\n",
       "      <td>132.0</td>\n",
       "      <td>5.448518e-29</td>\n",
       "      <td>136130.406452</td>\n",
       "      <td>1.096768</td>\n",
       "      <td>62.0</td>\n",
       "    </tr>\n",
       "    <tr>\n",
       "      <th>21</th>\n",
       "      <td>357</td>\n",
       "      <td>48</td>\n",
       "      <td>O VI</td>\n",
       "      <td>1031.912</td>\n",
       "      <td>0.0</td>\n",
       "      <td>13.256224</td>\n",
       "      <td>117.556132</td>\n",
       "      <td>11.379019</td>\n",
       "      <td>102</td>\n",
       "      <td>132.0</td>\n",
       "      <td>5.448518e-29</td>\n",
       "      <td>136130.406452</td>\n",
       "      <td>1.096768</td>\n",
       "      <td>62.0</td>\n",
       "    </tr>\n",
       "    <tr>\n",
       "      <th>22</th>\n",
       "      <td>374</td>\n",
       "      <td>48</td>\n",
       "      <td>O VI</td>\n",
       "      <td>1031.912</td>\n",
       "      <td>0.0</td>\n",
       "      <td>13.256224</td>\n",
       "      <td>117.556132</td>\n",
       "      <td>11.379019</td>\n",
       "      <td>102</td>\n",
       "      <td>132.0</td>\n",
       "      <td>5.448518e-29</td>\n",
       "      <td>136130.406452</td>\n",
       "      <td>1.096768</td>\n",
       "      <td>62.0</td>\n",
       "    </tr>\n",
       "    <tr>\n",
       "      <th>23</th>\n",
       "      <td>391</td>\n",
       "      <td>48</td>\n",
       "      <td>O VI</td>\n",
       "      <td>1031.912</td>\n",
       "      <td>0.0</td>\n",
       "      <td>13.256224</td>\n",
       "      <td>117.556132</td>\n",
       "      <td>11.379019</td>\n",
       "      <td>102</td>\n",
       "      <td>132.0</td>\n",
       "      <td>5.448518e-29</td>\n",
       "      <td>136130.406452</td>\n",
       "      <td>1.096768</td>\n",
       "      <td>62.0</td>\n",
       "    </tr>\n",
       "    <tr>\n",
       "      <th>24</th>\n",
       "      <td>408</td>\n",
       "      <td>48</td>\n",
       "      <td>O VI</td>\n",
       "      <td>1031.912</td>\n",
       "      <td>0.0</td>\n",
       "      <td>13.256224</td>\n",
       "      <td>117.556132</td>\n",
       "      <td>11.379019</td>\n",
       "      <td>102</td>\n",
       "      <td>132.0</td>\n",
       "      <td>5.448518e-29</td>\n",
       "      <td>136130.406452</td>\n",
       "      <td>1.096768</td>\n",
       "      <td>62.0</td>\n",
       "    </tr>\n",
       "  </tbody>\n",
       "</table>\n",
       "</div>"
      ],
      "text/plain": [
       "    level_0  index  name      wave  redshift   col_dens     delta_v  \\\n",
       "0         0     48  O VI  1031.912       0.0  13.256224  117.556132   \n",
       "1        17     48  O VI  1031.912       0.0  13.256224  117.556132   \n",
       "2        34     48  O VI  1031.912       0.0  13.256224  117.556132   \n",
       "3        51     48  O VI  1031.912       0.0  13.256224  117.556132   \n",
       "4        68     48  O VI  1031.912       0.0  13.256224  117.556132   \n",
       "5        85     48  O VI  1031.912       0.0  13.256224  117.556132   \n",
       "6       102     48  O VI  1031.912       0.0  13.256224  117.556132   \n",
       "7       119     48  O VI  1031.912       0.0  13.256224  117.556132   \n",
       "8       136     48  O VI  1031.912       0.0  13.256224  117.556132   \n",
       "9       153     48  O VI  1031.912       0.0  13.256224  117.556132   \n",
       "10      170     48  O VI  1031.912       0.0  13.256224  117.556132   \n",
       "11      187     48  O VI  1031.912       0.0  13.256224  117.556132   \n",
       "12      204     48  O VI  1031.912       0.0  13.256224  117.556132   \n",
       "13      221     48  O VI  1031.912       0.0  13.256224  117.556132   \n",
       "14      238     48  O VI  1031.912       0.0  13.256224  117.556132   \n",
       "15      255     48  O VI  1031.912       0.0  13.256224  117.556132   \n",
       "16      272     48  O VI  1031.912       0.0  13.256224  117.556132   \n",
       "17      289     48  O VI  1031.912       0.0  13.256224  117.556132   \n",
       "18      306     48  O VI  1031.912       0.0  13.256224  117.556132   \n",
       "19      323     48  O VI  1031.912       0.0  13.256224  117.556132   \n",
       "20      340     48  O VI  1031.912       0.0  13.256224  117.556132   \n",
       "21      357     48  O VI  1031.912       0.0  13.256224  117.556132   \n",
       "22      374     48  O VI  1031.912       0.0  13.256224  117.556132   \n",
       "23      391     48  O VI  1031.912       0.0  13.256224  117.556132   \n",
       "24      408     48  O VI  1031.912       0.0  13.256224  117.556132   \n",
       "\n",
       "    vel_dispersion  interval_start  interval_end       density    temperature  \\\n",
       "0        11.379019             102         132.0  5.448518e-29  136130.406452   \n",
       "1        11.379019             102         132.0  5.448518e-29  136130.406452   \n",
       "2        11.379019             102         132.0  5.448518e-29  136130.406452   \n",
       "3        11.379019             102         132.0  5.448518e-29  136130.406452   \n",
       "4        11.379019             102         132.0  5.448518e-29  136130.406452   \n",
       "5        11.379019             102         132.0  5.448518e-29  136130.406452   \n",
       "6        11.379019             102         132.0  5.448518e-29  136130.406452   \n",
       "7        11.379019             102         132.0  5.448518e-29  136130.406452   \n",
       "8        11.379019             102         132.0  5.448518e-29  136130.406452   \n",
       "9        11.379019             102         132.0  5.448518e-29  136130.406452   \n",
       "10       11.379019             102         132.0  5.448518e-29  136130.406452   \n",
       "11       11.379019             102         132.0  5.448518e-29  136130.406452   \n",
       "12       11.379019             102         132.0  5.448518e-29  136130.406452   \n",
       "13       11.379019             102         132.0  5.448518e-29  136130.406452   \n",
       "14       11.379019             102         132.0  5.448518e-29  136130.406452   \n",
       "15       11.379019             102         132.0  5.448518e-29  136130.406452   \n",
       "16       11.379019             102         132.0  5.448518e-29  136130.406452   \n",
       "17       11.379019             102         132.0  5.448518e-29  136130.406452   \n",
       "18       11.379019             102         132.0  5.448518e-29  136130.406452   \n",
       "19       11.379019             102         132.0  5.448518e-29  136130.406452   \n",
       "20       11.379019             102         132.0  5.448518e-29  136130.406452   \n",
       "21       11.379019             102         132.0  5.448518e-29  136130.406452   \n",
       "22       11.379019             102         132.0  5.448518e-29  136130.406452   \n",
       "23       11.379019             102         132.0  5.448518e-29  136130.406452   \n",
       "24       11.379019             102         132.0  5.448518e-29  136130.406452   \n",
       "\n",
       "    metallicity  lightray_index  \n",
       "0      1.096768            62.0  \n",
       "1      1.096768            62.0  \n",
       "2      1.096768            62.0  \n",
       "3      1.096768            62.0  \n",
       "4      1.096768            62.0  \n",
       "5      1.096768            62.0  \n",
       "6      1.096768            62.0  \n",
       "7      1.096768            62.0  \n",
       "8      1.096768            62.0  \n",
       "9      1.096768            62.0  \n",
       "10     1.096768            62.0  \n",
       "11     1.096768            62.0  \n",
       "12     1.096768            62.0  \n",
       "13     1.096768            62.0  \n",
       "14     1.096768            62.0  \n",
       "15     1.096768            62.0  \n",
       "16     1.096768            62.0  \n",
       "17     1.096768            62.0  \n",
       "18     1.096768            62.0  \n",
       "19     1.096768            62.0  \n",
       "20     1.096768            62.0  \n",
       "21     1.096768            62.0  \n",
       "22     1.096768            62.0  \n",
       "23     1.096768            62.0  \n",
       "24     1.096768            62.0  "
      ]
     },
     "execution_count": 8,
     "metadata": {},
     "output_type": "execute_result"
    }
   ],
   "source": [
    "test_df = master_df[(master_df['interval_start'] >= 100) & (master_df['interval_end'] <= 150)]\n",
    "name_list = []\n",
    "for name in test_df['name']:\n",
    "    name_list.append(name)\n",
    "\n",
    "print(collections.Counter(name_list))\n",
    "test_df.reset_index(inplace=True)\n",
    "\n",
    "test_df"
   ]
  },
  {
   "cell_type": "code",
   "execution_count": 9,
   "id": "cc249320-a129-477d-872b-5402053be5e8",
   "metadata": {},
   "outputs": [
    {
     "data": {
      "image/png": "[encoded data removed]",
      "text/plain": [
       "<Figure size 432x288 with 1 Axes>"
      ]
     },
     "metadata": {
      "needs_background": "light"
     },
     "output_type": "display_data"
    }
   ],
   "source": [
    "dic=hist_plot(test_df, 'col_dens')"
   ]
  },
  {
   "cell_type": "code",
   "execution_count": null,
   "id": "0e36488d-fd5e-4411-ab5e-fe2ca287f3a4",
   "metadata": {},
   "outputs": [],
   "source": []
  }
 ],
 "metadata": {
  "kernelspec": {
   "display_name": "Python 3",
   "language": "python",
   "name": "python3"
  },
  "language_info": {
   "codemirror_mode": {
    "name": "ipython",
    "version": 3
   },
   "file_extension": ".py",
   "mimetype": "text/x-python",
   "name": "python",
   "nbconvert_exporter": "python",
   "pygments_lexer": "ipython3",
   "version": "3.7.9"
  }
 },
 "nbformat": 4,
 "nbformat_minor": 5
}
