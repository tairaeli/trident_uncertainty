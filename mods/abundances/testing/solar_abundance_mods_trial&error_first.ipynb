{
 "cells": [
  {
   "cell_type": "code",
   "execution_count": 1,
   "metadata": {},
   "outputs": [],
   "source": [
    "solar_abundance = {\n",
    "    'H' : 1.00e+00, 'He': 1.00e-01, 'Li': 2.04e-09,\n",
    "    'Be': 2.63e-11, 'B' : 6.17e-10, 'C' : 2.45e-04,\n",
    "    'N' : 8.51e-05, 'O' : 4.90e-04, 'F' : 3.02e-08,\n",
    "    'Ne': 1.00e-04, 'Na': 2.14e-06, 'Mg': 3.47e-05,\n",
    "    'Al': 2.95e-06, 'Si': 3.47e-05, 'P' : 3.20e-07,\n",
    "    'S' : 1.84e-05, 'Cl': 1.91e-07, 'Ar': 2.51e-06,\n",
    "    'K' : 1.32e-07, 'Ca': 2.29e-06, 'Sc': 1.48e-09,\n",
    "    'Ti': 1.05e-07, 'V' : 1.00e-08, 'Cr': 4.68e-07,\n",
    "    'Mn': 2.88e-07, 'Fe': 2.82e-05, 'Co': 8.32e-08,\n",
    "    'Ni': 1.78e-06, 'Cu': 1.62e-08, 'Zn': 3.98e-08}"
   ]
  },
  {
   "cell_type": "code",
   "execution_count": 11,
   "metadata": {},
   "outputs": [],
   "source": [
    "import pandas as pd"
   ]
  },
  {
   "cell_type": "code",
   "execution_count": 12,
   "metadata": {},
   "outputs": [],
   "source": [
    "data = pd.read_csv('JINAbase_excerpt.txt')"
   ]
  },
  {
   "cell_type": "code",
   "execution_count": 13,
   "metadata": {},
   "outputs": [
    {
     "data": {
      "text/html": [
       "<div>\n",
       "<style scoped>\n",
       "    .dataframe tbody tr th:only-of-type {\n",
       "        vertical-align: middle;\n",
       "    }\n",
       "\n",
       "    .dataframe tbody tr th {\n",
       "        vertical-align: top;\n",
       "    }\n",
       "\n",
       "    .dataframe thead th {\n",
       "        text-align: right;\n",
       "    }\n",
       "</style>\n",
       "<table border=\"1\" class=\"dataframe\">\n",
       "  <thead>\n",
       "    <tr style=\"text-align: right;\">\n",
       "      <th></th>\n",
       "      <th># JINA_ID    C/Fe    O/Fe    Fe/H    Mg/Fe    Si/Fe</th>\n",
       "    </tr>\n",
       "  </thead>\n",
       "  <tbody>\n",
       "    <tr>\n",
       "      <th>0</th>\n",
       "      <td>6 -0.59 0.51 -1.78 -0.01 0.08</td>\n",
       "    </tr>\n",
       "  </tbody>\n",
       "</table>\n",
       "</div>"
      ],
      "text/plain": [
       "  # JINA_ID    C/Fe    O/Fe    Fe/H    Mg/Fe    Si/Fe\n",
       "0                      6 -0.59 0.51 -1.78 -0.01 0.08 "
      ]
     },
     "execution_count": 13,
     "metadata": {},
     "output_type": "execute_result"
    }
   ],
   "source": [
    "data"
   ]
  },
  {
   "cell_type": "code",
   "execution_count": 14,
   "metadata": {},
   "outputs": [
    {
     "data": {
      "text/plain": [
       "# JINA_ID    C/Fe    O/Fe    Fe/H    Mg/Fe    Si/Fe    6 -0.59 0.51 -1.78 -0.01 0.08\n",
       "Name: 0, dtype: object"
      ]
     },
     "execution_count": 14,
     "metadata": {},
     "output_type": "execute_result"
    }
   ],
   "source": [
    "data.iloc[0]"
   ]
  },
  {
   "cell_type": "code",
   "execution_count": 15,
   "metadata": {},
   "outputs": [
    {
     "data": {
      "text/plain": [
       "'6 -0.59 0.51 -1.78 -0.01 0.08'"
      ]
     },
     "execution_count": 15,
     "metadata": {},
     "output_type": "execute_result"
    }
   ],
   "source": [
    "data.iloc[0][0]"
   ]
  },
  {
   "cell_type": "code",
   "execution_count": 16,
   "metadata": {},
   "outputs": [
    {
     "data": {
      "text/plain": [
       "(1, 1)"
      ]
     },
     "execution_count": 16,
     "metadata": {},
     "output_type": "execute_result"
    }
   ],
   "source": [
    "data.shape"
   ]
  },
  {
   "cell_type": "code",
   "execution_count": 17,
   "metadata": {},
   "outputs": [
    {
     "data": {
      "text/plain": [
       "str"
      ]
     },
     "execution_count": 17,
     "metadata": {},
     "output_type": "execute_result"
    }
   ],
   "source": [
    "type(data.iloc[0][0])"
   ]
  },
  {
   "cell_type": "code",
   "execution_count": 18,
   "metadata": {},
   "outputs": [],
   "source": [
    "shit = '# JINA_ID C/Fe O/Fe Fe/H Mg/Fe Si/Fe'"
   ]
  },
  {
   "cell_type": "code",
   "execution_count": 19,
   "metadata": {},
   "outputs": [],
   "source": [
    "a = shit.split()"
   ]
  },
  {
   "cell_type": "code",
   "execution_count": 20,
   "metadata": {},
   "outputs": [
    {
     "data": {
      "text/plain": [
       "['#', 'JINA_ID', 'C/Fe', 'O/Fe', 'Fe/H', 'Mg/Fe', 'Si/Fe']"
      ]
     },
     "execution_count": 20,
     "metadata": {},
     "output_type": "execute_result"
    }
   ],
   "source": [
    "a"
   ]
  },
  {
   "cell_type": "code",
   "execution_count": 21,
   "metadata": {},
   "outputs": [],
   "source": [
    "a[0] = a[0] + a[1]"
   ]
  },
  {
   "cell_type": "code",
   "execution_count": 22,
   "metadata": {},
   "outputs": [
    {
     "data": {
      "text/plain": [
       "'#JINA_ID'"
      ]
     },
     "execution_count": 22,
     "metadata": {},
     "output_type": "execute_result"
    }
   ],
   "source": [
    "a[0]"
   ]
  },
  {
   "cell_type": "code",
   "execution_count": 23,
   "metadata": {},
   "outputs": [],
   "source": [
    "b = a.remove(a[1])"
   ]
  },
  {
   "cell_type": "code",
   "execution_count": 103,
   "metadata": {},
   "outputs": [
    {
     "ename": "ValueError",
     "evalue": "Names should be an ordered collection.",
     "output_type": "error",
     "traceback": [
      "\u001b[0;31m---------------------------------------------------------------------------\u001b[0m",
      "\u001b[0;31mValueError\u001b[0m                                Traceback (most recent call last)",
      "\u001b[0;32m<ipython-input-103-68ecaa08e9f5>\u001b[0m in \u001b[0;36m<module>\u001b[0;34m\u001b[0m\n\u001b[0;32m----> 1\u001b[0;31m \u001b[0mnew_data\u001b[0m \u001b[0;34m=\u001b[0m \u001b[0mpd\u001b[0m\u001b[0;34m.\u001b[0m\u001b[0mread_csv\u001b[0m\u001b[0;34m(\u001b[0m\u001b[0;34m'JINAbase_excerpt.txt'\u001b[0m\u001b[0;34m,\u001b[0m \u001b[0mnames\u001b[0m \u001b[0;34m=\u001b[0m \u001b[0mb\u001b[0m\u001b[0;34m)\u001b[0m\u001b[0;34m\u001b[0m\u001b[0;34m\u001b[0m\u001b[0m\n\u001b[0m",
      "\u001b[0;32m~/anaconda3/lib/python3.8/site-packages/pandas/io/parsers.py\u001b[0m in \u001b[0;36mread_csv\u001b[0;34m(filepath_or_buffer, sep, delimiter, header, names, index_col, usecols, squeeze, prefix, mangle_dupe_cols, dtype, engine, converters, true_values, false_values, skipinitialspace, skiprows, skipfooter, nrows, na_values, keep_default_na, na_filter, verbose, skip_blank_lines, parse_dates, infer_datetime_format, keep_date_col, date_parser, dayfirst, cache_dates, iterator, chunksize, compression, thousands, decimal, lineterminator, quotechar, quoting, doublequote, escapechar, comment, encoding, dialect, error_bad_lines, warn_bad_lines, delim_whitespace, low_memory, memory_map, float_precision)\u001b[0m\n\u001b[1;32m    684\u001b[0m     )\n\u001b[1;32m    685\u001b[0m \u001b[0;34m\u001b[0m\u001b[0m\n\u001b[0;32m--> 686\u001b[0;31m     \u001b[0;32mreturn\u001b[0m \u001b[0m_read\u001b[0m\u001b[0;34m(\u001b[0m\u001b[0mfilepath_or_buffer\u001b[0m\u001b[0;34m,\u001b[0m \u001b[0mkwds\u001b[0m\u001b[0;34m)\u001b[0m\u001b[0;34m\u001b[0m\u001b[0;34m\u001b[0m\u001b[0m\n\u001b[0m\u001b[1;32m    687\u001b[0m \u001b[0;34m\u001b[0m\u001b[0m\n\u001b[1;32m    688\u001b[0m \u001b[0;34m\u001b[0m\u001b[0m\n",
      "\u001b[0;32m~/anaconda3/lib/python3.8/site-packages/pandas/io/parsers.py\u001b[0m in \u001b[0;36m_read\u001b[0;34m(filepath_or_buffer, kwds)\u001b[0m\n\u001b[1;32m    447\u001b[0m \u001b[0;34m\u001b[0m\u001b[0m\n\u001b[1;32m    448\u001b[0m     \u001b[0;31m# Check for duplicates in names.\u001b[0m\u001b[0;34m\u001b[0m\u001b[0;34m\u001b[0m\u001b[0;34m\u001b[0m\u001b[0m\n\u001b[0;32m--> 449\u001b[0;31m     \u001b[0m_validate_names\u001b[0m\u001b[0;34m(\u001b[0m\u001b[0mkwds\u001b[0m\u001b[0;34m.\u001b[0m\u001b[0mget\u001b[0m\u001b[0;34m(\u001b[0m\u001b[0;34m\"names\"\u001b[0m\u001b[0;34m,\u001b[0m \u001b[0;32mNone\u001b[0m\u001b[0;34m)\u001b[0m\u001b[0;34m)\u001b[0m\u001b[0;34m\u001b[0m\u001b[0;34m\u001b[0m\u001b[0m\n\u001b[0m\u001b[1;32m    450\u001b[0m \u001b[0;34m\u001b[0m\u001b[0m\n\u001b[1;32m    451\u001b[0m     \u001b[0;31m# Create the parser.\u001b[0m\u001b[0;34m\u001b[0m\u001b[0;34m\u001b[0m\u001b[0;34m\u001b[0m\u001b[0m\n",
      "\u001b[0;32m~/anaconda3/lib/python3.8/site-packages/pandas/io/parsers.py\u001b[0m in \u001b[0;36m_validate_names\u001b[0;34m(names)\u001b[0m\n\u001b[1;32m    415\u001b[0m             \u001b[0;32mraise\u001b[0m \u001b[0mValueError\u001b[0m\u001b[0;34m(\u001b[0m\u001b[0;34m\"Duplicate names are not allowed.\"\u001b[0m\u001b[0;34m)\u001b[0m\u001b[0;34m\u001b[0m\u001b[0;34m\u001b[0m\u001b[0m\n\u001b[1;32m    416\u001b[0m         \u001b[0;32mif\u001b[0m \u001b[0;32mnot\u001b[0m \u001b[0mis_list_like\u001b[0m\u001b[0;34m(\u001b[0m\u001b[0mnames\u001b[0m\u001b[0;34m,\u001b[0m \u001b[0mallow_sets\u001b[0m\u001b[0;34m=\u001b[0m\u001b[0;32mFalse\u001b[0m\u001b[0;34m)\u001b[0m\u001b[0;34m:\u001b[0m\u001b[0;34m\u001b[0m\u001b[0;34m\u001b[0m\u001b[0m\n\u001b[0;32m--> 417\u001b[0;31m             \u001b[0;32mraise\u001b[0m \u001b[0mValueError\u001b[0m\u001b[0;34m(\u001b[0m\u001b[0;34m\"Names should be an ordered collection.\"\u001b[0m\u001b[0;34m)\u001b[0m\u001b[0;34m\u001b[0m\u001b[0;34m\u001b[0m\u001b[0m\n\u001b[0m\u001b[1;32m    418\u001b[0m \u001b[0;34m\u001b[0m\u001b[0m\n\u001b[1;32m    419\u001b[0m \u001b[0;34m\u001b[0m\u001b[0m\n",
      "\u001b[0;31mValueError\u001b[0m: Names should be an ordered collection."
     ]
    }
   ],
   "source": [
    "new_data = pd.read_csv('JINAbase_excerpt.txt', names = b)"
   ]
  },
  {
   "cell_type": "code",
   "execution_count": 25,
   "metadata": {},
   "outputs": [
    {
     "data": {
      "text/html": [
       "<div>\n",
       "<style scoped>\n",
       "    .dataframe tbody tr th:only-of-type {\n",
       "        vertical-align: middle;\n",
       "    }\n",
       "\n",
       "    .dataframe tbody tr th {\n",
       "        vertical-align: top;\n",
       "    }\n",
       "\n",
       "    .dataframe thead th {\n",
       "        text-align: right;\n",
       "    }\n",
       "</style>\n",
       "<table border=\"1\" class=\"dataframe\">\n",
       "  <thead>\n",
       "    <tr style=\"text-align: right;\">\n",
       "      <th></th>\n",
       "      <th># JINA_ID    C/Fe    O/Fe    Fe/H    Mg/Fe    Si/Fe</th>\n",
       "    </tr>\n",
       "  </thead>\n",
       "  <tbody>\n",
       "    <tr>\n",
       "      <th>0</th>\n",
       "      <td>6 -0.59 0.51 -1.78 -0.01 0.08</td>\n",
       "    </tr>\n",
       "  </tbody>\n",
       "</table>\n",
       "</div>"
      ],
      "text/plain": [
       "  # JINA_ID    C/Fe    O/Fe    Fe/H    Mg/Fe    Si/Fe\n",
       "0                      6 -0.59 0.51 -1.78 -0.01 0.08 "
      ]
     },
     "execution_count": 25,
     "metadata": {},
     "output_type": "execute_result"
    }
   ],
   "source": [
    "new_data"
   ]
  },
  {
   "cell_type": "code",
   "execution_count": 26,
   "metadata": {},
   "outputs": [
    {
     "data": {
      "text/plain": [
       "(1, 1)"
      ]
     },
     "execution_count": 26,
     "metadata": {},
     "output_type": "execute_result"
    }
   ],
   "source": [
    "new_data.shape"
   ]
  },
  {
   "cell_type": "code",
   "execution_count": 104,
   "metadata": {},
   "outputs": [],
   "source": [
    "new_data = pd.read_csv('JINAbase_excerpt_2eb.txt')"
   ]
  },
  {
   "cell_type": "code",
   "execution_count": 28,
   "metadata": {},
   "outputs": [
    {
     "data": {
      "text/html": [
       "<div>\n",
       "<style scoped>\n",
       "    .dataframe tbody tr th:only-of-type {\n",
       "        vertical-align: middle;\n",
       "    }\n",
       "\n",
       "    .dataframe tbody tr th {\n",
       "        vertical-align: top;\n",
       "    }\n",
       "\n",
       "    .dataframe thead th {\n",
       "        text-align: right;\n",
       "    }\n",
       "</style>\n",
       "<table border=\"1\" class=\"dataframe\">\n",
       "  <thead>\n",
       "    <tr style=\"text-align: right;\">\n",
       "      <th></th>\n",
       "      <th>#JINA_ID</th>\n",
       "      <th>C/Fe</th>\n",
       "      <th>O/Fe</th>\n",
       "      <th>Fe/H</th>\n",
       "      <th>Mg/Fe</th>\n",
       "      <th>Si/Fe</th>\n",
       "    </tr>\n",
       "  </thead>\n",
       "  <tbody>\n",
       "    <tr>\n",
       "      <th>0</th>\n",
       "      <td>6</td>\n",
       "      <td>-0.59</td>\n",
       "      <td>0.51</td>\n",
       "      <td>-1.78</td>\n",
       "      <td>-0.01</td>\n",
       "      <td>0.08</td>\n",
       "    </tr>\n",
       "  </tbody>\n",
       "</table>\n",
       "</div>"
      ],
      "text/plain": [
       "   #JINA_ID  C/Fe  O/Fe  Fe/H  Mg/Fe  Si/Fe\n",
       "0         6 -0.59  0.51 -1.78  -0.01   0.08"
      ]
     },
     "execution_count": 28,
     "metadata": {},
     "output_type": "execute_result"
    }
   ],
   "source": [
    "new_data"
   ]
  },
  {
   "cell_type": "code",
   "execution_count": 29,
   "metadata": {},
   "outputs": [],
   "source": [
    "columns = new_data.columns"
   ]
  },
  {
   "cell_type": "code",
   "execution_count": 52,
   "metadata": {},
   "outputs": [
    {
     "data": {
      "text/plain": [
       "{'#JINA_ID': [6],\n",
       " 'C/Fe': [-0.59],\n",
       " 'O/Fe': [0.51],\n",
       " 'Fe/H': [-1.78],\n",
       " 'Mg/Fe': [-0.01],\n",
       " 'Si/Fe': [0.08]}"
      ]
     },
     "execution_count": 52,
     "metadata": {},
     "output_type": "execute_result"
    }
   ],
   "source": [
    "newnew_data = new_data.to_dict(orient='list')\n",
    "newnew_data"
   ]
  },
  {
   "cell_type": "code",
   "execution_count": 53,
   "metadata": {},
   "outputs": [
    {
     "name": "stdout",
     "output_type": "stream",
     "text": [
      "<class 'list'>\n"
     ]
    },
    {
     "data": {
      "text/plain": [
       "[-0.59]"
      ]
     },
     "execution_count": 53,
     "metadata": {},
     "output_type": "execute_result"
    }
   ],
   "source": [
    "print(type(newnew_data['C/Fe']))\n",
    "newnew_data['C/Fe']"
   ]
  },
  {
   "cell_type": "code",
   "execution_count": 38,
   "metadata": {},
   "outputs": [],
   "source": [
    "dic = {'a':1, 'b':2}"
   ]
  },
  {
   "cell_type": "code",
   "execution_count": 46,
   "metadata": {},
   "outputs": [
    {
     "data": {
      "text/plain": [
       "int"
      ]
     },
     "execution_count": 46,
     "metadata": {},
     "output_type": "execute_result"
    }
   ],
   "source": [
    "type(dic['a'])"
   ]
  },
  {
   "cell_type": "code",
   "execution_count": 94,
   "metadata": {},
   "outputs": [
    {
     "name": "stdout",
     "output_type": "stream",
     "text": [
      "Index(['#JINA_ID', 'C/Fe', 'O/Fe', 'Fe/H', 'Mg/Fe', 'Si/Fe'], dtype='object')\n",
      "6\n",
      "<class 'list'>\n"
     ]
    }
   ],
   "source": [
    "print(columns)\n",
    "print(len(columns))\n",
    "columns = columns.to_list()\n",
    "print(type(columns))"
   ]
  },
  {
   "cell_type": "code",
   "execution_count": 32,
   "metadata": {},
   "outputs": [
    {
     "name": "stdout",
     "output_type": "stream",
     "text": [
      "#JINA_ID\n",
      "C/Fe\n",
      "O/Fe\n",
      "Fe/H\n",
      "Mg/Fe\n",
      "Si/Fe\n"
     ]
    },
    {
     "data": {
      "text/plain": [
       "['#JINA_ID', 'C/Fe', 'O/Fe', 'Fe/H', 'Mg/Fe', 'Si/Fe']"
      ]
     },
     "execution_count": 32,
     "metadata": {},
     "output_type": "execute_result"
    }
   ],
   "source": [
    "element_list = []\n",
    "for i in range(len(columns)):\n",
    "    print(columns[i])\n",
    "    element_list.append(columns[i])\n",
    "element_list"
   ]
  },
  {
   "cell_type": "code",
   "execution_count": 33,
   "metadata": {},
   "outputs": [
    {
     "name": "stdout",
     "output_type": "stream",
     "text": [
      "fuckin noice\n"
     ]
    }
   ],
   "source": [
    "string1 = columns[1]\n",
    "string2 = columns[2]\n",
    "combo1 = string1[2] + string1[3]\n",
    "combo2 = string2[2] + string2[3]\n",
    "\n",
    "if combo1 == combo2:\n",
    "    print('fuckin noice')\n",
    "else:\n",
    "    print('what the fuck')\n",
    "# print(string[2])"
   ]
  },
  {
   "cell_type": "code",
   "execution_count": 34,
   "metadata": {},
   "outputs": [
    {
     "name": "stdout",
     "output_type": "stream",
     "text": [
      "e\n"
     ]
    }
   ],
   "source": [
    "print(string1[3])"
   ]
  },
  {
   "cell_type": "code",
   "execution_count": 80,
   "metadata": {},
   "outputs": [
    {
     "data": {
      "text/plain": [
       "{'wow': [4], 'shit': 5, 'oof': 8}"
      ]
     },
     "execution_count": 80,
     "metadata": {},
     "output_type": "execute_result"
    }
   ],
   "source": [
    "dic1 = {'noice': [0], 'wow': [4]}\n",
    "dic2 = {'wow': 2, 'shit':5, 'oof': 8}\n",
    "new_dic = {}\n",
    "for key in dic2.keys():\n",
    "    if key in dic1.keys():\n",
    "        dic2[key] = dic1[key]\n",
    "dic2"
   ]
  },
  {
   "cell_type": "code",
   "execution_count": 75,
   "metadata": {},
   "outputs": [
    {
     "data": {
      "text/plain": [
       "dict_keys(['noice', 'wow'])"
      ]
     },
     "execution_count": 75,
     "metadata": {},
     "output_type": "execute_result"
    }
   ],
   "source": [
    "dic1_keys = dic1.keys()\n",
    "dic1_keys"
   ]
  },
  {
   "cell_type": "code",
   "execution_count": 66,
   "metadata": {},
   "outputs": [
    {
     "ename": "TypeError",
     "evalue": "'set' object is not subscriptable",
     "output_type": "error",
     "traceback": [
      "\u001b[0;31m---------------------------------------------------------------------------\u001b[0m",
      "\u001b[0;31mTypeError\u001b[0m                                 Traceback (most recent call last)",
      "\u001b[0;32m<ipython-input-66-c178b6bc159d>\u001b[0m in \u001b[0;36m<module>\u001b[0;34m\u001b[0m\n\u001b[1;32m      1\u001b[0m \u001b[0;32mfor\u001b[0m \u001b[0mx\u001b[0m \u001b[0;32min\u001b[0m \u001b[0ma\u001b[0m\u001b[0;34m:\u001b[0m\u001b[0;34m\u001b[0m\u001b[0;34m\u001b[0m\u001b[0m\n\u001b[1;32m      2\u001b[0m     \u001b[0;32mfor\u001b[0m \u001b[0my\u001b[0m \u001b[0;32min\u001b[0m \u001b[0mb\u001b[0m\u001b[0;34m:\u001b[0m\u001b[0;34m\u001b[0m\u001b[0;34m\u001b[0m\u001b[0m\n\u001b[0;32m----> 3\u001b[0;31m         \u001b[0;32mif\u001b[0m \u001b[0ma\u001b[0m\u001b[0;34m[\u001b[0m\u001b[0mx\u001b[0m\u001b[0;34m]\u001b[0m \u001b[0;34m==\u001b[0m \u001b[0mb\u001b[0m\u001b[0;34m[\u001b[0m\u001b[0my\u001b[0m\u001b[0;34m]\u001b[0m\u001b[0;34m:\u001b[0m\u001b[0;34m\u001b[0m\u001b[0;34m\u001b[0m\u001b[0m\n\u001b[0m\u001b[1;32m      4\u001b[0m             \u001b[0mprint\u001b[0m\u001b[0;34m(\u001b[0m\u001b[0ma\u001b[0m\u001b[0;34m[\u001b[0m\u001b[0mx\u001b[0m\u001b[0;34m]\u001b[0m\u001b[0;34m,\u001b[0m \u001b[0mb\u001b[0m\u001b[0;34m[\u001b[0m\u001b[0my\u001b[0m\u001b[0;34m]\u001b[0m\u001b[0;34m)\u001b[0m\u001b[0;34m\u001b[0m\u001b[0;34m\u001b[0m\u001b[0m\n",
      "\u001b[0;31mTypeError\u001b[0m: 'set' object is not subscriptable"
     ]
    }
   ],
   "source": [
    "for x in a:\n",
    "    for y in b:\n",
    "        if a[x] == b[y]:\n",
    "            print(a[x], b[y])"
   ]
  },
  {
   "cell_type": "code",
   "execution_count": 59,
   "metadata": {},
   "outputs": [
    {
     "name": "stdout",
     "output_type": "stream",
     "text": [
      "Fe Fe\n",
      "fuckin noice\n"
     ]
    }
   ],
   "source": [
    "for i in range(0, len(element_list)-2):\n",
    "# count = 0\n",
    "# while count <= len(element_list):\n",
    "    \n",
    "\n",
    "    string1 = element_list[i]\n",
    "    string2 = element_list[i+1]\n",
    "    curr_string = string1[2] + string1[3]\n",
    "    next_string = string2[2] + string2[3]\n",
    "    if curr_string == next_string:\n",
    "        print(curr_string, next_string)\n",
    "        print('fuckin noice')\n",
    "#     count += 1\n",
    "#     if element_list[i+1] == len(element_list)-1:\n",
    "#         break"
   ]
  },
  {
   "cell_type": "code",
   "execution_count": null,
   "metadata": {},
   "outputs": [],
   "source": [
    "\"\"\"\n",
    "def find_elements(filename):\n",
    "    import pandas as pd\n",
    "    data = pd.read_csv(filename)\n",
    "    columns = data.columns\n",
    "    element_list = []\n",
    "    for i in range(len(columns)):\n",
    "        element_list.append(columns[i])\n",
    "\"\"\""
   ]
  },
  {
   "cell_type": "code",
   "execution_count": 99,
   "metadata": {},
   "outputs": [
    {
     "data": {
      "text/plain": [
       "['#J', 'C', 'O', 'Fe', 'Mg', 'Si']"
      ]
     },
     "execution_count": 99,
     "metadata": {},
     "output_type": "execute_result"
    }
   ],
   "source": [
    "string = []\n",
    "for i in columns:\n",
    "    if i[1] == '/':\n",
    "        string.append(i[0])\n",
    "    else:\n",
    "        string.append(i[0] + i[1])\n",
    "\n",
    "string"
   ]
  },
  {
   "cell_type": "code",
   "execution_count": 105,
   "metadata": {},
   "outputs": [
    {
     "data": {
      "text/plain": [
       "{'#JINA_ID': [6],\n",
       " 'C/Fe': [-0.59],\n",
       " 'O/Fe': [0.51],\n",
       " 'Fe/H': [-1.78],\n",
       " 'Mg/Fe': [-0.01],\n",
       " 'Si/Fe': [0.08]}"
      ]
     },
     "execution_count": 105,
     "metadata": {},
     "output_type": "execute_result"
    }
   ],
   "source": [
    "nnew_data = new_data.to_dict(orient='list')\n",
    "nnew_data"
   ]
  },
  {
   "cell_type": "code",
   "execution_count": 126,
   "metadata": {},
   "outputs": [],
   "source": [
    "new_data = pd.read_csv('JINAbase_excerpt_2eb.txt')\n",
    "nnew_data = new_data.to_dict(orient='list')\n",
    "keys = list(nnew_data.keys())\n",
    "string = []\n",
    "for i in keys:\n",
    "    if i[1] == '/':\n",
    "        string.append(i[0])\n",
    "    else:\n",
    "        string.append(i[0] + i[1])\n",
    "newest_data = {}\n",
    "for key, i in zip(nnew_data.keys(), string):\n",
    "    newest_data[i] = nnew_data[key]"
   ]
  },
  {
   "cell_type": "code",
   "execution_count": 127,
   "metadata": {},
   "outputs": [
    {
     "data": {
      "text/plain": [
       "{'#J': [6],\n",
       " 'C': [-0.59],\n",
       " 'O': [0.51],\n",
       " 'Fe': [-1.78],\n",
       " 'Mg': [-0.01],\n",
       " 'Si': [0.08]}"
      ]
     },
     "execution_count": 127,
     "metadata": {},
     "output_type": "execute_result"
    }
   ],
   "source": [
    "newest_data"
   ]
  },
  {
   "cell_type": "code",
   "execution_count": 130,
   "metadata": {},
   "outputs": [],
   "source": [
    "def fix_key(data):\n",
    "    new_data = data.to_dict(orient='list')\n",
    "    keys = list(new_data.keys())\n",
    "    string = []\n",
    "    for i in keys:\n",
    "        if i[1] == '/':\n",
    "            string.append(i[0])\n",
    "        else:\n",
    "            string.append(i[0] + i[1])\n",
    "    newest_data = {}\n",
    "    for key, i in zip(new_data.keys(), string):\n",
    "        newest_data[i] = new_data[key]\n",
    "    return newest_data"
   ]
  },
  {
   "cell_type": "code",
   "execution_count": 131,
   "metadata": {},
   "outputs": [],
   "source": [
    "def find_elements(filename, abundance):\n",
    "    import pandas as pd\n",
    "    data = pd.read_csv(filename)\n",
    "#     data_dic = data.to_dict(orient='list')\n",
    "    new_dic = fix_key(data)\n",
    "    for key in abundance.keys():\n",
    "        if key in new_dic.keys():\n",
    "            abundance[key] = new_dic[key]\n",
    "            print('an element was changed to {}'.format(abundance[key]))\n",
    "    return abundance"
   ]
  },
  {
   "cell_type": "code",
   "execution_count": 132,
   "metadata": {},
   "outputs": [],
   "source": [
    "def reading_func(filename = None):\n",
    "    abundance = {\n",
    "        'H' : 1.00e+00, 'He': 1.00e-01, 'Li': 2.04e-09,\n",
    "        'Be': 2.63e-11, 'B' : 6.17e-10, 'C' : 2.45e-04,\n",
    "        'N' : 8.51e-05, 'O' : 4.90e-04, 'F' : 3.02e-08,\n",
    "        'Ne': 1.00e-04, 'Na': 2.14e-06, 'Mg': 3.47e-05,\n",
    "        'Al': 2.95e-06, 'Si': 3.47e-05, 'P' : 3.20e-07,\n",
    "        'S' : 1.84e-05, 'Cl': 1.91e-07, 'Ar': 2.51e-06,\n",
    "        'K' : 1.32e-07, 'Ca': 2.29e-06, 'Sc': 1.48e-09,\n",
    "        'Ti': 1.05e-07, 'V' : 1.00e-08, 'Cr': 4.68e-07,\n",
    "        'Mn': 2.88e-07, 'Fe': 2.82e-05, 'Co': 8.32e-08,\n",
    "        'Ni': 1.78e-06, 'Cu': 1.62e-08, 'Zn': 3.98e-08}\n",
    "    if filename is not None:\n",
    "        abundance = find_elements(filename, abundance)\n",
    "    return abundance"
   ]
  },
  {
   "cell_type": "code",
   "execution_count": 133,
   "metadata": {},
   "outputs": [
    {
     "name": "stdout",
     "output_type": "stream",
     "text": [
      "an element was changed to [-0.59]\n",
      "an element was changed to [0.51]\n",
      "an element was changed to [-0.01]\n",
      "an element was changed to [0.08]\n",
      "an element was changed to [-1.78]\n"
     ]
    },
    {
     "data": {
      "text/plain": [
       "{'H': 1.0,\n",
       " 'He': 0.1,\n",
       " 'Li': 2.04e-09,\n",
       " 'Be': 2.63e-11,\n",
       " 'B': 6.17e-10,\n",
       " 'C': [-0.59],\n",
       " 'N': 8.51e-05,\n",
       " 'O': [0.51],\n",
       " 'F': 3.02e-08,\n",
       " 'Ne': 0.0001,\n",
       " 'Na': 2.14e-06,\n",
       " 'Mg': [-0.01],\n",
       " 'Al': 2.95e-06,\n",
       " 'Si': [0.08],\n",
       " 'P': 3.2e-07,\n",
       " 'S': 1.84e-05,\n",
       " 'Cl': 1.91e-07,\n",
       " 'Ar': 2.51e-06,\n",
       " 'K': 1.32e-07,\n",
       " 'Ca': 2.29e-06,\n",
       " 'Sc': 1.48e-09,\n",
       " 'Ti': 1.05e-07,\n",
       " 'V': 1e-08,\n",
       " 'Cr': 4.68e-07,\n",
       " 'Mn': 2.88e-07,\n",
       " 'Fe': [-1.78],\n",
       " 'Co': 8.32e-08,\n",
       " 'Ni': 1.78e-06,\n",
       " 'Cu': 1.62e-08,\n",
       " 'Zn': 3.98e-08}"
      ]
     },
     "execution_count": 133,
     "metadata": {},
     "output_type": "execute_result"
    }
   ],
   "source": [
    "# filepath = '/home/evelyn/internship/JINAbase_excerpt.txt'\n",
    "filename = 'JINAbase_excerpt_2eb.txt'\n",
    "solar_abundance = reading_func(filename)\n",
    "solar_abundance"
   ]
  },
  {
   "cell_type": "code",
   "execution_count": 81,
   "metadata": {},
   "outputs": [],
   "source": [
    "abundance = {\n",
    "        'H' : 1.00e+00, 'He': 1.00e-01, 'Li': 2.04e-09,\n",
    "        'Be': 2.63e-11, 'B' : 6.17e-10, 'C' : 2.45e-04,\n",
    "        'N' : 8.51e-05, 'O' : 4.90e-04, 'F' : 3.02e-08,\n",
    "        'Ne': 1.00e-04, 'Na': 2.14e-06, 'Mg': 3.47e-05,\n",
    "        'Al': 2.95e-06, 'Si': 3.47e-05, 'P' : 3.20e-07,\n",
    "        'S' : 1.84e-05, 'Cl': 1.91e-07, 'Ar': 2.51e-06,\n",
    "        'K' : 1.32e-07, 'Ca': 2.29e-06, 'Sc': 1.48e-09,\n",
    "        'Ti': 1.05e-07, 'V' : 1.00e-08, 'Cr': 4.68e-07,\n",
    "        'Mn': 2.88e-07, 'Fe': 2.82e-05, 'Co': 8.32e-08,\n",
    "        'Ni': 1.78e-06, 'Cu': 1.62e-08, 'Zn': 3.98e-08}"
   ]
  },
  {
   "cell_type": "code",
   "execution_count": null,
   "metadata": {},
   "outputs": [],
   "source": []
  }
 ],
 "metadata": {
  "kernelspec": {
   "display_name": "Python 3",
   "language": "python",
   "name": "python3"
  },
  "language_info": {
   "codemirror_mode": {
    "name": "ipython",
    "version": 3
   },
   "file_extension": ".py",
   "mimetype": "text/x-python",
   "name": "python",
   "nbconvert_exporter": "python",
   "pygments_lexer": "ipython3",
   "version": "3.8.5"
  }
 },
 "nbformat": 4,
 "nbformat_minor": 4
}
