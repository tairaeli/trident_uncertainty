{
 "cells": [
  {
   "cell_type": "code",
   "execution_count": 11,
   "metadata": {},
   "outputs": [],
   "source": [
    "def plot(x, y, **kwargs):\n",
    "    import matplotlib.pyplot as plt\n",
    "    def add_shit(**kwargs_add):\n",
    "        print(kwargs_add)\n",
    "        plt.annotate(**kwargs_add)\n",
    "    if 'kwargs_add' in kwargs:\n",
    "        kwargs_add = kwargs.pop('kwargs_add')\n",
    "        print(kwargs.keys())\n",
    "        plt.plot(x, y, **kwargs)\n",
    "        add_shit(**kwargs_add)\n",
    "        plt.legend()\n",
    "    else:\n",
    "        plt.plot(x, y, **kwargs)\n",
    "        plt.legend()"
   ]
  },
  {
   "cell_type": "code",
   "execution_count": 12,
   "metadata": {},
   "outputs": [
    {
     "name": "stdout",
     "output_type": "stream",
     "text": [
      "dict_keys(['color', 'linewidth', 'label'])\n",
      "{'text': 'my point', 'xy': (0, 0)}\n"
     ]
    },
    {
     "data": {
      "image/png": "[encoded data removed]",
      "text/plain": [
       "<Figure size 432x288 with 1 Axes>"
      ]
     },
     "metadata": {
      "needs_background": "light"
     },
     "output_type": "display_data"
    }
   ],
   "source": [
    "import numpy as np\n",
    "\n",
    "x = np.arange(-10,11,1)\n",
    "y = x**2\n",
    "kwargs = {'color': 'red', 'linewidth': 5.0, 'label': 'my plot', 'kwargs_add': {'text': 'my point', 'xy': (0,0)}}\n",
    "plot(x, y, **kwargs)"
   ]
  },
  {
   "cell_type": "code",
   "execution_count": 44,
   "metadata": {},
   "outputs": [],
   "source": [
    "dic = {'a': [1,2,3], 'b': 2, 'c': 3}\n",
    "a = dic.pop('a', None)\n",
    "d = dic.pop('d', None)"
   ]
  },
  {
   "cell_type": "code",
   "execution_count": 45,
   "metadata": {},
   "outputs": [
    {
     "data": {
      "text/plain": [
       "list"
      ]
     },
     "execution_count": 45,
     "metadata": {},
     "output_type": "execute_result"
    }
   ],
   "source": [
    "type(a)"
   ]
  },
  {
   "cell_type": "code",
   "execution_count": 40,
   "metadata": {},
   "outputs": [],
   "source": [
    "d"
   ]
  },
  {
   "cell_type": "code",
   "execution_count": 41,
   "metadata": {},
   "outputs": [
    {
     "data": {
      "text/plain": [
       "NoneType"
      ]
     },
     "execution_count": 41,
     "metadata": {},
     "output_type": "execute_result"
    }
   ],
   "source": [
    "type(d)"
   ]
  },
  {
   "cell_type": "code",
   "execution_count": 47,
   "metadata": {},
   "outputs": [
    {
     "name": "stdout",
     "output_type": "stream",
     "text": [
      "yuh\n"
     ]
    }
   ],
   "source": [
    "if type(dic) == dict:\n",
    "    print('yuh')"
   ]
  },
  {
   "cell_type": "code",
   "execution_count": 50,
   "metadata": {},
   "outputs": [],
   "source": [
    "def print_things(filename = None, **kwargs):\n",
    "    \n",
    "    def print_filename(filename, text, **kwargs, **my_args):\n",
    "        print(filename, text)\n",
    "        print(my_list)\n",
    "    def do_stw_filename(filename, funny = None, **my_args):\n",
    "        print(funny)\n",
    "        print(filename)\n",
    "    if filename is not None:\n",
    "        if type(kwargs.pop('my_args', None)) == dict:\n",
    "            \n",
    "            my_args = kwargs.pop('my_args', None)\n",
    "            print_filename(filename, **kwargs)\n",
    "            do_stw_filename(filename, **my_args)\n",
    "        else:\n",
    "            print_filename(filename, **kwargs)\n",
    "#             do_stw_filename(filename, **my_args)\n",
    "    else:\n",
    "        print('oof')"
   ]
  },
  {
   "cell_type": "code",
   "execution_count": 51,
   "metadata": {},
   "outputs": [
    {
     "name": "stdout",
     "output_type": "stream",
     "text": [
      "this_file this is the filename\n"
     ]
    }
   ],
   "source": [
    "my_args = {'funny': 'this is funny', 'my_list': [1,2,3]}\n",
    "kwargs = {'filename': 'this_file', 'text': 'this is the filename'}\n",
    "print_things(**kwargs)"
   ]
  },
  {
   "cell_type": "code",
   "execution_count": 1,
   "metadata": {},
   "outputs": [],
   "source": [
    "def some_rad_science(filename = None, modify_solar = False, ratios = True, **reading_func_args):\n",
    "    \"\"\"\n",
    "    Dictates stellar abundances used in calculating ion balances.\n",
    "    If filename = None, solar abundances will be used. None is the default.\n",
    "    Modify_solar = False is the default:\n",
    "    If modify_solar = False, will return data input as a dictionary. Only those elements    and values provided will be\n",
    "    used in calculating ion balances. \n",
    "If modify_solar = True, switch out element values provided with solar abundances for those elements and provide\n",
    "full dictionary of first 30 elements in periodic table having modified abundances provided by data. All else is same\n",
    "Ratios = True is the default:\n",
    "If ratios = False, data values will not be changed.\n",
    "If ratios = True, data values will be adjusted to accomodate chemical abundance ratios (see def fix_elements, \n",
    "which is called in def find_elements)\n",
    "Right now, only works with datasets able to be read in as a pandas dataframe (see            read_filetype doc string)\n",
    "    \"\"\"\n",
    "    def read_filetype(filename, what_filetype = False, **kwargs):  \n",
    "        \"\"\"\n",
    "    loads data into pandas dataframe\n",
    "    accaptable filetypes: \n",
    "    --> csv, txt, ods, odt, xls, xlsx, xlsm, xlsb, odf, html, fwf, json, orc, h5, hdf5\n",
    "        \"\"\" \n",
    "        import pandas as pd\n",
    "        if what_filetype is not False: #may not even need this but she's here lolololol\n",
    "            print('accaptable filetypes: csv, txt, ods, odt, xls, xlsx, xlsm, xlsb, odf, \t\t\t   html, fwf, json, orc, h5, hdf5')\n",
    "        path, extension = filename.split('.')\n",
    "        if '/' in path:\n",
    "            path_list = filename.split('/')\n",
    "            name = path_list[-1]\n",
    "            print('path was given. name is {}'.format(name))\n",
    "        else:\n",
    "            name = filename\n",
    "            print('only filename was given. name is {}'.format(name))\n",
    "        if extension == 'csv' or extension == 'txt':\n",
    "            data = pd.read_csv(name, **kwargs)\n",
    "        if extension == 'ods' or extension == 'odt' or extension == 'xls' or extension == \t\t'xlsx' or extension == 'xlsm' or extension == 'xlsb' or extension == 'odf':\n",
    "            data = pd.read_excel(name, **kwargs)\n",
    "        if extension == 'html':\n",
    "            data = pd.read_html(name, **kwargs)\n",
    "        if extension == 'fwf':\n",
    "            data = pd.read_fwf(name, **kwargs)\n",
    "        if extension == 'json':\n",
    "            data = pdread_json(name, **kwargs)\n",
    "        if extension == 'orc':\n",
    "            data = pd.read_orc(name, **kwargs)\n",
    "        if extension == 'h5' or extension == 'hdf5':\n",
    "            assert '/' in path, 'pandas hdf reader requires filepath'\n",
    "            data = pd.read_hdf(filename, **kwargs)\n",
    "        return data\n",
    " \n",
    "    def fix_elements(data): #technically newest_data\n",
    "        \"\"\"\n",
    "    calculates abundance ratios for star/thing that we care about given a dataset\n",
    "    keys have already been fixed using fix_key for indexing and matching to solar_abundance\n",
    "        \"\"\"\n",
    "        print('Made it to fix_elements in reading_func')\n",
    "        g1 = data['Fe/H'] #g1, for given data value #1 -- number density of iron to hydrogen \t\t\t    of star/thing we care about\n",
    "        s1 = really_cool_numbers['Fe'] #s1, for solar data value #1 -- number density of iron to \t\t\t\t     hydrogen of Sun\n",
    "        t1 = s1*(10**g1)\n",
    "        dic = {}\n",
    "        dic['Fe'] = t1\n",
    "        for key in really_cool_numbers.keys():\n",
    "            if key in data.keys():\n",
    "                if key == \"Fe\": # since we have already fixed the keys to match keys of \t\t\t\t\t   SolAb, this should work\n",
    "                    pass\n",
    "                else:\n",
    "                    t2 = (really_cool_numbers[key] / s1) * (10**data[key])\n",
    "                    T = t1 * t2\n",
    "                    dic[key] = T\n",
    "        return dic\n",
    "    def fix_key(data): \n",
    "        \"\"\"\n",
    "        amends element keys to ensure they match that of solar \n",
    "        abundances dictionary for indexing/comparing purposes\n",
    "        Handy for data given in ratios \n",
    "        Returns new dictionary with updated keys and unchanged elements\n",
    "        \"\"\"\n",
    "        \"\"\"\n",
    "        convert data to dictionary and ensure each entry is a float and not a list\n",
    "        \"\"\"\n",
    "        new_data = data.to_dict(orient='list') \n",
    "        for i in new_data:\n",
    "            new_data[i] = sum(new_data[i])\n",
    "        \"\"\"\n",
    "        Make list of keys from data dictionary\n",
    "        \"\"\" \n",
    "        keys = list(new_data.keys())\n",
    "        string = []\n",
    "        for i in keys:\n",
    "            if len(i) == 1 or i[1] == '/':\n",
    "                string.append(i[0])\n",
    "            else:\n",
    "                string.append(i[0] + i[1])\n",
    "        \"\"\"\n",
    "        Make new dictionary with new keys and unchanged elements\n",
    "        \"\"\"\n",
    "        newest_data = {}\n",
    "        for key, i in zip(new_data.keys(), string):\n",
    "            newest_data[i] = new_data[key]\n",
    "        return newest_data\n",
    "    \n",
    "    def find_elements(filename, really_cool_numbers, modify_solar = False, ratios = True,    **reading_func_args):\n",
    "        \"\"\"\n",
    "        fixes keys to be consistent with format of keys in solar_abundance\n",
    "\n",
    "        If modify_solar = False:\n",
    "        if ratios = False:\n",
    "        -No values are changed. Returns a dictionary of data provided to be passed to \t\t ion_balance. \n",
    "        if ratios = True:\n",
    "        -fix_elements is called. Returns a dictionary of corrected ratios to be passed to \t\t ion_balance\n",
    "        If modify_solar = True:\n",
    "        if ratios = False:\n",
    "        -matches keys of data provided with keys of solar_abundance. If a match is found, \t\t replaces \n",
    "        value in solar_abundance with value in data provided. Returns solar_abundance \t\tdictionary with updata\n",
    "        values to pass to ion_balance\n",
    "        if ratios = True: \n",
    "        -fix_elements is called. Uses dictionary of corrected ratios to match keys of fixed \t data to keys \n",
    "        -of solar_abundance. If a match is found, replaces value in solar_abundance with \t\t value from \n",
    "        -fix_elements dictionary. Returns solar_abundance dictionary with updated values to \t pass to \n",
    "        -ion_balance\n",
    "\n",
    "        ratios should only be False if data provided has already been corrected \n",
    "        \"\"\"\n",
    "        print('Made it to find_elements in some_rad_science')\n",
    "        if type(reading_func_args.pop('kwargs', None)) == dict:\n",
    "            kwargs = reading_func_args.pop('kwargs', None)\n",
    "            data = read_filetype(filename, **kwargs) \n",
    "        else: \n",
    "            data = read_filetype(filename)\n",
    "        newest_data = fix_keys(data)\n",
    "        if modify_solar == False:\n",
    "            if ratios == False:\n",
    "                adjusted_data = newest_data\n",
    "            if ratios is not False:\n",
    "                adjusted_data = fix_elements(newest_data)\n",
    "            return adjusted_data\n",
    "        if modify_solar is not False:\n",
    "            if ratios == False:\n",
    "                for key in really_cool_numbers.keys():\n",
    "                    if key in newest_data.keys():\n",
    "                        really_cool_numbers[key] = newest_data[key]\n",
    "                        print(f'an element was changed to {really_cool_numbers[key]}')\n",
    "            if ratios is not False:\n",
    "                adjusted_data = fix_elements(newest_data)\n",
    "                for key in really_cool_numbers.keys():\n",
    "                    if key in adjusted_data.keys():\n",
    "                        really_cool_numbers[key] = adjusted_data[key]\n",
    "                        print(f'an element was changed to {really_cool_numbers[key]}')\n",
    "            return really_cool_numbers\n",
    "\n",
    "    really_cool_numbers = {\n",
    "        'H' : 1.00e+00, 'He': 1.00e-01, 'Li': 2.04e-09,\n",
    "        'Be': 2.63e-11, 'B' : 6.17e-10, 'C' : 2.45e-04,\n",
    "        'N' : 8.51e-05, 'O' : 4.90e-04, 'F' : 3.02e-08,\n",
    "        'Ne': 1.00e-04, 'Na': 2.14e-06, 'Mg': 3.47e-05,\n",
    "        'Al': 2.95e-06, 'Si': 3.47e-05, 'P' : 3.20e-07,\n",
    "        'S' : 1.84e-05, 'Cl': 1.91e-07, 'Ar': 2.51e-06,\n",
    "        'K' : 1.32e-07, 'Ca': 2.29e-06, 'Sc': 1.48e-09,\n",
    "        'Ti': 1.05e-07, 'V' : 1.00e-08, 'Cr': 4.68e-07,\n",
    "        'Mn': 2.88e-07, 'Fe': 2.82e-05, 'Co': 8.32e-08,\n",
    "        'Ni': 1.78e-06, 'Cu': 1.62e-08, 'Zn': 3.98e-08}\n",
    "    if filename is not None:\n",
    "            really_cool_numbers = find_elements(**reading_func_args)\n",
    "\n",
    "    return really_cool_numbers\n",
    "    "
   ]
  },
  {
   "cell_type": "code",
   "execution_count": 5,
   "metadata": {},
   "outputs": [],
   "source": [
    "def shit(x, y, **kwargs):\n",
    "    print(x)\n",
    "    print(y)\n",
    "    print_more_things(x, y)\n",
    "def print_more_things(x, y):\n",
    "    print(x[0])\n",
    "    print(y[0])\n",
    "#     print_even_more_things(**kwargs)\n",
    "def print_even_more_things(a = 0, b = 1, **kwargs):\n",
    "    print(a)\n",
    "    print(b)"
   ]
  },
  {
   "cell_type": "code",
   "execution_count": 6,
   "metadata": {},
   "outputs": [
    {
     "name": "stdout",
     "output_type": "stream",
     "text": [
      "ayeeee\n",
      "fuck\n",
      "a\n",
      "f\n"
     ]
    }
   ],
   "source": [
    "x = 'ayeeee'\n",
    "y = 'fuck'\n",
    "kwargs = {'a':1, 'b':2}\n",
    "shit(x, y, **kwargs)"
   ]
  },
  {
   "cell_type": "code",
   "execution_count": null,
   "metadata": {},
   "outputs": [],
   "source": []
  }
 ],
 "metadata": {
  "kernelspec": {
   "display_name": "Python 3",
   "language": "python",
   "name": "python3"
  },
  "language_info": {
   "codemirror_mode": {
    "name": "ipython",
    "version": 3
   },
   "file_extension": ".py",
   "mimetype": "text/x-python",
   "name": "python",
   "nbconvert_exporter": "python",
   "pygments_lexer": "ipython3",
   "version": "3.8.5"
  }
 },
 "nbformat": 4,
 "nbformat_minor": 4
}
