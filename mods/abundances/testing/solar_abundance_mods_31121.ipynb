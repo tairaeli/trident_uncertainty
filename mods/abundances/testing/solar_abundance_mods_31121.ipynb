{
 "cells": [
  {
   "cell_type": "markdown",
   "metadata": {},
   "source": [
    "**Further Modifications:**\n",
    "\n",
    "- right now, she only works with datasets compatible with pandas.read_csv. Would be cool if she could work with other types of datasets\n",
    "\n",
    "--> easiest: modify to work with other datasets that are still able to be read in as a pandas dataframe\n",
    "\n",
    "--> harder: modify to work with literally any set lol (within reason)\n",
    "\n",
    "--> likely that any plausible data type to be used for this can be read with pandas...?\n",
    "\n",
    "    * dinked around with it....have more questions...(bottom of fixing_mods.ipynb\n",
    "\n",
    "- How do we maintain accuracy with datasets consisting of ratios (as JINAbase_exerpt does)?\n",
    "\n",
    "--> is this an issue of modifying all other elements within the dictionary to be ratios?\n",
    "\n",
    "--> should we just create a dictionary containing only the elements specified in the data?\n",
    "\n",
    "    * did this. now have the option of returning either modified full dictionary or simply converting data provided to dictionary\n",
    "    * if modify_solar = something other than 'No' or 'Yes', function does nothing. How do we throw up error?\n",
    "\n",
    "- How do we modify so that changed elements are given as integers instead of lists?\n",
    "\n",
    "--> fixed that!\n",
    "\n",
    "- Does file have to be within same directory? or can we provide file path?"
   ]
  },
  {
   "cell_type": "code",
   "execution_count": 1,
   "metadata": {},
   "outputs": [],
   "source": [
    "\"\"\"\n",
    "dictates stellar abundances used in calculating ion balances.\n",
    "If filename = None, solar abundances will be used\n",
    "modify_solar = 'No' is the default\n",
    "If modify_solar = 'No', will return data input as a dictionary. Only those elements and values provided will be\n",
    "    used in calculating ion balances\n",
    "If modify_solar = 'Yes', switch out element values provided with solar abundances for those elements and provide\n",
    "full dictionary of first 30 elements in periodic table having modified abundances provided by data. All else is same\n",
    "Right now, only works with datasets able to be read in with pandas.read_csv\n",
    "\"\"\"\n",
    "def reading_func(filename = None, modify_solar = False):\n",
    "    def fix_key(data):\n",
    "        \"\"\"\n",
    "        amends element keys to ensure they match that of solar \n",
    "        abundances dictionary for indexing/comparing purposes\n",
    "        Handy for data given in ratios \n",
    "        Returns new dictionary with updated keys and unchanged elements\n",
    "        \"\"\"\n",
    "        new_data = data.to_dict(orient='list') \n",
    "        for i in new_data:\n",
    "            new_data[i] = sum(new_data[i])\n",
    "        keys = list(new_data.keys())\n",
    "        string = []\n",
    "        \"\"\"\n",
    "         Make list of keys from data dictionary\n",
    "        \"\"\" \n",
    "        for i in keys:\n",
    "            if i[1] == '/':\n",
    "                string.append(i[0])\n",
    "            else:\n",
    "                string.append(i[0] + i[1])\n",
    "        newest_data = {}\n",
    "        \"\"\"\n",
    "        Make new dictionary with new keys and unchanged elements\n",
    "        \"\"\"\n",
    "        for key, i in zip(new_data.keys(), string):\n",
    "            newest_data[i] = new_data[key]\n",
    "        return newest_data\n",
    "    \n",
    "    def find_elements(filename, abundance, modify_solar = False):\n",
    "        \"\"\"\n",
    "        If modify_solar = 'Yes':\n",
    "        converts data to a dictionary. Nothing else is changed\n",
    "        If modify_solar = 'No':\n",
    "        Iterate over solar abundance dictionary and new dictionary\n",
    "        If keys match, replace element in solar abundance with element\n",
    "        from new data dictionary\n",
    "        returns updated stellar abundance dictionary\n",
    "        \"\"\"\n",
    "        import pandas as pd\n",
    "        data = pd.read_csv(filename)\n",
    "        if modify_solar == False:\n",
    "            new_data = data.to_dict(orient='list')\n",
    "            for i in new_data:\n",
    "                new_data[i] = sum(new_data[i])\n",
    "            return new_data\n",
    "        if modify_solar is not False:\n",
    "            new_dic = fix_key(data)\n",
    "            for key in abundance.keys():\n",
    "                if key in new_dic.keys():\n",
    "                    abundance[key] = new_dic[key]\n",
    "                    print('an element was changed to {}'.format(abundance[key]))\n",
    "            return abundance\n",
    "    \n",
    "    abundance = {\n",
    "        'H' : 1.00e+00, 'He': 1.00e-01, 'Li': 2.04e-09,\n",
    "        'Be': 2.63e-11, 'B' : 6.17e-10, 'C' : 2.45e-04,\n",
    "        'N' : 8.51e-05, 'O' : 4.90e-04, 'F' : 3.02e-08,\n",
    "        'Ne': 1.00e-04, 'Na': 2.14e-06, 'Mg': 3.47e-05,\n",
    "        'Al': 2.95e-06, 'Si': 3.47e-05, 'P' : 3.20e-07,\n",
    "        'S' : 1.84e-05, 'Cl': 1.91e-07, 'Ar': 2.51e-06,\n",
    "        'K' : 1.32e-07, 'Ca': 2.29e-06, 'Sc': 1.48e-09,\n",
    "        'Ti': 1.05e-07, 'V' : 1.00e-08, 'Cr': 4.68e-07,\n",
    "        'Mn': 2.88e-07, 'Fe': 2.82e-05, 'Co': 8.32e-08,\n",
    "        'Ni': 1.78e-06, 'Cu': 1.62e-08, 'Zn': 3.98e-08}\n",
    "    if filename is not None:\n",
    "        if modify_solar == False:\n",
    "            abundance = find_elements(filename, abundance, modify_solar=False)\n",
    "        if modify_solar is not False:\n",
    "            abundance = find_elements(filename, abundance, modify_solar=True)\n",
    "    return abundance"
   ]
  },
  {
   "cell_type": "code",
   "execution_count": 2,
   "metadata": {},
   "outputs": [
    {
     "data": {
      "text/plain": [
       "{'#JINA_ID': 6,\n",
       " 'C/Fe': -0.59,\n",
       " 'O/Fe': 0.51,\n",
       " 'Fe/H': -1.78,\n",
       " 'Mg/Fe': -0.01,\n",
       " 'Si/Fe': 0.08}"
      ]
     },
     "execution_count": 2,
     "metadata": {},
     "output_type": "execute_result"
    }
   ],
   "source": [
    "# filepath = '/home/evelyn/internship/trident_mods/solar_abundance/JINAbase_excerpt_2eb.txt'\n",
    "filename = 'JINAbase_excerpt_2eb.txt'\n",
    "solar_abundance = reading_func(filename, modify_solar = False)\n",
    "solar_abundance"
   ]
  },
  {
   "cell_type": "code",
   "execution_count": 3,
   "metadata": {},
   "outputs": [
    {
     "name": "stdout",
     "output_type": "stream",
     "text": [
      "an element was changed to -0.59\n",
      "an element was changed to 0.51\n",
      "an element was changed to -0.01\n",
      "an element was changed to 0.08\n",
      "an element was changed to -1.78\n"
     ]
    },
    {
     "data": {
      "text/plain": [
       "{'H': 1.0,\n",
       " 'He': 0.1,\n",
       " 'Li': 2.04e-09,\n",
       " 'Be': 2.63e-11,\n",
       " 'B': 6.17e-10,\n",
       " 'C': -0.59,\n",
       " 'N': 8.51e-05,\n",
       " 'O': 0.51,\n",
       " 'F': 3.02e-08,\n",
       " 'Ne': 0.0001,\n",
       " 'Na': 2.14e-06,\n",
       " 'Mg': -0.01,\n",
       " 'Al': 2.95e-06,\n",
       " 'Si': 0.08,\n",
       " 'P': 3.2e-07,\n",
       " 'S': 1.84e-05,\n",
       " 'Cl': 1.91e-07,\n",
       " 'Ar': 2.51e-06,\n",
       " 'K': 1.32e-07,\n",
       " 'Ca': 2.29e-06,\n",
       " 'Sc': 1.48e-09,\n",
       " 'Ti': 1.05e-07,\n",
       " 'V': 1e-08,\n",
       " 'Cr': 4.68e-07,\n",
       " 'Mn': 2.88e-07,\n",
       " 'Fe': -1.78,\n",
       " 'Co': 8.32e-08,\n",
       " 'Ni': 1.78e-06,\n",
       " 'Cu': 1.62e-08,\n",
       " 'Zn': 3.98e-08}"
      ]
     },
     "execution_count": 3,
     "metadata": {},
     "output_type": "execute_result"
    }
   ],
   "source": [
    "# filepath = '/home/evelyn/internship/trident_mods/solar_abundance/JINAbase_excerpt_2eb.txt'\n",
    "filename = 'JINAbase_excerpt_2eb.txt'\n",
    "solar_abundance = reading_func(filename, modify_solar = True)\n",
    "solar_abundance"
   ]
  },
  {
   "cell_type": "code",
   "execution_count": 4,
   "metadata": {},
   "outputs": [
    {
     "data": {
      "text/plain": [
       "{'#JINA_ID': 6,\n",
       " 'C/Fe': -0.59,\n",
       " 'O/Fe': 0.51,\n",
       " 'Fe/H': -1.78,\n",
       " 'Mg/Fe': -0.01,\n",
       " 'Si/Fe': 0.08}"
      ]
     },
     "execution_count": 4,
     "metadata": {},
     "output_type": "execute_result"
    }
   ],
   "source": [
    "# filepath = '/home/evelyn/internship/trident_mods/solar_abundance/JINAbase_excerpt_2eb.txt'\n",
    "filename = 'JINAbase_excerpt_2eb.txt'\n",
    "solar_abundance = reading_func(filename)\n",
    "solar_abundance"
   ]
  },
  {
   "cell_type": "code",
   "execution_count": null,
   "metadata": {},
   "outputs": [],
   "source": []
  }
 ],
 "metadata": {
  "kernelspec": {
   "display_name": "Python 3",
   "language": "python",
   "name": "python3"
  },
  "language_info": {
   "codemirror_mode": {
    "name": "ipython",
    "version": 3
   },
   "file_extension": ".py",
   "mimetype": "text/x-python",
   "name": "python",
   "nbconvert_exporter": "python",
   "pygments_lexer": "ipython3",
   "version": "3.8.5"
  }
 },
 "nbformat": 4,
 "nbformat_minor": 4
}
