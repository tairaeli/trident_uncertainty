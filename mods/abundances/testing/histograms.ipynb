{
 "cells": [
  {
   "cell_type": "code",
   "execution_count": 5,
   "id": "4cf3eb29-9ca6-4974-8426-465033898b98",
   "metadata": {},
   "outputs": [],
   "source": [
    "import pandas as pd\n",
    "import numpy as np\n",
    "from IPython.display import display as dis, Math as mth, Latex as lat, Markdown as md\n",
    "import matplotlib.pyplot as plt\n",
    "%matplotlib inline"
   ]
  },
  {
   "cell_type": "code",
   "execution_count": 35,
   "id": "e1c03ef8-c16e-437c-a322-47b806167b0d",
   "metadata": {},
   "outputs": [],
   "source": [
    "path = '../test_sal/interval_tests/data/ionlist3data_.csv'\n",
    "pic = '../test_sal/interval_tests/visuals/ionlist0multiplot__ray0.png'\n",
    "df = pd.read_csv(path, delim_whitespace = True)"
   ]
  },
  {
   "cell_type": "code",
   "execution_count": 148,
   "id": "2129e03d-46f3-4076-819f-e977b3eed135",
   "metadata": {},
   "outputs": [
    {
     "data": {
      "text/plain": [
       "<matplotlib.legend.Legend at 0x7fe1dc3ca390>"
      ]
     },
     "execution_count": 148,
     "metadata": {},
     "output_type": "execute_result"
    },
    {
     "data": {
      "image/png": "[encoded data removed]",
      "text/plain": [
       "<Figure size 432x288 with 1 Axes>"
      ]
     },
     "metadata": {
      "needs_background": "light"
     },
     "output_type": "display_data"
    }
   ],
   "source": [
    "ray = df[df['lightray_index']==4.0]\n",
    "ionlist = ['Ne VIII', 'Mg X', 'O VI', 'Si IV', 'Si III', 'C II', 'N I']\n",
    "    \n",
    "names = []\n",
    "\n",
    "for i in ionlist:\n",
    "\n",
    "    if i in df['name'].tolist():\n",
    "        if i in ray['name'].tolist():\n",
    "            names.append(i)\n",
    "        else:\n",
    "            pass\n",
    "    else:\n",
    "        pass\n",
    "\n",
    "for i in names:\n",
    "    ion = ray[ray['name'] == i]\n",
    "    plt.hist(ion['col_dens'], label = i)\n",
    "plt.legend()"
   ]
  },
  {
   "cell_type": "code",
   "execution_count": 142,
   "id": "a1bcf51e-4d91-4776-b4e5-1b34d0490869",
   "metadata": {},
   "outputs": [
    {
     "data": {
      "text/html": [
       "<div>\n",
       "<style scoped>\n",
       "    .dataframe tbody tr th:only-of-type {\n",
       "        vertical-align: middle;\n",
       "    }\n",
       "\n",
       "    .dataframe tbody tr th {\n",
       "        vertical-align: top;\n",
       "    }\n",
       "\n",
       "    .dataframe thead th {\n",
       "        text-align: right;\n",
       "    }\n",
       "</style>\n",
       "<table border=\"1\" class=\"dataframe\">\n",
       "  <thead>\n",
       "    <tr style=\"text-align: right;\">\n",
       "      <th></th>\n",
       "      <th>name</th>\n",
       "      <th>wave</th>\n",
       "      <th>redshift</th>\n",
       "      <th>col_dens</th>\n",
       "      <th>delta_v</th>\n",
       "      <th>vel_dispersion</th>\n",
       "      <th>interval_start</th>\n",
       "      <th>interval_end</th>\n",
       "      <th>density</th>\n",
       "      <th>temperature</th>\n",
       "      <th>metallicity</th>\n",
       "      <th>lightray_index</th>\n",
       "    </tr>\n",
       "  </thead>\n",
       "  <tbody>\n",
       "    <tr>\n",
       "      <th>33</th>\n",
       "      <td>O VI</td>\n",
       "      <td>1031.912</td>\n",
       "      <td>0.0</td>\n",
       "      <td>13.026145</td>\n",
       "      <td>-41.936460</td>\n",
       "      <td>6.837880</td>\n",
       "      <td>81</td>\n",
       "      <td>94.0</td>\n",
       "      <td>6.498653e-29</td>\n",
       "      <td>139076.933118</td>\n",
       "      <td>1.087712</td>\n",
       "      <td>4.0</td>\n",
       "    </tr>\n",
       "    <tr>\n",
       "      <th>34</th>\n",
       "      <td>O VI</td>\n",
       "      <td>1031.912</td>\n",
       "      <td>0.0</td>\n",
       "      <td>12.999352</td>\n",
       "      <td>-206.733800</td>\n",
       "      <td>8.227974</td>\n",
       "      <td>184</td>\n",
       "      <td>210.0</td>\n",
       "      <td>8.962035e-29</td>\n",
       "      <td>122939.876574</td>\n",
       "      <td>1.103157</td>\n",
       "      <td>4.0</td>\n",
       "    </tr>\n",
       "    <tr>\n",
       "      <th>74</th>\n",
       "      <td>Si IV</td>\n",
       "      <td>1402.770</td>\n",
       "      <td>0.0</td>\n",
       "      <td>13.443067</td>\n",
       "      <td>-96.123485</td>\n",
       "      <td>6.500716</td>\n",
       "      <td>105</td>\n",
       "      <td>124.0</td>\n",
       "      <td>7.513635e-27</td>\n",
       "      <td>18470.419382</td>\n",
       "      <td>1.082588</td>\n",
       "      <td>4.0</td>\n",
       "    </tr>\n",
       "    <tr>\n",
       "      <th>75</th>\n",
       "      <td>Si IV</td>\n",
       "      <td>1402.770</td>\n",
       "      <td>0.0</td>\n",
       "      <td>13.417356</td>\n",
       "      <td>-144.600500</td>\n",
       "      <td>7.047664</td>\n",
       "      <td>142</td>\n",
       "      <td>169.0</td>\n",
       "      <td>8.370574e-27</td>\n",
       "      <td>18203.634927</td>\n",
       "      <td>1.100422</td>\n",
       "      <td>4.0</td>\n",
       "    </tr>\n",
       "    <tr>\n",
       "      <th>131</th>\n",
       "      <td>Si III</td>\n",
       "      <td>1206.500</td>\n",
       "      <td>0.0</td>\n",
       "      <td>13.295983</td>\n",
       "      <td>-79.358941</td>\n",
       "      <td>3.010024</td>\n",
       "      <td>101</td>\n",
       "      <td>105.0</td>\n",
       "      <td>6.758190e-28</td>\n",
       "      <td>56457.465996</td>\n",
       "      <td>1.100804</td>\n",
       "      <td>4.0</td>\n",
       "    </tr>\n",
       "    <tr>\n",
       "      <th>132</th>\n",
       "      <td>Si III</td>\n",
       "      <td>1206.500</td>\n",
       "      <td>0.0</td>\n",
       "      <td>15.254317</td>\n",
       "      <td>-119.654861</td>\n",
       "      <td>18.146983</td>\n",
       "      <td>105</td>\n",
       "      <td>169.0</td>\n",
       "      <td>1.366869e-26</td>\n",
       "      <td>14869.571042</td>\n",
       "      <td>1.082121</td>\n",
       "      <td>4.0</td>\n",
       "    </tr>\n",
       "    <tr>\n",
       "      <th>188</th>\n",
       "      <td>C II</td>\n",
       "      <td>903.962</td>\n",
       "      <td>0.0</td>\n",
       "      <td>16.461600</td>\n",
       "      <td>-120.660455</td>\n",
       "      <td>12.689182</td>\n",
       "      <td>101</td>\n",
       "      <td>169.0</td>\n",
       "      <td>1.352071e-26</td>\n",
       "      <td>15343.213270</td>\n",
       "      <td>1.082334</td>\n",
       "      <td>4.0</td>\n",
       "    </tr>\n",
       "    <tr>\n",
       "      <th>189</th>\n",
       "      <td>C II</td>\n",
       "      <td>903.962</td>\n",
       "      <td>0.0</td>\n",
       "      <td>13.515687</td>\n",
       "      <td>-164.850968</td>\n",
       "      <td>5.837536</td>\n",
       "      <td>169</td>\n",
       "      <td>175.0</td>\n",
       "      <td>4.760416e-28</td>\n",
       "      <td>65687.973704</td>\n",
       "      <td>1.024831</td>\n",
       "      <td>4.0</td>\n",
       "    </tr>\n",
       "    <tr>\n",
       "      <th>235</th>\n",
       "      <td>N I</td>\n",
       "      <td>1200.223</td>\n",
       "      <td>0.0</td>\n",
       "      <td>14.855585</td>\n",
       "      <td>-121.340504</td>\n",
       "      <td>8.537891</td>\n",
       "      <td>114</td>\n",
       "      <td>155.0</td>\n",
       "      <td>1.509395e-26</td>\n",
       "      <td>13274.682730</td>\n",
       "      <td>1.079608</td>\n",
       "      <td>4.0</td>\n",
       "    </tr>\n",
       "  </tbody>\n",
       "</table>\n",
       "</div>"
      ],
      "text/plain": [
       "       name      wave  redshift   col_dens     delta_v  vel_dispersion  \\\n",
       "33     O VI  1031.912       0.0  13.026145  -41.936460        6.837880   \n",
       "34     O VI  1031.912       0.0  12.999352 -206.733800        8.227974   \n",
       "74    Si IV  1402.770       0.0  13.443067  -96.123485        6.500716   \n",
       "75    Si IV  1402.770       0.0  13.417356 -144.600500        7.047664   \n",
       "131  Si III  1206.500       0.0  13.295983  -79.358941        3.010024   \n",
       "132  Si III  1206.500       0.0  15.254317 -119.654861       18.146983   \n",
       "188    C II   903.962       0.0  16.461600 -120.660455       12.689182   \n",
       "189    C II   903.962       0.0  13.515687 -164.850968        5.837536   \n",
       "235     N I  1200.223       0.0  14.855585 -121.340504        8.537891   \n",
       "\n",
       "     interval_start  interval_end       density    temperature  metallicity  \\\n",
       "33               81          94.0  6.498653e-29  139076.933118     1.087712   \n",
       "34              184         210.0  8.962035e-29  122939.876574     1.103157   \n",
       "74              105         124.0  7.513635e-27   18470.419382     1.082588   \n",
       "75              142         169.0  8.370574e-27   18203.634927     1.100422   \n",
       "131             101         105.0  6.758190e-28   56457.465996     1.100804   \n",
       "132             105         169.0  1.366869e-26   14869.571042     1.082121   \n",
       "188             101         169.0  1.352071e-26   15343.213270     1.082334   \n",
       "189             169         175.0  4.760416e-28   65687.973704     1.024831   \n",
       "235             114         155.0  1.509395e-26   13274.682730     1.079608   \n",
       "\n",
       "     lightray_index  \n",
       "33              4.0  \n",
       "34              4.0  \n",
       "74              4.0  \n",
       "75              4.0  \n",
       "131             4.0  \n",
       "132             4.0  \n",
       "188             4.0  \n",
       "189             4.0  \n",
       "235             4.0  "
      ]
     },
     "execution_count": 142,
     "metadata": {},
     "output_type": "execute_result"
    }
   ],
   "source": [
    "ray"
   ]
  },
  {
   "cell_type": "code",
   "execution_count": 42,
   "id": "72918313-2f5b-49cf-a2bd-8caad8617f19",
   "metadata": {},
   "outputs": [
    {
     "data": {
      "text/plain": [
       "(array([ 35.,  41.,  57., 103.]),\n",
       " array([0, 1, 2, 3, 4]),\n",
       " <BarContainer object of 4 artists>)"
      ]
     },
     "execution_count": 42,
     "metadata": {},
     "output_type": "execute_result"
    },
    {
     "data": {
      "image/png": "[encoded data removed]",
      "text/plain": [
       "<Figure size 432x288 with 1 Axes>"
      ]
     },
     "metadata": {
      "needs_background": "light"
     },
     "output_type": "display_data"
    }
   ],
   "source": [
    "import pandas as pd\n",
    "import matplotlib.pyplot as plt\n",
    "%matplotlib inline\n",
    "\n",
    "def histos(filename, lightray, column_name, ionlist, **kwargs):\n",
    "    \n",
    "        df = pd.read_csv(filename, **kwargs)\n",
    "        \n",
    "        ray = df[df['lightray_index']==lightray]\n",
    "        \n",
    "        names = []\n",
    "        \n",
    "        for i in ionlist:\n",
    "            \n",
    "            if i in df['name'].tolist():\n",
    "                names.append(i)\n",
    "            else:\n",
    "                pass\n",
    "            \n",
    "        plt.hist()"
   ]
  },
  {
   "cell_type": "markdown",
   "id": "0556f696-b813-473d-b221-812aa9bd64d2",
   "metadata": {},
   "source": [
    "![pic](../test_sal/interval_tests/visuals/ionlist1multiplot__ray0.png \"pic\")"
   ]
  }
 ],
 "metadata": {
  "kernelspec": {
   "display_name": "Python 3",
   "language": "python",
   "name": "python3"
  },
  "language_info": {
   "codemirror_mode": {
    "name": "ipython",
    "version": 3
   },
   "file_extension": ".py",
   "mimetype": "text/x-python",
   "name": "python",
   "nbconvert_exporter": "python",
   "pygments_lexer": "ipython3",
   "version": "3.7.9"
  }
 },
 "nbformat": 4,
 "nbformat_minor": 5
}
