{
 "cells": [
  {
   "cell_type": "code",
   "execution_count": 1,
   "metadata": {},
   "outputs": [],
   "source": [
    "def fuck(this_shit = 'yuh'):\n",
    "    if this_shit == 'yuh':\n",
    "        print('noice')"
   ]
  },
  {
   "cell_type": "code",
   "execution_count": 2,
   "metadata": {},
   "outputs": [
    {
     "name": "stdout",
     "output_type": "stream",
     "text": [
      "noice\n"
     ]
    }
   ],
   "source": [
    "fuck(this_shit = 'yuh')"
   ]
  },
  {
   "cell_type": "code",
   "execution_count": 3,
   "metadata": {},
   "outputs": [],
   "source": [
    "fuck(this_shit = 'nah')"
   ]
  },
  {
   "cell_type": "code",
   "execution_count": 4,
   "metadata": {},
   "outputs": [],
   "source": [
    "def find_elements(filename, abundance, modify_solar = 'No'):\n",
    "#         If modify_solar = 'Yes':\n",
    "#         converts data to a dictionary. Nothing else is changed\n",
    "#         If modify_solar = 'No':\n",
    "#         Iterate over solar abundance dictionary and new dictionary\n",
    "#         If keys match, replace element in solar abundance with element\n",
    "#         from new data dictionary\n",
    "#         returns updated stellar abundance dictionary\n",
    "    import pandas as pd\n",
    "    data = pd.read_csv(filename)\n",
    "    \n",
    "    if modify_solar == 'No':\n",
    "        return data.to_dict(orient='list')\n",
    "    if modify_solar == 'Yes':\n",
    "        new_dic = fix_key(data)\n",
    "        for key in abundance.keys():\n",
    "            if key in new_dic.keys():\n",
    "                abundance[key] = new_dic[key]\n",
    "                print('an element was changed to {}'.format(abundance[key]))\n",
    "        return abundance"
   ]
  },
  {
   "cell_type": "code",
   "execution_count": 6,
   "metadata": {},
   "outputs": [],
   "source": [
    "\"\"\"\n",
    "dictates stellar abundances used in calculating ion balances.\n",
    "If filename = None, solar abundances will be used\n",
    "modify_solar = 'No' is the default\n",
    "If modify_solar = 'No', will return data input as a dictionary. Only those elements and values provided will be\n",
    "    used in calculating ion balances\n",
    "If modify_solar = 'Yes', switch out element values provided with solar abundances for those elements and provide\n",
    "full dictionary of first 30 elements in periodic table having modified abundances provided by data. All else is same\n",
    "Right now, only works with datasets able to be read in with pandas.read_csv\n",
    "\"\"\"\n",
    "def reading_func(filename = None, modify_solar = False):\n",
    "    def fix_key(data):\n",
    "        \"\"\"\n",
    "        amends element keys to ensure they match that of solar \n",
    "        abundances dictionary for indexing/comparing purposes\n",
    "        Handy for data given in ratios \n",
    "        Returns new dictionary with updated keys and unchanged elements\n",
    "        \"\"\"\n",
    "        new_data = data.to_dict(orient='list') \n",
    "        for i in new_data:\n",
    "            new_data[i] = sum(new_data[i])\n",
    "        keys = list(new_data.keys())\n",
    "        string = []\n",
    "        \"\"\"\n",
    "         Make list of keys from data dictionary\n",
    "        \"\"\" \n",
    "        for i in keys:\n",
    "            if i[1] == '/':\n",
    "                string.append(i[0])\n",
    "            else:\n",
    "                string.append(i[0] + i[1])\n",
    "        newest_data = {}\n",
    "        \"\"\"\n",
    "        Make new dictionary with new keys and unchanged elements\n",
    "        \"\"\"\n",
    "        for key, i in zip(new_data.keys(), string):\n",
    "            newest_data[i] = new_data[key]\n",
    "        return newest_data\n",
    "    \n",
    "    def find_elements(filename, abundance, modify_solar = False):\n",
    "        \"\"\"\n",
    "        If modify_solar = 'Yes':\n",
    "        converts data to a dictionary. Nothing else is changed\n",
    "        If modify_solar = 'No':\n",
    "        Iterate over solar abundance dictionary and new dictionary\n",
    "        If keys match, replace element in solar abundance with element\n",
    "        from new data dictionary\n",
    "        returns updated stellar abundance dictionary\n",
    "        \"\"\"\n",
    "#         import pandas as pd\n",
    "#         data = pd.read_csv(filename)\n",
    "        if modify_solar == False:\n",
    "            new_data = data.to_dict(orient='list')\n",
    "            for i in new_data:\n",
    "                new_data[i] = sum(new_data[i])\n",
    "            return new_data\n",
    "        if modify_solar is not False:\n",
    "            new_dic = fix_key(data)\n",
    "            for key in abundance.keys():\n",
    "                if key in new_dic.keys():\n",
    "                    abundance[key] = new_dic[key]\n",
    "                    print('an element was changed to {}'.format(abundance[key]))\n",
    "            return abundance\n",
    "    \n",
    "    abundance = {\n",
    "        'H' : 1.00e+00, 'He': 1.00e-01, 'Li': 2.04e-09,\n",
    "        'Be': 2.63e-11, 'B' : 6.17e-10, 'C' : 2.45e-04,\n",
    "        'N' : 8.51e-05, 'O' : 4.90e-04, 'F' : 3.02e-08,\n",
    "        'Ne': 1.00e-04, 'Na': 2.14e-06, 'Mg': 3.47e-05,\n",
    "        'Al': 2.95e-06, 'Si': 3.47e-05, 'P' : 3.20e-07,\n",
    "        'S' : 1.84e-05, 'Cl': 1.91e-07, 'Ar': 2.51e-06,\n",
    "        'K' : 1.32e-07, 'Ca': 2.29e-06, 'Sc': 1.48e-09,\n",
    "        'Ti': 1.05e-07, 'V' : 1.00e-08, 'Cr': 4.68e-07,\n",
    "        'Mn': 2.88e-07, 'Fe': 2.82e-05, 'Co': 8.32e-08,\n",
    "        'Ni': 1.78e-06, 'Cu': 1.62e-08, 'Zn': 3.98e-08}\n",
    "    if filename is not None:\n",
    "        if modify_solar == False:\n",
    "            abundance = find_elements(filename, abundance, modify_solar=False)\n",
    "        if modify_solar is not False:\n",
    "            abundance = find_elements(filename, abundance, modify_solar=True)\n",
    "    return abundance"
   ]
  },
  {
   "cell_type": "code",
   "execution_count": 3,
   "metadata": {},
   "outputs": [
    {
     "data": {
      "text/plain": [
       "{'#JINA_ID': 6,\n",
       " 'C/Fe': -0.59,\n",
       " 'O/Fe': 0.51,\n",
       " 'Fe/H': -1.78,\n",
       " 'Mg/Fe': -0.01,\n",
       " 'Si/Fe': 0.08}"
      ]
     },
     "execution_count": 3,
     "metadata": {},
     "output_type": "execute_result"
    }
   ],
   "source": [
    "# filepath = '/home/evelyn/internship/trident_mods/solar_abundance/JINAbase_excerpt_2eb.txt'\n",
    "filename = 'JINAbase_excerpt_2eb.txt'\n",
    "solar_abundance = reading_func(filename, modify_solar = False)\n",
    "solar_abundance"
   ]
  },
  {
   "cell_type": "code",
   "execution_count": 4,
   "metadata": {},
   "outputs": [
    {
     "name": "stdout",
     "output_type": "stream",
     "text": [
      "an element was changed to -0.59\n",
      "an element was changed to 0.51\n",
      "an element was changed to -0.01\n",
      "an element was changed to 0.08\n",
      "an element was changed to -1.78\n"
     ]
    },
    {
     "data": {
      "text/plain": [
       "{'H': 1.0,\n",
       " 'He': 0.1,\n",
       " 'Li': 2.04e-09,\n",
       " 'Be': 2.63e-11,\n",
       " 'B': 6.17e-10,\n",
       " 'C': -0.59,\n",
       " 'N': 8.51e-05,\n",
       " 'O': 0.51,\n",
       " 'F': 3.02e-08,\n",
       " 'Ne': 0.0001,\n",
       " 'Na': 2.14e-06,\n",
       " 'Mg': -0.01,\n",
       " 'Al': 2.95e-06,\n",
       " 'Si': 0.08,\n",
       " 'P': 3.2e-07,\n",
       " 'S': 1.84e-05,\n",
       " 'Cl': 1.91e-07,\n",
       " 'Ar': 2.51e-06,\n",
       " 'K': 1.32e-07,\n",
       " 'Ca': 2.29e-06,\n",
       " 'Sc': 1.48e-09,\n",
       " 'Ti': 1.05e-07,\n",
       " 'V': 1e-08,\n",
       " 'Cr': 4.68e-07,\n",
       " 'Mn': 2.88e-07,\n",
       " 'Fe': -1.78,\n",
       " 'Co': 8.32e-08,\n",
       " 'Ni': 1.78e-06,\n",
       " 'Cu': 1.62e-08,\n",
       " 'Zn': 3.98e-08}"
      ]
     },
     "execution_count": 4,
     "metadata": {},
     "output_type": "execute_result"
    }
   ],
   "source": [
    "# filepath = '/home/evelyn/internship/trident_mods/solar_abundance/JINAbase_excerpt_2eb.txt'\n",
    "filename = 'JINAbase_excerpt_2eb.txt'\n",
    "solar_abundance = reading_func(filename, modify_solar = True)\n",
    "solar_abundance"
   ]
  },
  {
   "cell_type": "code",
   "execution_count": 5,
   "metadata": {},
   "outputs": [
    {
     "data": {
      "text/plain": [
       "{'#JINA_ID': 6,\n",
       " 'C/Fe': -0.59,\n",
       " 'O/Fe': 0.51,\n",
       " 'Fe/H': -1.78,\n",
       " 'Mg/Fe': -0.01,\n",
       " 'Si/Fe': 0.08}"
      ]
     },
     "execution_count": 5,
     "metadata": {},
     "output_type": "execute_result"
    }
   ],
   "source": [
    "# filepath = '/home/evelyn/internship/trident_mods/solar_abundance/JINAbase_excerpt_2eb.txt'\n",
    "filename = 'JINAbase_excerpt_2eb.txt'\n",
    "solar_abundance = reading_func(filename)\n",
    "solar_abundance"
   ]
  },
  {
   "cell_type": "code",
   "execution_count": 9,
   "metadata": {},
   "outputs": [
    {
     "name": "stdout",
     "output_type": "stream",
     "text": [
      "Requirement already satisfied: pandas_ods_reader in /home/evelyn/anaconda3/lib/python3.8/site-packages (0.0.7)\n",
      "Requirement already satisfied: pandas in /home/evelyn/anaconda3/lib/python3.8/site-packages (from pandas_ods_reader) (1.1.3)\n",
      "Requirement already satisfied: ezodf in /home/evelyn/anaconda3/lib/python3.8/site-packages (from pandas_ods_reader) (0.3.2)\n",
      "Requirement already satisfied: lxml in /home/evelyn/anaconda3/lib/python3.8/site-packages (from pandas_ods_reader) (4.6.1)\n",
      "Requirement already satisfied: numpy>=1.15.4 in /home/evelyn/anaconda3/lib/python3.8/site-packages (from pandas->pandas_ods_reader) (1.19.2)\n",
      "Requirement already satisfied: pytz>=2017.2 in /home/evelyn/anaconda3/lib/python3.8/site-packages (from pandas->pandas_ods_reader) (2020.1)\n",
      "Requirement already satisfied: python-dateutil>=2.7.3 in /home/evelyn/anaconda3/lib/python3.8/site-packages (from pandas->pandas_ods_reader) (2.8.1)\n",
      "Requirement already satisfied: six>=1.5 in /home/evelyn/anaconda3/lib/python3.8/site-packages (from python-dateutil>=2.7.3->pandas->pandas_ods_reader) (1.15.0)\n",
      "Note: you may need to restart the kernel to use updated packages.\n"
     ]
    }
   ],
   "source": [
    "pip install pandas_ods_reader"
   ]
  },
  {
   "cell_type": "code",
   "execution_count": 10,
   "metadata": {},
   "outputs": [],
   "source": [
    "import pandas as pd\n",
    "from pandas_ods_reader import read_ods"
   ]
  },
  {
   "cell_type": "code",
   "execution_count": 38,
   "metadata": {},
   "outputs": [
    {
     "data": {
      "text/html": [
       "<div>\n",
       "<style scoped>\n",
       "    .dataframe tbody tr th:only-of-type {\n",
       "        vertical-align: middle;\n",
       "    }\n",
       "\n",
       "    .dataframe tbody tr th {\n",
       "        vertical-align: top;\n",
       "    }\n",
       "\n",
       "    .dataframe thead th {\n",
       "        text-align: right;\n",
       "    }\n",
       "</style>\n",
       "<table border=\"1\" class=\"dataframe\">\n",
       "  <thead>\n",
       "    <tr style=\"text-align: right;\">\n",
       "      <th></th>\n",
       "      <th>a</th>\n",
       "      <th>b</th>\n",
       "      <th>c</th>\n",
       "      <th>d</th>\n",
       "      <th>e</th>\n",
       "      <th>f</th>\n",
       "      <th>g</th>\n",
       "      <th>h</th>\n",
       "      <th>i</th>\n",
       "    </tr>\n",
       "  </thead>\n",
       "  <tbody>\n",
       "    <tr>\n",
       "      <th>0</th>\n",
       "      <td>1.0</td>\n",
       "      <td>2.0</td>\n",
       "      <td>3.0</td>\n",
       "      <td>4.0</td>\n",
       "      <td>5.0</td>\n",
       "      <td>6.0</td>\n",
       "      <td>7.0</td>\n",
       "      <td>8.0</td>\n",
       "      <td>9.0</td>\n",
       "    </tr>\n",
       "  </tbody>\n",
       "</table>\n",
       "</div>"
      ],
      "text/plain": [
       "     a    b    c    d    e    f    g    h    i\n",
       "0  1.0  2.0  3.0  4.0  5.0  6.0  7.0  8.0  9.0"
      ]
     },
     "execution_count": 38,
     "metadata": {},
     "output_type": "execute_result"
    }
   ],
   "source": [
    "sheet_name = 'Sheet1'\n",
    "data = read_ods('test.ods', sheet_name)\n",
    "data"
   ]
  },
  {
   "cell_type": "code",
   "execution_count": 39,
   "metadata": {},
   "outputs": [
    {
     "data": {
      "text/plain": [
       "pandas.core.frame.DataFrame"
      ]
     },
     "execution_count": 39,
     "metadata": {},
     "output_type": "execute_result"
    }
   ],
   "source": [
    "type(data)"
   ]
  },
  {
   "cell_type": "code",
   "execution_count": 40,
   "metadata": {},
   "outputs": [
    {
     "data": {
      "text/plain": [
       "{'a': [1.0],\n",
       " 'b': [2.0],\n",
       " 'c': [3.0],\n",
       " 'd': [4.0],\n",
       " 'e': [5.0],\n",
       " 'f': [6.0],\n",
       " 'g': [7.0],\n",
       " 'h': [8.0],\n",
       " 'i': [9.0]}"
      ]
     },
     "execution_count": 40,
     "metadata": {},
     "output_type": "execute_result"
    }
   ],
   "source": [
    "dic = data.to_dict(orient = 'list')\n",
    "dic"
   ]
  },
  {
   "cell_type": "code",
   "execution_count": 41,
   "metadata": {},
   "outputs": [
    {
     "name": "stdout",
     "output_type": "stream",
     "text": [
      "[1.0]\n",
      "[2.0]\n",
      "[3.0]\n",
      "[4.0]\n",
      "[5.0]\n",
      "[6.0]\n",
      "[7.0]\n",
      "[8.0]\n",
      "[9.0]\n"
     ]
    }
   ],
   "source": [
    "for i in dic.keys():\n",
    "    print(dic[i])"
   ]
  },
  {
   "cell_type": "code",
   "execution_count": 43,
   "metadata": {},
   "outputs": [
    {
     "data": {
      "text/plain": [
       "{'a': 1.0,\n",
       " 'b': 2.0,\n",
       " 'c': 3.0,\n",
       " 'd': 4.0,\n",
       " 'e': 5.0,\n",
       " 'f': 6.0,\n",
       " 'g': 7.0,\n",
       " 'h': 8.0,\n",
       " 'i': 9.0}"
      ]
     },
     "execution_count": 43,
     "metadata": {},
     "output_type": "execute_result"
    }
   ],
   "source": [
    "for i in dic:\n",
    "    dic[i] = sum(dic[i])\n",
    "dic"
   ]
  },
  {
   "cell_type": "code",
   "execution_count": 49,
   "metadata": {},
   "outputs": [
    {
     "name": "stdout",
     "output_type": "stream",
     "text": [
      "<class 'float'>\n",
      "<class 'float'>\n",
      "<class 'float'>\n",
      "<class 'float'>\n",
      "<class 'float'>\n",
      "<class 'float'>\n",
      "<class 'float'>\n",
      "<class 'float'>\n",
      "<class 'float'>\n"
     ]
    }
   ],
   "source": [
    "for i in dic:\n",
    "    print(type(dic[i]))"
   ]
  },
  {
   "cell_type": "code",
   "execution_count": 29,
   "metadata": {},
   "outputs": [
    {
     "data": {
      "text/plain": [
       "[1.0]"
      ]
     },
     "execution_count": 29,
     "metadata": {},
     "output_type": "execute_result"
    }
   ],
   "source": [
    "bruh = dic['a']\n",
    "bruh"
   ]
  },
  {
   "cell_type": "code",
   "execution_count": 31,
   "metadata": {},
   "outputs": [
    {
     "data": {
      "text/plain": [
       "float"
      ]
     },
     "execution_count": 31,
     "metadata": {},
     "output_type": "execute_result"
    }
   ],
   "source": [
    "bruh_noice = bruh[0]\n",
    "type(bruh_noice)"
   ]
  },
  {
   "cell_type": "code",
   "execution_count": 22,
   "metadata": {},
   "outputs": [],
   "source": [
    "def convert(list): \n",
    "      \n",
    "    # Converting integer list to string list \n",
    "    # and joining the list using join() \n",
    "    res = int(\"\".join(map(str, list))) \n",
    "      \n",
    "    return res "
   ]
  },
  {
   "cell_type": "code",
   "execution_count": 25,
   "metadata": {},
   "outputs": [
    {
     "ename": "ValueError",
     "evalue": "invalid literal for int() with base 10: '1.0'",
     "output_type": "error",
     "traceback": [
      "\u001b[0;31m---------------------------------------------------------------------------\u001b[0m",
      "\u001b[0;31mValueError\u001b[0m                                Traceback (most recent call last)",
      "\u001b[0;32m<ipython-input-25-dc57fd12fa8d>\u001b[0m in \u001b[0;36m<module>\u001b[0;34m\u001b[0m\n\u001b[1;32m      1\u001b[0m \u001b[0;32mfor\u001b[0m \u001b[0mi\u001b[0m \u001b[0;32min\u001b[0m \u001b[0mdic\u001b[0m\u001b[0;34m.\u001b[0m\u001b[0mkeys\u001b[0m\u001b[0;34m(\u001b[0m\u001b[0;34m)\u001b[0m\u001b[0;34m:\u001b[0m\u001b[0;34m\u001b[0m\u001b[0;34m\u001b[0m\u001b[0m\n\u001b[0;32m----> 2\u001b[0;31m     \u001b[0mconvert\u001b[0m\u001b[0;34m(\u001b[0m\u001b[0mdic\u001b[0m\u001b[0;34m[\u001b[0m\u001b[0mi\u001b[0m\u001b[0;34m]\u001b[0m\u001b[0;34m)\u001b[0m\u001b[0;34m\u001b[0m\u001b[0;34m\u001b[0m\u001b[0m\n\u001b[0m",
      "\u001b[0;32m<ipython-input-22-8dc1e590b703>\u001b[0m in \u001b[0;36mconvert\u001b[0;34m(list)\u001b[0m\n\u001b[1;32m      3\u001b[0m     \u001b[0;31m# Converting integer list to string list\u001b[0m\u001b[0;34m\u001b[0m\u001b[0;34m\u001b[0m\u001b[0;34m\u001b[0m\u001b[0m\n\u001b[1;32m      4\u001b[0m     \u001b[0;31m# and joining the list using join()\u001b[0m\u001b[0;34m\u001b[0m\u001b[0;34m\u001b[0m\u001b[0;34m\u001b[0m\u001b[0m\n\u001b[0;32m----> 5\u001b[0;31m     \u001b[0mres\u001b[0m \u001b[0;34m=\u001b[0m \u001b[0mint\u001b[0m\u001b[0;34m(\u001b[0m\u001b[0;34m\"\"\u001b[0m\u001b[0;34m.\u001b[0m\u001b[0mjoin\u001b[0m\u001b[0;34m(\u001b[0m\u001b[0mmap\u001b[0m\u001b[0;34m(\u001b[0m\u001b[0mstr\u001b[0m\u001b[0;34m,\u001b[0m \u001b[0mlist\u001b[0m\u001b[0;34m)\u001b[0m\u001b[0;34m)\u001b[0m\u001b[0;34m)\u001b[0m\u001b[0;34m\u001b[0m\u001b[0;34m\u001b[0m\u001b[0m\n\u001b[0m\u001b[1;32m      6\u001b[0m \u001b[0;34m\u001b[0m\u001b[0m\n\u001b[1;32m      7\u001b[0m     \u001b[0;32mreturn\u001b[0m \u001b[0mres\u001b[0m\u001b[0;34m\u001b[0m\u001b[0;34m\u001b[0m\u001b[0m\n",
      "\u001b[0;31mValueError\u001b[0m: invalid literal for int() with base 10: '1.0'"
     ]
    }
   ],
   "source": [
    "for i in dic.keys():\n",
    "    convert(dic[i])"
   ]
  },
  {
   "cell_type": "code",
   "execution_count": 54,
   "metadata": {},
   "outputs": [
    {
     "data": {
      "text/plain": [
       "{'a': 1.0,\n",
       " 'b': 2.0,\n",
       " 'c': 3.0,\n",
       " 'd': 4.0,\n",
       " 'e': 5.0,\n",
       " 'f': 6.0,\n",
       " 'g': 7.0,\n",
       " 'h': 8.0,\n",
       " 'i': 9.0}"
      ]
     },
     "execution_count": 54,
     "metadata": {},
     "output_type": "execute_result"
    }
   ],
   "source": [
    "dic"
   ]
  },
  {
   "cell_type": "code",
   "execution_count": 55,
   "metadata": {},
   "outputs": [],
   "source": [
    "dick = {'type1': [1, 2, 3, 4], 'type2': [5, 6, 7, 8]}"
   ]
  },
  {
   "cell_type": "code",
   "execution_count": 67,
   "metadata": {},
   "outputs": [],
   "source": [
    "test = [9, 7, 3, 1, 33, 5, 17,75, 2]"
   ]
  },
  {
   "cell_type": "code",
   "execution_count": 68,
   "metadata": {},
   "outputs": [
    {
     "name": "stdout",
     "output_type": "stream",
     "text": [
      "7 in type2\n",
      "3 in type1\n",
      "1 in type1\n",
      "5 in type2\n",
      "2 in type1\n"
     ]
    }
   ],
   "source": [
    "type1 = dick['type1']\n",
    "type2 = dick['type2']\n",
    "for t in test:\n",
    "    if t in type1:\n",
    "        print(t,'in type1')\n",
    "    if t in type2:\n",
    "        print(t, 'in type2')"
   ]
  },
  {
   "cell_type": "code",
   "execution_count": 58,
   "metadata": {},
   "outputs": [
    {
     "name": "stdout",
     "output_type": "stream",
     "text": [
      "[1, 2, 3, 4]\n",
      "[5, 6, 7, 8]\n"
     ]
    }
   ],
   "source": [
    "for d in dick:\n",
    "    print(dick[d])"
   ]
  },
  {
   "cell_type": "code",
   "execution_count": 59,
   "metadata": {},
   "outputs": [],
   "source": [
    "type1 = dick['type1']"
   ]
  },
  {
   "cell_type": "code",
   "execution_count": 60,
   "metadata": {},
   "outputs": [
    {
     "data": {
      "text/plain": [
       "1"
      ]
     },
     "execution_count": 60,
     "metadata": {},
     "output_type": "execute_result"
    }
   ],
   "source": [
    "type1[0]"
   ]
  },
  {
   "cell_type": "code",
   "execution_count": 38,
   "metadata": {},
   "outputs": [],
   "source": [
    "def file_type(filename, file_type='csv', delimiter=None, names=None, skiprows=None, colspecs = None, widths=None,\n",
    "             infer_nrows=None, orient=None, typ=None, dtype=None, convert_axes=None, match=None, flavor=None,\n",
    "              header=None):\n",
    "#     import os\n",
    "#     name, extension = os.path.splitext(filepath)\n",
    "    import pandas as pd\n",
    "\n",
    "    if file_type == 'csv' or fil_type == 'txt':\n",
    "        data = pd.read_csv(filename, delimiter=delimiter, names=names, skiprows=skiprows)\n",
    "    if file_type == 'fwf':\n",
    "        filename = str(filename)\n",
    "        data = pd.read_txt(filename, colspecs = colspecs, widths=widths, infer_nrows=infer_nrows)\n",
    "    if file_type == 'json':\n",
    "        filename = str(filename)\n",
    "        data = pd.read-json(filename, orient=orient, typ=typ, dtype=dtype, convert_axes=convert_axes)\n",
    "    if file_type == 'html':\n",
    "        filename = str(filename)\n",
    "        data = pd.read_html(filename, match=match, favor=favor, header=header)\n",
    "    return data"
   ]
  },
  {
   "cell_type": "code",
   "execution_count": null,
   "metadata": {},
   "outputs": [],
   "source": []
  },
  {
   "cell_type": "code",
   "execution_count": 88,
   "metadata": {},
   "outputs": [
    {
     "name": "stdout",
     "output_type": "stream",
     "text": [
      ".txt\n",
      "txt\n"
     ]
    }
   ],
   "source": [
    "filepath = '/home/evelyn/internship/trident_mods/solar_abundance/JINAbase_excerpt_2eb.txt'\n",
    "file_type(filepath)"
   ]
  },
  {
   "cell_type": "code",
   "execution_count": 89,
   "metadata": {},
   "outputs": [
    {
     "name": "stdout",
     "output_type": "stream",
     "text": [
      ".txt\n",
      "txt\n"
     ]
    }
   ],
   "source": [
    "filepath2 = '/home/evelyn/internship/trident_mods/solar_abundance/JINAbase_excerpt.txt'\n",
    "file_type(filepath2)"
   ]
  },
  {
   "cell_type": "code",
   "execution_count": 45,
   "metadata": {},
   "outputs": [],
   "source": [
    "# filename = 'addresses.csv'\n",
    "filename = 'JINAbase_excerpt_2eb.txt'\n",
    "data = file_type(filename)"
   ]
  },
  {
   "cell_type": "code",
   "execution_count": 46,
   "metadata": {},
   "outputs": [
    {
     "name": "stdout",
     "output_type": "stream",
     "text": [
      "(1, 6)\n"
     ]
    },
    {
     "data": {
      "text/html": [
       "<div>\n",
       "<style scoped>\n",
       "    .dataframe tbody tr th:only-of-type {\n",
       "        vertical-align: middle;\n",
       "    }\n",
       "\n",
       "    .dataframe tbody tr th {\n",
       "        vertical-align: top;\n",
       "    }\n",
       "\n",
       "    .dataframe thead th {\n",
       "        text-align: right;\n",
       "    }\n",
       "</style>\n",
       "<table border=\"1\" class=\"dataframe\">\n",
       "  <thead>\n",
       "    <tr style=\"text-align: right;\">\n",
       "      <th></th>\n",
       "      <th>#JINA_ID</th>\n",
       "      <th>C/Fe</th>\n",
       "      <th>O/Fe</th>\n",
       "      <th>Fe/H</th>\n",
       "      <th>Mg/Fe</th>\n",
       "      <th>Si/Fe</th>\n",
       "    </tr>\n",
       "  </thead>\n",
       "  <tbody>\n",
       "    <tr>\n",
       "      <th>0</th>\n",
       "      <td>6</td>\n",
       "      <td>-0.59</td>\n",
       "      <td>0.51</td>\n",
       "      <td>-1.78</td>\n",
       "      <td>-0.01</td>\n",
       "      <td>0.08</td>\n",
       "    </tr>\n",
       "  </tbody>\n",
       "</table>\n",
       "</div>"
      ],
      "text/plain": [
       "   #JINA_ID  C/Fe  O/Fe  Fe/H  Mg/Fe  Si/Fe\n",
       "0         6 -0.59  0.51 -1.78  -0.01   0.08"
      ]
     },
     "execution_count": 46,
     "metadata": {},
     "output_type": "execute_result"
    }
   ],
   "source": [
    "print(data.shape)\n",
    "data"
   ]
  },
  {
   "cell_type": "code",
   "execution_count": 36,
   "metadata": {},
   "outputs": [],
   "source": [
    "df = pd.read_csv('addresses.csv', delimiter = None, names=None, skiprows=None)"
   ]
  },
  {
   "cell_type": "code",
   "execution_count": 37,
   "metadata": {},
   "outputs": [
    {
     "data": {
      "text/html": [
       "<div>\n",
       "<style scoped>\n",
       "    .dataframe tbody tr th:only-of-type {\n",
       "        vertical-align: middle;\n",
       "    }\n",
       "\n",
       "    .dataframe tbody tr th {\n",
       "        vertical-align: top;\n",
       "    }\n",
       "\n",
       "    .dataframe thead th {\n",
       "        text-align: right;\n",
       "    }\n",
       "</style>\n",
       "<table border=\"1\" class=\"dataframe\">\n",
       "  <thead>\n",
       "    <tr style=\"text-align: right;\">\n",
       "      <th></th>\n",
       "      <th>John</th>\n",
       "      <th>Doe</th>\n",
       "      <th>120 jefferson st.</th>\n",
       "      <th>Riverside</th>\n",
       "      <th>NJ</th>\n",
       "      <th>08075</th>\n",
       "    </tr>\n",
       "  </thead>\n",
       "  <tbody>\n",
       "    <tr>\n",
       "      <th>0</th>\n",
       "      <td>Jack</td>\n",
       "      <td>McGinnis</td>\n",
       "      <td>220 hobo Av.</td>\n",
       "      <td>Phila</td>\n",
       "      <td>PA</td>\n",
       "      <td>9119</td>\n",
       "    </tr>\n",
       "    <tr>\n",
       "      <th>1</th>\n",
       "      <td>John \"Da Man\"</td>\n",
       "      <td>Repici</td>\n",
       "      <td>120 Jefferson St.</td>\n",
       "      <td>Riverside</td>\n",
       "      <td>NJ</td>\n",
       "      <td>8075</td>\n",
       "    </tr>\n",
       "    <tr>\n",
       "      <th>2</th>\n",
       "      <td>Stephen</td>\n",
       "      <td>Tyler</td>\n",
       "      <td>7452 Terrace \"At the Plaza\" road</td>\n",
       "      <td>SomeTown</td>\n",
       "      <td>SD</td>\n",
       "      <td>91234</td>\n",
       "    </tr>\n",
       "    <tr>\n",
       "      <th>3</th>\n",
       "      <td>NaN</td>\n",
       "      <td>Blankman</td>\n",
       "      <td>NaN</td>\n",
       "      <td>SomeTown</td>\n",
       "      <td>SD</td>\n",
       "      <td>298</td>\n",
       "    </tr>\n",
       "    <tr>\n",
       "      <th>4</th>\n",
       "      <td>Joan \"the bone\", Anne</td>\n",
       "      <td>Jet</td>\n",
       "      <td>9th, at Terrace plc</td>\n",
       "      <td>Desert City</td>\n",
       "      <td>CO</td>\n",
       "      <td>123</td>\n",
       "    </tr>\n",
       "  </tbody>\n",
       "</table>\n",
       "</div>"
      ],
      "text/plain": [
       "                    John       Doe                 120 jefferson st.  \\\n",
       "0                   Jack  McGinnis                      220 hobo Av.   \n",
       "1          John \"Da Man\"    Repici                 120 Jefferson St.   \n",
       "2                Stephen     Tyler  7452 Terrace \"At the Plaza\" road   \n",
       "3                    NaN  Blankman                               NaN   \n",
       "4  Joan \"the bone\", Anne       Jet               9th, at Terrace plc   \n",
       "\n",
       "     Riverside   NJ   08075  \n",
       "0        Phila   PA    9119  \n",
       "1    Riverside   NJ    8075  \n",
       "2     SomeTown   SD   91234  \n",
       "3     SomeTown   SD     298  \n",
       "4  Desert City   CO     123  "
      ]
     },
     "execution_count": 37,
     "metadata": {},
     "output_type": "execute_result"
    }
   ],
   "source": [
    "df"
   ]
  },
  {
   "cell_type": "code",
   "execution_count": 1,
   "metadata": {},
   "outputs": [],
   "source": [
    "d = {'A': {'a':1, 'as in':'apple'}, 'B': {'b':2, 'AS IN': 'boy'}}"
   ]
  },
  {
   "cell_type": "code",
   "execution_count": 3,
   "metadata": {},
   "outputs": [
    {
     "data": {
      "text/plain": [
       "1"
      ]
     },
     "execution_count": 3,
     "metadata": {},
     "output_type": "execute_result"
    }
   ],
   "source": [
    "d['A']['a']"
   ]
  },
  {
   "cell_type": "code",
   "execution_count": 40,
   "metadata": {},
   "outputs": [],
   "source": [
    "def filetpye(filename, file_type='csv', *args, **kwargs):\n",
    "    import pandas as pd\n",
    "    arg = kwargs.get('arg', None)\n",
    "#     names = kwargs.get('names', None)\n",
    "    Args = {'csv': {'delimiter': None, 'names': None, 'skiprows': None}}\n",
    "    if file_type == 'csv' or file_type == 'txt':\n",
    "        use = Args['csv']\n",
    "        if arg == None:\n",
    "            data = pd.read_csv(filename)\n",
    "        if arg is not None:\n",
    "            keys = use.keys()\n",
    "            for key in arg.keys():\n",
    "                if key in use.keys():\n",
    "                    use[key] = arg[key]\n",
    "            data = pd.read_csv(filename, use['delimiter'], use['names'], use['skiprows'])\n",
    "    return data"
   ]
  },
  {
   "cell_type": "code",
   "execution_count": 42,
   "metadata": {},
   "outputs": [],
   "source": [
    "filename = 'addresses.csv'\n",
    "name_list = ['i', 'am', 'real', 'bad', 'at', 'words']\n",
    "dic = {'delimiter': ',', 'skiprows': 1}\n",
    "data = filetpye(filename, arg = dic)"
   ]
  },
  {
   "cell_type": "code",
   "execution_count": 43,
   "metadata": {},
   "outputs": [
    {
     "data": {
      "text/html": [
       "<div>\n",
       "<style scoped>\n",
       "    .dataframe tbody tr th:only-of-type {\n",
       "        vertical-align: middle;\n",
       "    }\n",
       "\n",
       "    .dataframe tbody tr th {\n",
       "        vertical-align: top;\n",
       "    }\n",
       "\n",
       "    .dataframe thead th {\n",
       "        text-align: right;\n",
       "    }\n",
       "</style>\n",
       "<table border=\"1\" class=\"dataframe\">\n",
       "  <thead>\n",
       "    <tr style=\"text-align: right;\">\n",
       "      <th></th>\n",
       "      <th>John</th>\n",
       "      <th>Doe</th>\n",
       "      <th>120 jefferson st.</th>\n",
       "      <th>Riverside</th>\n",
       "      <th>NJ</th>\n",
       "      <th>08075</th>\n",
       "    </tr>\n",
       "  </thead>\n",
       "  <tbody>\n",
       "    <tr>\n",
       "      <th>0</th>\n",
       "      <td>Jack</td>\n",
       "      <td>McGinnis</td>\n",
       "      <td>220 hobo Av.</td>\n",
       "      <td>Phila</td>\n",
       "      <td>PA</td>\n",
       "      <td>9119</td>\n",
       "    </tr>\n",
       "    <tr>\n",
       "      <th>1</th>\n",
       "      <td>John \"Da Man\"</td>\n",
       "      <td>Repici</td>\n",
       "      <td>120 Jefferson St.</td>\n",
       "      <td>Riverside</td>\n",
       "      <td>NJ</td>\n",
       "      <td>8075</td>\n",
       "    </tr>\n",
       "    <tr>\n",
       "      <th>2</th>\n",
       "      <td>Stephen</td>\n",
       "      <td>Tyler</td>\n",
       "      <td>7452 Terrace \"At the Plaza\" road</td>\n",
       "      <td>SomeTown</td>\n",
       "      <td>SD</td>\n",
       "      <td>91234</td>\n",
       "    </tr>\n",
       "    <tr>\n",
       "      <th>3</th>\n",
       "      <td>NaN</td>\n",
       "      <td>Blankman</td>\n",
       "      <td>NaN</td>\n",
       "      <td>SomeTown</td>\n",
       "      <td>SD</td>\n",
       "      <td>298</td>\n",
       "    </tr>\n",
       "    <tr>\n",
       "      <th>4</th>\n",
       "      <td>Joan \"the bone\", Anne</td>\n",
       "      <td>Jet</td>\n",
       "      <td>9th, at Terrace plc</td>\n",
       "      <td>Desert City</td>\n",
       "      <td>CO</td>\n",
       "      <td>123</td>\n",
       "    </tr>\n",
       "  </tbody>\n",
       "</table>\n",
       "</div>"
      ],
      "text/plain": [
       "                    John       Doe                 120 jefferson st.  \\\n",
       "0                   Jack  McGinnis                      220 hobo Av.   \n",
       "1          John \"Da Man\"    Repici                 120 Jefferson St.   \n",
       "2                Stephen     Tyler  7452 Terrace \"At the Plaza\" road   \n",
       "3                    NaN  Blankman                               NaN   \n",
       "4  Joan \"the bone\", Anne       Jet               9th, at Terrace plc   \n",
       "\n",
       "     Riverside   NJ   08075  \n",
       "0        Phila   PA    9119  \n",
       "1    Riverside   NJ    8075  \n",
       "2     SomeTown   SD   91234  \n",
       "3     SomeTown   SD     298  \n",
       "4  Desert City   CO     123  "
      ]
     },
     "execution_count": 43,
     "metadata": {},
     "output_type": "execute_result"
    }
   ],
   "source": [
    "data"
   ]
  },
  {
   "cell_type": "code",
   "execution_count": 21,
   "metadata": {},
   "outputs": [],
   "source": [
    "def print_thing(thing1, thing2, *args, **kwargs):\n",
    "    arg = kwargs.get('arg', None)\n",
    "    print('thing1', thing1)\n",
    "    print('thing2', thing2)\n",
    "    dic = {'a': 1, 'b': 2}\n",
    "    if type(arg) == type(dic):\n",
    "        print('yessirrrrrr')\n",
    "    print(type(args))"
   ]
  },
  {
   "cell_type": "code",
   "execution_count": 22,
   "metadata": {},
   "outputs": [
    {
     "name": "stdout",
     "output_type": "stream",
     "text": [
      "thing1 1\n",
      "thing2 2\n",
      "yessirrrrrr\n",
      "<class 'tuple'>\n"
     ]
    }
   ],
   "source": [
    "mydic = {'c': 3, 'd': 4}\n",
    "print_thing(1, 2, arg = mydic)"
   ]
  },
  {
   "cell_type": "code",
   "execution_count": null,
   "metadata": {},
   "outputs": [],
   "source": []
  }
 ],
 "metadata": {
  "kernelspec": {
   "display_name": "Python 3",
   "language": "python",
   "name": "python3"
  },
  "language_info": {
   "codemirror_mode": {
    "name": "ipython",
    "version": 3
   },
   "file_extension": ".py",
   "mimetype": "text/x-python",
   "name": "python",
   "nbconvert_exporter": "python",
   "pygments_lexer": "ipython3",
   "version": "3.8.3"
  }
 },
 "nbformat": 4,
 "nbformat_minor": 4
}
