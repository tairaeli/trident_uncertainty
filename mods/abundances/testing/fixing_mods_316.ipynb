{
 "cells": [
  {
   "cell_type": "code",
   "execution_count": 1,
   "metadata": {},
   "outputs": [],
   "source": [
    "def fuck(it_up = 'yuh'):\n",
    "    if it_up == 'yuh':\n",
    "        print('noice')"
   ]
  },
  {
   "cell_type": "code",
   "execution_count": 3,
   "metadata": {},
   "outputs": [
    {
     "name": "stdout",
     "output_type": "stream",
     "text": [
      "noice\n"
     ]
    }
   ],
   "source": [
    "fuck(it_up = 'yuh')"
   ]
  },
  {
   "cell_type": "code",
   "execution_count": 4,
   "metadata": {},
   "outputs": [],
   "source": [
    "fuck(it_up = 'nah')"
   ]
  },
  {
   "cell_type": "code",
   "execution_count": 6,
   "metadata": {},
   "outputs": [],
   "source": [
    "\"\"\"\n",
    "dictates stellar abundances used in calculating ion balances.\n",
    "If filename = None, solar abundances will be used. None is the default\n",
    "modify_solar = False is the default\n",
    "If modify_solar = False, will return data input as a dictionary. Only those elements and values provided will be\n",
    "    used in calculating ion balances\n",
    "If modify_solar = True, switch out element values provided with solar abundances for those elements and provide\n",
    "full dictionary of first 30 elements in periodic table having modified abundances provided by data. All else is same\n",
    "If ratios = False, data values will not be changed\n",
    "If ratios = True, data values will be adjusted to accomodate chemical abundance ratios (see def fix_elements, \n",
    "which is called in def find_elements)\n",
    "Right now, only works with datasets able to be read in with pandas.read_csv\n",
    "\"\"\"\n",
    "def reading_func(filename = None, modify_solar = False, ratios = False):\n",
    "#     calculates abundance ratios for star/thing that we care about given a dataset\n",
    "    def fix_elements(data):\n",
    "        for i in data.keys():\n",
    "    #         given ratio = i\n",
    "            target_ratio = solar_ratio*(10**data[i]) #COME BACK TO ME\n",
    "            data[i] = target_ratio\n",
    "        return data\n",
    "    def fix_key(data):\n",
    "        \"\"\"\n",
    "        amends element keys to ensure they match that of solar \n",
    "        abundances dictionary for indexing/comparing purposes\n",
    "        Handy for data given in ratios \n",
    "        Returns new dictionary with updated keys and unchanged elements\n",
    "        \"\"\"\n",
    "        new_data = data.to_dict(orient='list') \n",
    "        for i in new_data:\n",
    "            new_data[i] = sum(new_data[i])\n",
    "        keys = list(new_data.keys())\n",
    "        string = []\n",
    "        \"\"\"\n",
    "         Make list of keys from data dictionary\n",
    "        \"\"\" \n",
    "        for i in keys:\n",
    "            if i[1] == '/':\n",
    "                string.append(i[0])\n",
    "            else:\n",
    "                string.append(i[0] + i[1])\n",
    "        newest_data = {}\n",
    "        \"\"\"\n",
    "        Make new dictionary with new keys and unchanged elements\n",
    "        \"\"\"\n",
    "        for key, i in zip(new_data.keys(), string):\n",
    "            newest_data[i] = new_data[key]\n",
    "        return newest_data\n",
    "    \n",
    "    def find_elements(filename, abundance, modify_solar = False, ratios = False):\n",
    "        \"\"\"\n",
    "        If modify_solar = 'Yes':\n",
    "        converts data to a dictionary. Nothing else is changed\n",
    "        If modify_solar = 'No':\n",
    "        Iterate over solar abundance dictionary and new dictionary\n",
    "        If keys match, replace element in solar abundance with element\n",
    "        from new data dictionary\n",
    "        returns updated stellar abundance dictionary\n",
    "        \"\"\"\n",
    "        import pandas as pd\n",
    "        data = pd.read_csv(filename)\n",
    "        if modify_solar == False:\n",
    "            new_data = data.to_dict(orient='list')\n",
    "            for i in new_data:\n",
    "                new_data[i] = sum(new_data[i])\n",
    "            if ratios == False:\n",
    "                adjusted_data = new_data\n",
    "            if ratios is not False:\n",
    "                adjusted_data = fix_elements(new_data)\n",
    "            return adjusted_data\n",
    "        if modify_solar is not False:\n",
    "            if ratios == False:\n",
    "                new_dic = fix_key(data)\n",
    "                for key in abundance.keys():\n",
    "                    if key in new_dic.keys():\n",
    "                        abundance[key] = new_dic[key]\n",
    "                        print('an element was changed to {}'.format(abundance[key]))\n",
    "            if ratios is not False:\n",
    "                adjusted_data = fix_elements(data)\n",
    "                new_dic = fix_key(adjusted_data)\n",
    "                for key in abundance.keys():\n",
    "                    if key in new_dic.keys():\n",
    "                        abundance[key] = new_dic[key]\n",
    "                        print('an element was changed to {}'.format(abundance[key]))\n",
    "\n",
    "            return abundance\n",
    "    \n",
    "    abundance = {\n",
    "        'H' : 1.00e+00, 'He': 1.00e-01, 'Li': 2.04e-09,\n",
    "        'Be': 2.63e-11, 'B' : 6.17e-10, 'C' : 2.45e-04,\n",
    "        'N' : 8.51e-05, 'O' : 4.90e-04, 'F' : 3.02e-08,\n",
    "        'Ne': 1.00e-04, 'Na': 2.14e-06, 'Mg': 3.47e-05,\n",
    "        'Al': 2.95e-06, 'Si': 3.47e-05, 'P' : 3.20e-07,\n",
    "        'S' : 1.84e-05, 'Cl': 1.91e-07, 'Ar': 2.51e-06,\n",
    "        'K' : 1.32e-07, 'Ca': 2.29e-06, 'Sc': 1.48e-09,\n",
    "        'Ti': 1.05e-07, 'V' : 1.00e-08, 'Cr': 4.68e-07,\n",
    "        'Mn': 2.88e-07, 'Fe': 2.82e-05, 'Co': 8.32e-08,\n",
    "        'Ni': 1.78e-06, 'Cu': 1.62e-08, 'Zn': 3.98e-08}\n",
    "    if filename is not None:\n",
    "        if modify_solar == False:\n",
    "            if ratios == False:\n",
    "                abundance = find_elements(filename, abundance, modify_solar=False, ratios = False)\n",
    "            if ratios is not False:\n",
    "                abundance = find_elements(filename, abundance, modify_solar=False, ratios = True)\n",
    "        if modify_solar is not False:\n",
    "            if ratios == False:\n",
    "                abundance = find_elements(filename, abundance, modify_solar=True, ratios = False)\n",
    "            if ratios is not False:\n",
    "                abundance = find_elements(filename, abundance, modify_solar=True, ratios = True)\n",
    "    return abundance"
   ]
  },
  {
   "cell_type": "code",
   "execution_count": 3,
   "metadata": {},
   "outputs": [
    {
     "data": {
      "text/plain": [
       "{'#JINA_ID': 6,\n",
       " 'C/Fe': -0.59,\n",
       " 'O/Fe': 0.51,\n",
       " 'Fe/H': -1.78,\n",
       " 'Mg/Fe': -0.01,\n",
       " 'Si/Fe': 0.08}"
      ]
     },
     "execution_count": 3,
     "metadata": {},
     "output_type": "execute_result"
    }
   ],
   "source": [
    "# filepath = '/home/evelyn/internship/trident_mods/solar_abundance/JINAbase_excerpt_2eb.txt'\n",
    "filename = 'JINAbase_excerpt_2eb.txt'\n",
    "solar_abundance = reading_func(filename, modify_solar = False)\n",
    "solar_abundance"
   ]
  },
  {
   "cell_type": "code",
   "execution_count": 4,
   "metadata": {},
   "outputs": [
    {
     "name": "stdout",
     "output_type": "stream",
     "text": [
      "an element was changed to -0.59\n",
      "an element was changed to 0.51\n",
      "an element was changed to -0.01\n",
      "an element was changed to 0.08\n",
      "an element was changed to -1.78\n"
     ]
    },
    {
     "data": {
      "text/plain": [
       "{'H': 1.0,\n",
       " 'He': 0.1,\n",
       " 'Li': 2.04e-09,\n",
       " 'Be': 2.63e-11,\n",
       " 'B': 6.17e-10,\n",
       " 'C': -0.59,\n",
       " 'N': 8.51e-05,\n",
       " 'O': 0.51,\n",
       " 'F': 3.02e-08,\n",
       " 'Ne': 0.0001,\n",
       " 'Na': 2.14e-06,\n",
       " 'Mg': -0.01,\n",
       " 'Al': 2.95e-06,\n",
       " 'Si': 0.08,\n",
       " 'P': 3.2e-07,\n",
       " 'S': 1.84e-05,\n",
       " 'Cl': 1.91e-07,\n",
       " 'Ar': 2.51e-06,\n",
       " 'K': 1.32e-07,\n",
       " 'Ca': 2.29e-06,\n",
       " 'Sc': 1.48e-09,\n",
       " 'Ti': 1.05e-07,\n",
       " 'V': 1e-08,\n",
       " 'Cr': 4.68e-07,\n",
       " 'Mn': 2.88e-07,\n",
       " 'Fe': -1.78,\n",
       " 'Co': 8.32e-08,\n",
       " 'Ni': 1.78e-06,\n",
       " 'Cu': 1.62e-08,\n",
       " 'Zn': 3.98e-08}"
      ]
     },
     "execution_count": 4,
     "metadata": {},
     "output_type": "execute_result"
    }
   ],
   "source": [
    "# filepath = '/home/evelyn/internship/trident_mods/solar_abundance/JINAbase_excerpt_2eb.txt'\n",
    "filename = 'JINAbase_excerpt_2eb.txt'\n",
    "solar_abundance = reading_func(filename, modify_solar = True)\n",
    "solar_abundance"
   ]
  },
  {
   "cell_type": "code",
   "execution_count": 5,
   "metadata": {},
   "outputs": [
    {
     "data": {
      "text/plain": [
       "{'#JINA_ID': 6,\n",
       " 'C/Fe': -0.59,\n",
       " 'O/Fe': 0.51,\n",
       " 'Fe/H': -1.78,\n",
       " 'Mg/Fe': -0.01,\n",
       " 'Si/Fe': 0.08}"
      ]
     },
     "execution_count": 5,
     "metadata": {},
     "output_type": "execute_result"
    }
   ],
   "source": [
    "# filepath = '/home/evelyn/internship/trident_mods/solar_abundance/JINAbase_excerpt_2eb.txt'\n",
    "filename = 'JINAbase_excerpt_2eb.txt'\n",
    "solar_abundance = reading_func(filename)\n",
    "solar_abundance"
   ]
  },
  {
   "cell_type": "code",
   "execution_count": 9,
   "metadata": {},
   "outputs": [
    {
     "name": "stdout",
     "output_type": "stream",
     "text": [
      "Requirement already satisfied: pandas_ods_reader in /home/evelyn/anaconda3/lib/python3.8/site-packages (0.0.7)\n",
      "Requirement already satisfied: pandas in /home/evelyn/anaconda3/lib/python3.8/site-packages (from pandas_ods_reader) (1.1.3)\n",
      "Requirement already satisfied: ezodf in /home/evelyn/anaconda3/lib/python3.8/site-packages (from pandas_ods_reader) (0.3.2)\n",
      "Requirement already satisfied: lxml in /home/evelyn/anaconda3/lib/python3.8/site-packages (from pandas_ods_reader) (4.6.1)\n",
      "Requirement already satisfied: numpy>=1.15.4 in /home/evelyn/anaconda3/lib/python3.8/site-packages (from pandas->pandas_ods_reader) (1.19.2)\n",
      "Requirement already satisfied: pytz>=2017.2 in /home/evelyn/anaconda3/lib/python3.8/site-packages (from pandas->pandas_ods_reader) (2020.1)\n",
      "Requirement already satisfied: python-dateutil>=2.7.3 in /home/evelyn/anaconda3/lib/python3.8/site-packages (from pandas->pandas_ods_reader) (2.8.1)\n",
      "Requirement already satisfied: six>=1.5 in /home/evelyn/anaconda3/lib/python3.8/site-packages (from python-dateutil>=2.7.3->pandas->pandas_ods_reader) (1.15.0)\n",
      "Note: you may need to restart the kernel to use updated packages.\n"
     ]
    }
   ],
   "source": [
    "pip install pandas_ods_reader"
   ]
  },
  {
   "cell_type": "code",
   "execution_count": 40,
   "metadata": {},
   "outputs": [],
   "source": [
    "def filetpye(filename, file_type='csv', *args, **kwargs):\n",
    "    import pandas as pd\n",
    "    arg = kwargs.get('arg', None)\n",
    "#     names = kwargs.get('names', None)\n",
    "    Args = {'csv': {'delimiter': None, 'names': None, 'skiprows': None}}\n",
    "    if file_type == 'csv' or file_type == 'txt':\n",
    "        use = Args['csv']\n",
    "        if arg == None:\n",
    "            data = pd.read_csv(filename)\n",
    "        if arg is not None:\n",
    "            keys = use.keys()\n",
    "            for key in arg.keys():\n",
    "                if key in use.keys():\n",
    "                    use[key] = arg[key]\n",
    "            data = pd.read_csv(filename, use['delimiter'], use['names'], use['skiprows'])\n",
    "    return data"
   ]
  },
  {
   "cell_type": "code",
   "execution_count": 21,
   "metadata": {},
   "outputs": [],
   "source": [
    "def print_thing(thing1, thing2, *args, **kwargs):\n",
    "    arg = kwargs.get('arg', None)\n",
    "    print('thing1', thing1)\n",
    "    print('thing2', thing2)\n",
    "    dic = {'a': 1, 'b': 2}\n",
    "    if type(arg) == type(dic):\n",
    "        print('yessirrrrrr')\n",
    "    print(type(args))"
   ]
  },
  {
   "cell_type": "code",
   "execution_count": null,
   "metadata": {},
   "outputs": [],
   "source": [
    "def fix_elements(data):\n",
    "    g1 = data['Fe/H'] #g1, for given data value #1 -- number density of iron to hydrogen of star/thing we care about\n",
    "    s1 = solar_abundance['Fe'] #s1, for solar data value #1 -- number density of iron to hydrogen of Sun\n",
    "    dic = {}\n",
    "    for g2, s2 in zip(data.keys(), solar_abundance.keys()):\n",
    "        "
   ]
  },
  {
   "cell_type": "code",
   "execution_count": 8,
   "metadata": {},
   "outputs": [
    {
     "data": {
      "text/plain": [
       "0"
      ]
     },
     "execution_count": 8,
     "metadata": {},
     "output_type": "execute_result"
    }
   ],
   "source": [
    "dick = {'a':1, 'b':2}\n",
    "dic = {}\n",
    "len(dic)"
   ]
  },
  {
   "cell_type": "code",
   "execution_count": 9,
   "metadata": {},
   "outputs": [
    {
     "data": {
      "text/plain": [
       "{'a': 11, 'b': 12}"
      ]
     },
     "execution_count": 9,
     "metadata": {},
     "output_type": "execute_result"
    }
   ],
   "source": [
    "# keys = dic.keys()\n",
    "for i in dick.keys():\n",
    "    e = dick[i] + 10\n",
    "    dic[i] = e\n",
    "dic"
   ]
  },
  {
   "cell_type": "code",
   "execution_count": null,
   "metadata": {},
   "outputs": [],
   "source": []
  }
 ],
 "metadata": {
  "kernelspec": {
   "display_name": "Python 3",
   "language": "python",
   "name": "python3"
  },
  "language_info": {
   "codemirror_mode": {
    "name": "ipython",
    "version": 3
   },
   "file_extension": ".py",
   "mimetype": "text/x-python",
   "name": "python",
   "nbconvert_exporter": "python",
   "pygments_lexer": "ipython3",
   "version": "3.8.3"
  }
 },
 "nbformat": 4,
 "nbformat_minor": 4
}
