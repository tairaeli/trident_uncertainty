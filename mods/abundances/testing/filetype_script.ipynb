{
 "cells": [
  {
   "cell_type": "markdown",
   "metadata": {},
   "source": [
    "> ## **Notes**\n",
    "\n",
    "---\n",
    "\n",
    " - having trouble with mangle_dupe_cols....\n",
    " - probs want to go through and make sure defaults are accurate (i.e. = True is True and not just None)\n",
    " - how can I make this useful in and out of trident_mods/solar_abundance?"
   ]
  },
  {
   "cell_type": "markdown",
   "metadata": {},
   "source": [
    "> ## **Filetype Dictionaries**"
   ]
  },
  {
   "cell_type": "code",
   "execution_count": 5,
   "metadata": {},
   "outputs": [],
   "source": [
    "csv = {'sep': None, 'delimiter': None, 'header': None, 'names': None, 'skiprows': None, 'index_col': None, \n",
    "       'usecols': None, 'squeeze': None, 'prefix': None, 'mangle_dupe_cols':True, 'dtype': None, 'engine': None, 'converters': None, \n",
    "       'true_values': None, 'false_values': None, 'skipinitialspace': None, 'skiprows': None, \n",
    "       'skipfooter': None, 'nrows': None, 'na_values': None, 'keep_default_na': None, 'na_filter': None} \n",
    "\n",
    "fwf = {'colspecs': None, 'widths': None, 'infer_rows': None, }\n",
    "\n",
    "orc = {'columns': None}\n",
    "\n",
    "json = {'orient': None, 'typ': None, 'dtype': None, 'convert_axes': None, 'convert_dates': None, \n",
    "       'keep_default_dates': None, 'numpy': None, 'precise_float': None, 'date_unit': None, 'encoding': None,\n",
    "       'lines': None, 'chunksize': None, 'compression': None, 'nrows': None, 'storage_options': None}\n",
    "\n",
    "html = {'match':'.+', 'flavor':None, 'header':None, 'index_col':None, 'skiprows':None, 'attrs':None, 'parse_dates':False, \n",
    "        'thousands':',', 'encoding':None, 'decimal':'.', 'converters':None, 'na_values':None, 'keep_default_na':True, \n",
    "        'displayed_only':True} #read in with filepath as string"
   ]
  },
  {
   "cell_type": "markdown",
   "metadata": {},
   "source": [
    "> ## **Function**"
   ]
  },
  {
   "cell_type": "code",
   "execution_count": 6,
   "metadata": {},
   "outputs": [],
   "source": [
    "\"\"\"\n",
    "csv: args through na_filter, took out mangle_dupe_cols \n",
    "fwf: all args\n",
    "orc: all args\n",
    "json: args through encoding\n",
    "html: all args\n",
    "\"\"\"\n",
    "def filetpye(filename, file_type='csv', *args, **kwargs):\n",
    "    import pandas as pd\n",
    "    arg = kwargs.get('arg', None)\n",
    "#     names = kwargs.get('names', None)\n",
    "    Args = {'csv': csv, 'fwf': fwf, 'orc': orc, 'json': None}\n",
    "    if file_type == 'csv' or file_type == 'txt':\n",
    "        use = Args['csv']\n",
    "        if arg == None:\n",
    "            data = pd.read_csv(filename)\n",
    "        if arg is not None:\n",
    "            keys = use.keys()\n",
    "            for key in arg.keys():\n",
    "                if key in use.keys():\n",
    "                    use[key] = arg[key]\n",
    "            data = pd.read_csv(filename, use['sep'], use['delimiter'], use['header'], use['names'], \n",
    "                               use['skiprows'], use['index_col'], use['usecols'], use['squeeze'], \n",
    "                               use['prefix'], use['mangle_dupe_cols'], use['dtype'], use['engine'], \n",
    "                               use['converters'], use['true_values'], use['false_values'], use['skipinitialspace'], \n",
    "                               use['skiprows'], use['skipfooter'], use['nrows'], use['na_values'], \n",
    "                               use['keep_default_na'], use['na_filter'])\n",
    "    if file_type == 'fwf':\n",
    "        use = Args['fwf']\n",
    "        if arg == None:\n",
    "            data = pd.read_fwf(filename)\n",
    "        if arg is not None:\n",
    "            keys = use.keys()\n",
    "            for key in arg.keys():\n",
    "                if key in use.keys():\n",
    "                    use[key] = arg[key]\n",
    "            data = pd.read_fwf(filename, use['colspecs'], use['widths'], use['infer_rows'])\n",
    "    if file_type == 'orc':\n",
    "        use = Args['orc']\n",
    "        if arg == None:\n",
    "            data = pd.read_orc(filename)\n",
    "        if arg is not None:\n",
    "            keys = use.keys()\n",
    "            for key in arg.keys():\n",
    "                if key in use.keys():\n",
    "                    use[key] = arg[key]\n",
    "            data = pd.read_orc(filename, use['columns'])\n",
    "    if file_type == 'json':\n",
    "        use = Args['json']\n",
    "        if arg == None:\n",
    "            data = pd.read_json(filename)\n",
    "        if arg is not None:\n",
    "            keys = use.keys()\n",
    "            for key in arg.keys():\n",
    "                if key in use.keys():\n",
    "                    use[key] = arg[key]\n",
    "            data = pd.read_json(filename, use['orient'], use['typ'], use['dtype'], use['convert_axes'], \n",
    "                               use['convert_dates'], use['keep_default_dates'], use['numpy'],\n",
    "                                use['precise_float'], use['date_unit'], use['encoding'])\n",
    "    if file_type == 'html':\n",
    "        use = Args['html']\n",
    "        if arg == None:\n",
    "            data = pd.read_json(filename)\n",
    "        if arg is not None:\n",
    "            keys = use.keys()\n",
    "            for key in arg.keys():\n",
    "                if key in use.keys():\n",
    "                    use[key] = arg[key]\n",
    "            data = pd.read_html(filename, use['match'], use['flavor'], use['header'], use['index_col'], \n",
    "                               use['skiprows'], use['attrs'], use['parse_dates'],\n",
    "                                use['thousands'], use['encoding'], use['decimal'], use['converters'], \n",
    "                                use['na_values'], use['keep_default_na'], use['displayed_only'])\n",
    "    \n",
    "            \n",
    "    return data"
   ]
  },
  {
   "cell_type": "markdown",
   "metadata": {},
   "source": [
    "> ## **Test**"
   ]
  },
  {
   "cell_type": "code",
   "execution_count": 7,
   "metadata": {},
   "outputs": [
    {
     "ename": "ValueError",
     "evalue": "Setting mangle_dupe_cols=False is not supported yet",
     "output_type": "error",
     "traceback": [
      "\u001b[0;31m---------------------------------------------------------------------------\u001b[0m",
      "\u001b[0;31mValueError\u001b[0m                                Traceback (most recent call last)",
      "\u001b[0;32m<ipython-input-7-9b2785cac9f0>\u001b[0m in \u001b[0;36m<module>\u001b[0;34m\u001b[0m\n\u001b[1;32m      2\u001b[0m \u001b[0mname_list\u001b[0m \u001b[0;34m=\u001b[0m \u001b[0;34m[\u001b[0m\u001b[0;34m'i'\u001b[0m\u001b[0;34m,\u001b[0m \u001b[0;34m'am'\u001b[0m\u001b[0;34m,\u001b[0m \u001b[0;34m'real'\u001b[0m\u001b[0;34m,\u001b[0m \u001b[0;34m'bad'\u001b[0m\u001b[0;34m,\u001b[0m \u001b[0;34m'at'\u001b[0m\u001b[0;34m,\u001b[0m \u001b[0;34m'words'\u001b[0m\u001b[0;34m]\u001b[0m\u001b[0;34m\u001b[0m\u001b[0;34m\u001b[0m\u001b[0m\n\u001b[1;32m      3\u001b[0m \u001b[0mdic\u001b[0m \u001b[0;34m=\u001b[0m \u001b[0;34m{\u001b[0m\u001b[0;34m'delimiter'\u001b[0m\u001b[0;34m:\u001b[0m \u001b[0;34m','\u001b[0m\u001b[0;34m,\u001b[0m \u001b[0;34m'skiprows'\u001b[0m\u001b[0;34m:\u001b[0m \u001b[0;36m1\u001b[0m\u001b[0;34m}\u001b[0m\u001b[0;34m\u001b[0m\u001b[0;34m\u001b[0m\u001b[0m\n\u001b[0;32m----> 4\u001b[0;31m \u001b[0mdata\u001b[0m \u001b[0;34m=\u001b[0m \u001b[0mfiletpye\u001b[0m\u001b[0;34m(\u001b[0m\u001b[0mfilename\u001b[0m\u001b[0;34m,\u001b[0m \u001b[0marg\u001b[0m \u001b[0;34m=\u001b[0m \u001b[0mdic\u001b[0m\u001b[0;34m)\u001b[0m\u001b[0;34m\u001b[0m\u001b[0;34m\u001b[0m\u001b[0m\n\u001b[0m",
      "\u001b[0;32m<ipython-input-6-b5452c01d89b>\u001b[0m in \u001b[0;36mfiletpye\u001b[0;34m(filename, file_type, *args, **kwargs)\u001b[0m\n\u001b[1;32m     20\u001b[0m                 \u001b[0;32mif\u001b[0m \u001b[0mkey\u001b[0m \u001b[0;32min\u001b[0m \u001b[0muse\u001b[0m\u001b[0;34m.\u001b[0m\u001b[0mkeys\u001b[0m\u001b[0;34m(\u001b[0m\u001b[0;34m)\u001b[0m\u001b[0;34m:\u001b[0m\u001b[0;34m\u001b[0m\u001b[0;34m\u001b[0m\u001b[0m\n\u001b[1;32m     21\u001b[0m                     \u001b[0muse\u001b[0m\u001b[0;34m[\u001b[0m\u001b[0mkey\u001b[0m\u001b[0;34m]\u001b[0m \u001b[0;34m=\u001b[0m \u001b[0marg\u001b[0m\u001b[0;34m[\u001b[0m\u001b[0mkey\u001b[0m\u001b[0;34m]\u001b[0m\u001b[0;34m\u001b[0m\u001b[0;34m\u001b[0m\u001b[0m\n\u001b[0;32m---> 22\u001b[0;31m             data = pd.read_csv(filename, use['sep'], use['delimiter'], use['header'], use['names'], \n\u001b[0m\u001b[1;32m     23\u001b[0m                                \u001b[0muse\u001b[0m\u001b[0;34m[\u001b[0m\u001b[0;34m'skiprows'\u001b[0m\u001b[0;34m]\u001b[0m\u001b[0;34m,\u001b[0m \u001b[0muse\u001b[0m\u001b[0;34m[\u001b[0m\u001b[0;34m'index_col'\u001b[0m\u001b[0;34m]\u001b[0m\u001b[0;34m,\u001b[0m \u001b[0muse\u001b[0m\u001b[0;34m[\u001b[0m\u001b[0;34m'usecols'\u001b[0m\u001b[0;34m]\u001b[0m\u001b[0;34m,\u001b[0m \u001b[0muse\u001b[0m\u001b[0;34m[\u001b[0m\u001b[0;34m'squeeze'\u001b[0m\u001b[0;34m]\u001b[0m\u001b[0;34m,\u001b[0m\u001b[0;34m\u001b[0m\u001b[0;34m\u001b[0m\u001b[0m\n\u001b[1;32m     24\u001b[0m                                \u001b[0muse\u001b[0m\u001b[0;34m[\u001b[0m\u001b[0;34m'prefix'\u001b[0m\u001b[0;34m]\u001b[0m\u001b[0;34m,\u001b[0m \u001b[0muse\u001b[0m\u001b[0;34m[\u001b[0m\u001b[0;34m'mangle_dupe_cols'\u001b[0m\u001b[0;34m]\u001b[0m\u001b[0;34m,\u001b[0m \u001b[0muse\u001b[0m\u001b[0;34m[\u001b[0m\u001b[0;34m'dtype'\u001b[0m\u001b[0;34m]\u001b[0m\u001b[0;34m,\u001b[0m \u001b[0muse\u001b[0m\u001b[0;34m[\u001b[0m\u001b[0;34m'engine'\u001b[0m\u001b[0;34m]\u001b[0m\u001b[0;34m,\u001b[0m\u001b[0;34m\u001b[0m\u001b[0;34m\u001b[0m\u001b[0m\n",
      "\u001b[0;32m~/anaconda3/lib/python3.8/site-packages/pandas/io/parsers.py\u001b[0m in \u001b[0;36mread_csv\u001b[0;34m(filepath_or_buffer, sep, delimiter, header, names, index_col, usecols, squeeze, prefix, mangle_dupe_cols, dtype, engine, converters, true_values, false_values, skipinitialspace, skiprows, skipfooter, nrows, na_values, keep_default_na, na_filter, verbose, skip_blank_lines, parse_dates, infer_datetime_format, keep_date_col, date_parser, dayfirst, cache_dates, iterator, chunksize, compression, thousands, decimal, lineterminator, quotechar, quoting, doublequote, escapechar, comment, encoding, dialect, error_bad_lines, warn_bad_lines, delim_whitespace, low_memory, memory_map, float_precision)\u001b[0m\n\u001b[1;32m    684\u001b[0m     )\n\u001b[1;32m    685\u001b[0m \u001b[0;34m\u001b[0m\u001b[0m\n\u001b[0;32m--> 686\u001b[0;31m     \u001b[0;32mreturn\u001b[0m \u001b[0m_read\u001b[0m\u001b[0;34m(\u001b[0m\u001b[0mfilepath_or_buffer\u001b[0m\u001b[0;34m,\u001b[0m \u001b[0mkwds\u001b[0m\u001b[0;34m)\u001b[0m\u001b[0;34m\u001b[0m\u001b[0;34m\u001b[0m\u001b[0m\n\u001b[0m\u001b[1;32m    687\u001b[0m \u001b[0;34m\u001b[0m\u001b[0m\n\u001b[1;32m    688\u001b[0m \u001b[0;34m\u001b[0m\u001b[0m\n",
      "\u001b[0;32m~/anaconda3/lib/python3.8/site-packages/pandas/io/parsers.py\u001b[0m in \u001b[0;36m_read\u001b[0;34m(filepath_or_buffer, kwds)\u001b[0m\n\u001b[1;32m    450\u001b[0m \u001b[0;34m\u001b[0m\u001b[0m\n\u001b[1;32m    451\u001b[0m     \u001b[0;31m# Create the parser.\u001b[0m\u001b[0;34m\u001b[0m\u001b[0;34m\u001b[0m\u001b[0;34m\u001b[0m\u001b[0m\n\u001b[0;32m--> 452\u001b[0;31m     \u001b[0mparser\u001b[0m \u001b[0;34m=\u001b[0m \u001b[0mTextFileReader\u001b[0m\u001b[0;34m(\u001b[0m\u001b[0mfp_or_buf\u001b[0m\u001b[0;34m,\u001b[0m \u001b[0;34m**\u001b[0m\u001b[0mkwds\u001b[0m\u001b[0;34m)\u001b[0m\u001b[0;34m\u001b[0m\u001b[0;34m\u001b[0m\u001b[0m\n\u001b[0m\u001b[1;32m    453\u001b[0m \u001b[0;34m\u001b[0m\u001b[0m\n\u001b[1;32m    454\u001b[0m     \u001b[0;32mif\u001b[0m \u001b[0mchunksize\u001b[0m \u001b[0;32mor\u001b[0m \u001b[0miterator\u001b[0m\u001b[0;34m:\u001b[0m\u001b[0;34m\u001b[0m\u001b[0;34m\u001b[0m\u001b[0m\n",
      "\u001b[0;32m~/anaconda3/lib/python3.8/site-packages/pandas/io/parsers.py\u001b[0m in \u001b[0;36m__init__\u001b[0;34m(self, f, engine, **kwds)\u001b[0m\n\u001b[1;32m    931\u001b[0m         \u001b[0mself\u001b[0m\u001b[0;34m.\u001b[0m\u001b[0m_currow\u001b[0m \u001b[0;34m=\u001b[0m \u001b[0;36m0\u001b[0m\u001b[0;34m\u001b[0m\u001b[0;34m\u001b[0m\u001b[0m\n\u001b[1;32m    932\u001b[0m \u001b[0;34m\u001b[0m\u001b[0m\n\u001b[0;32m--> 933\u001b[0;31m         \u001b[0moptions\u001b[0m \u001b[0;34m=\u001b[0m \u001b[0mself\u001b[0m\u001b[0;34m.\u001b[0m\u001b[0m_get_options_with_defaults\u001b[0m\u001b[0;34m(\u001b[0m\u001b[0mengine\u001b[0m\u001b[0;34m)\u001b[0m\u001b[0;34m\u001b[0m\u001b[0;34m\u001b[0m\u001b[0m\n\u001b[0m\u001b[1;32m    934\u001b[0m \u001b[0;34m\u001b[0m\u001b[0m\n\u001b[1;32m    935\u001b[0m         \u001b[0mself\u001b[0m\u001b[0;34m.\u001b[0m\u001b[0mchunksize\u001b[0m \u001b[0;34m=\u001b[0m \u001b[0moptions\u001b[0m\u001b[0;34m.\u001b[0m\u001b[0mpop\u001b[0m\u001b[0;34m(\u001b[0m\u001b[0;34m\"chunksize\"\u001b[0m\u001b[0;34m,\u001b[0m \u001b[0;32mNone\u001b[0m\u001b[0;34m)\u001b[0m\u001b[0;34m\u001b[0m\u001b[0;34m\u001b[0m\u001b[0m\n",
      "\u001b[0;32m~/anaconda3/lib/python3.8/site-packages/pandas/io/parsers.py\u001b[0m in \u001b[0;36m_get_options_with_defaults\u001b[0;34m(self, engine)\u001b[0m\n\u001b[1;32m    959\u001b[0m             \u001b[0;31m# see gh-12935\u001b[0m\u001b[0;34m\u001b[0m\u001b[0;34m\u001b[0m\u001b[0;34m\u001b[0m\u001b[0m\n\u001b[1;32m    960\u001b[0m             \u001b[0;32mif\u001b[0m \u001b[0margname\u001b[0m \u001b[0;34m==\u001b[0m \u001b[0;34m\"mangle_dupe_cols\"\u001b[0m \u001b[0;32mand\u001b[0m \u001b[0;32mnot\u001b[0m \u001b[0mvalue\u001b[0m\u001b[0;34m:\u001b[0m\u001b[0;34m\u001b[0m\u001b[0;34m\u001b[0m\u001b[0m\n\u001b[0;32m--> 961\u001b[0;31m                 \u001b[0;32mraise\u001b[0m \u001b[0mValueError\u001b[0m\u001b[0;34m(\u001b[0m\u001b[0;34m\"Setting mangle_dupe_cols=False is not supported yet\"\u001b[0m\u001b[0;34m)\u001b[0m\u001b[0;34m\u001b[0m\u001b[0;34m\u001b[0m\u001b[0m\n\u001b[0m\u001b[1;32m    962\u001b[0m             \u001b[0;32melse\u001b[0m\u001b[0;34m:\u001b[0m\u001b[0;34m\u001b[0m\u001b[0;34m\u001b[0m\u001b[0m\n\u001b[1;32m    963\u001b[0m                 \u001b[0moptions\u001b[0m\u001b[0;34m[\u001b[0m\u001b[0margname\u001b[0m\u001b[0;34m]\u001b[0m \u001b[0;34m=\u001b[0m \u001b[0mvalue\u001b[0m\u001b[0;34m\u001b[0m\u001b[0;34m\u001b[0m\u001b[0m\n",
      "\u001b[0;31mValueError\u001b[0m: Setting mangle_dupe_cols=False is not supported yet"
     ]
    }
   ],
   "source": [
    "filename = 'addresses.csv'\n",
    "name_list = ['i', 'am', 'real', 'bad', 'at', 'words']\n",
    "dic = {'delimiter': ',', 'skiprows': 1}\n",
    "data = filetpye(filename, arg = dic)"
   ]
  },
  {
   "cell_type": "code",
   "execution_count": null,
   "metadata": {},
   "outputs": [],
   "source": []
  }
 ],
 "metadata": {
  "kernelspec": {
   "display_name": "Python 3",
   "language": "python",
   "name": "python3"
  },
  "language_info": {
   "codemirror_mode": {
    "name": "ipython",
    "version": 3
   },
   "file_extension": ".py",
   "mimetype": "text/x-python",
   "name": "python",
   "nbconvert_exporter": "python",
   "pygments_lexer": "ipython3",
   "version": "3.8.5"
  }
 },
 "nbformat": 4,
 "nbformat_minor": 4
}
