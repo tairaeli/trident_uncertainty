{
 "cells": [
  {
   "cell_type": "code",
   "execution_count": 2,
   "metadata": {},
   "outputs": [],
   "source": [
    "import fsps\n",
    "import numpy as np\n",
    "import pandas as pd\n",
    "import astropy.cosmology as cos\n",
    "from astropy.cosmology import FlatLambdaCDM\n",
    "import unyt as u\n",
    "import pickle\n",
    "import matplotlib.pyplot as plt"
   ]
  },
  {
   "cell_type": "code",
   "execution_count": 5,
   "metadata": {},
   "outputs": [],
   "source": [
    "def read_cloudy_in(file):\n",
    "    df = pd.read_csv(file,\n",
    "                     header = None,\n",
    "                    skiprows = 5,\n",
    "                    skipfooter = 3,\n",
    "                    delim_whitespace = True)\n",
    "    \n",
    "    df = df.drop(columns = 0)\n",
    "    \n",
    "    for i in range(len(df[1])):\n",
    "        df[1][i] = float(df[1][i].replace(\")\",\"\").replace(\"(\",\"\"))\n",
    "        df[2][i] = float(df[2][i].replace(\")\",\"\").replace(\"(\",\"\"))\n",
    "    \n",
    "    return df"
   ]
  },
  {
   "cell_type": "code",
   "execution_count": 6,
   "metadata": {},
   "outputs": [
    {
     "data": {
      "text/plain": [
       "dict_keys([1.259, 1.37, 1.487, 1.609, 1.737, 1.871, 2.013, 2.16, 2.316, 2.479, 2.649])"
      ]
     },
     "execution_count": 6,
     "metadata": {},
     "output_type": "execute_result"
    }
   ],
   "source": [
    "with open(\"spec_dat.pickle\",'rb') as b:\n",
    "        dat = pickle.load(b)\n",
    "\n",
    "dat[20].keys()"
   ]
  },
  {
   "cell_type": "code",
   "execution_count": 7,
   "metadata": {},
   "outputs": [
    {
     "data": {
      "text/plain": [
       "<matplotlib.legend.Legend at 0x2ab8b0298438>"
      ]
     },
     "execution_count": 7,
     "metadata": {},
     "output_type": "execute_result"
    },
    {
     "data": {
      "image/png": "[encoded data removed]",
      "text/plain": [
       "<Figure size 432x288 with 1 Axes>"
      ]
     },
     "metadata": {
      "needs_background": "light"
     },
     "output_type": "display_data"
    }
   ],
   "source": [
    "for rs in dat[20].keys():\n",
    "    \n",
    "    spec = dat[20][rs]['spec']\n",
    "    wave = dat[20][rs]['wave'] \n",
    "    \n",
    "    d_cm = 20*3.086e+21\n",
    "    spec = spec/(16*np.pi**2*d_cm**2) \n",
    "\n",
    "    lum = spec*(3e8/(wave*1e-10))\n",
    "\n",
    "    Ryd = 2.1798723611035e-18 * u.J\n",
    "    nwave = wave * u.Angstrom\n",
    "    nu = nwave.to(\"J\", equivalence=\"spectral\") / Ryd\n",
    "    nu = nu.to_value()\n",
    "    \n",
    "    plt.plot(nu,lum,label = rs)\n",
    "    \n",
    "# plt.xscale('log')\n",
    "plt.xlim(0.5,10)\n",
    "plt.yscale('log')\n",
    "plt.ylim(10**(-42),10**(-38))\n",
    "plt.xlabel(\"Energy (Ryd)\")\n",
    "plt.ylabel(\"Luminosity (solar)\")\n",
    "plt.title(\"Luminosity v Energy at Variable Redshifts\")\n",
    "plt.legend(ncol = 2)"
   ]
  },
  {
   "cell_type": "code",
   "execution_count": 8,
   "metadata": {},
   "outputs": [
    {
     "data": {
      "text/plain": [
       "0.0"
      ]
     },
     "execution_count": 8,
     "metadata": {},
     "output_type": "execute_result"
    }
   ],
   "source": [
    "om = pd.read_csv(\"/mnt/home/tairaeli/astro_libs/PyCEE/omega_dat.csv\")\n",
    "met = om[\"metal\"]\n",
    "np.min(met)"
   ]
  },
  {
   "cell_type": "code",
   "execution_count": 9,
   "metadata": {},
   "outputs": [
    {
     "name": "stderr",
     "output_type": "stream",
     "text": [
      "/opt/software/Python/3.6.4-foss-2018a/lib/python3.6/site-packages/ipykernel_launcher.py:6: ParserWarning: Falling back to the 'python' engine because the 'c' engine does not support skipfooter; you can avoid this warning by specifying engine='python'.\n",
      "  \n"
     ]
    }
   ],
   "source": [
    "put_dat = read_cloudy_in(\"/mnt/home/tairaeli/astro_libs/cloudy_cooling_tools/examples/grackle/P19_UVB/z_2.6490e+00.out\")\n",
    "kpc20 = read_cloudy_in(\"/mnt/gs21/scratch/tairaeli/20_kpc_dat/z_2.6490e+00.out\")\n"
   ]
  },
  {
   "cell_type": "code",
   "execution_count": 30,
   "metadata": {},
   "outputs": [],
   "source": [
    "ptw_file = '/mnt/home/tairaeli/Junk/cloudy_cooling_tools_degraded/examples/ion_balance/test_bin/puchwein19_bkgthick.out'\n",
    "\n",
    "ptw_rs = np.genfromtxt(ptw_file, max_rows = 1)\n",
    "ptw_data = np.genfromtxt(ptw_file, skip_header=11)\n",
    "\n",
    "ptw_wave = ptw_data[:,0]\n",
    "\n",
    "rs_range = [1.2,2.7]\n",
    "rs_mask0 = np.where((ptw_rs>=rs_range[0]) & (ptw_rs<=rs_range[1]))\n",
    "\n",
    "ptw_rs = ptw_rs[rs_mask0]\n",
    "ptw_data = ptw_data[:,rs_mask0]\n",
    "\n",
    "def rebin(Egal,erg,uvb_spec):\n",
    "    \n",
    "    # initializing array to store new luminosities\n",
    "    nerg = np.zeros(len(nu))*u.erg/u.cm**2\n",
    "    \n",
    "    erg = np.flip(erg)\n",
    "    \n",
    "    # compare wave data from FSPS to desired wave binning to rebin spec data\n",
    "    iuvb = 0\n",
    "    for i in range(wave.size):\n",
    "        \n",
    "        # accounting for indexing issues in first bin\n",
    "        if Egal[i]<nu[0]:\n",
    "            nerg[iuvb] += erg[i]\n",
    "        else:\n",
    "            if iuvb <= len(nerg)-2:\n",
    "                if nu[iuvb+1] <= Egal[i]:\n",
    "                    iuvb += 1\n",
    "            \n",
    "                dist = nu[iuvb+1] - nu[iuvb]\n",
    "                E_dist = Egal[i] - nu[iuvb]\n",
    "                norm_E_dist = E_dist/dist\n",
    "                nerg[iuvb] += erg[i]*(1-norm_E_dist)\n",
    "                nerg[iuvb+1] += erg[i]*norm_E_dist\n",
    "            else:\n",
    "                nerg[iuvb] += erg[i]\n",
    "    print(f\"min nerg at {d} is {np.min(nerg)}\")\n",
    "    # adding the Putwein et.al. intensities to the intensity from FSPS\n",
    "    nerg += uvb_spec\n",
    "#     print(uvb_spec[minmask])\n",
    "    return nerg\n",
    "\n",
    "def round_arr(arr):\n",
    "    iout = []\n",
    "    for i in range(len(arr)):\n",
    "        iout.append(float(f\"{arr[i]:.10f}\"))\n",
    "    return np.asarray(iout)"
   ]
  },
  {
   "cell_type": "code",
   "execution_count": 31,
   "metadata": {},
   "outputs": [
    {
     "data": {
      "text/plain": [
       "2.649"
      ]
     },
     "execution_count": 31,
     "metadata": {},
     "output_type": "execute_result"
    }
   ],
   "source": [
    "ptw_rs[10]"
   ]
  },
  {
   "cell_type": "code",
   "execution_count": 38,
   "metadata": {},
   "outputs": [
    {
     "name": "stderr",
     "output_type": "stream",
     "text": [
      "/opt/software/Python/3.6.4-foss-2018a/lib/python3.6/site-packages/ipykernel_launcher.py:35: RuntimeWarning: divide by zero encountered in double_scalars\n",
      "/mnt/home/tairaeli/.local/lib/python3.6/site-packages/unyt/array.py:1674: RuntimeWarning: invalid value encountered in log10\n",
      "  out_arr = func(np.asarray(inp), out=out_func, **kwargs)\n"
     ]
    },
    {
     "name": "stdout",
     "output_type": "stream",
     "text": [
      "min nerg at 20 is -inf erg/cm**2\n"
     ]
    },
    {
     "name": "stderr",
     "output_type": "stream",
     "text": [
      "/opt/software/Python/3.6.4-foss-2018a/lib/python3.6/site-packages/ipykernel_launcher.py:35: RuntimeWarning: divide by zero encountered in double_scalars\n",
      "/mnt/home/tairaeli/.local/lib/python3.6/site-packages/unyt/array.py:1674: RuntimeWarning: invalid value encountered in log10\n",
      "  out_arr = func(np.asarray(inp), out=out_func, **kwargs)\n"
     ]
    },
    {
     "name": "stdout",
     "output_type": "stream",
     "text": [
      "min nerg at 50 is -inf erg/cm**2\n"
     ]
    },
    {
     "name": "stderr",
     "output_type": "stream",
     "text": [
      "/opt/software/Python/3.6.4-foss-2018a/lib/python3.6/site-packages/ipykernel_launcher.py:35: RuntimeWarning: divide by zero encountered in double_scalars\n",
      "/mnt/home/tairaeli/.local/lib/python3.6/site-packages/unyt/array.py:1674: RuntimeWarning: invalid value encountered in log10\n",
      "  out_arr = func(np.asarray(inp), out=out_func, **kwargs)\n"
     ]
    },
    {
     "name": "stdout",
     "output_type": "stream",
     "text": [
      "min nerg at 100 is -inf erg/cm**2\n"
     ]
    },
    {
     "name": "stderr",
     "output_type": "stream",
     "text": [
      "/opt/software/Python/3.6.4-foss-2018a/lib/python3.6/site-packages/ipykernel_launcher.py:35: RuntimeWarning: divide by zero encountered in double_scalars\n",
      "/mnt/home/tairaeli/.local/lib/python3.6/site-packages/unyt/array.py:1674: RuntimeWarning: invalid value encountered in log10\n",
      "  out_arr = func(np.asarray(inp), out=out_func, **kwargs)\n"
     ]
    },
    {
     "name": "stdout",
     "output_type": "stream",
     "text": [
      "min nerg at 150 is -inf erg/cm**2\n",
      "min nerg at 200 is -inf erg/cm**2\n"
     ]
    },
    {
     "name": "stderr",
     "output_type": "stream",
     "text": [
      "/opt/software/Python/3.6.4-foss-2018a/lib/python3.6/site-packages/ipykernel_launcher.py:35: RuntimeWarning: divide by zero encountered in double_scalars\n",
      "/mnt/home/tairaeli/.local/lib/python3.6/site-packages/unyt/array.py:1674: RuntimeWarning: invalid value encountered in log10\n",
      "  out_arr = func(np.asarray(inp), out=out_func, **kwargs)\n"
     ]
    },
    {
     "data": {
      "text/plain": [
       "(0.5, 10)"
      ]
     },
     "execution_count": 38,
     "metadata": {},
     "output_type": "execute_result"
    },
    {
     "data": {
      "image/png": "[encoded data removed]",
      "text/plain": [
       "<Figure size 432x288 with 1 Axes>"
      ]
     },
     "metadata": {
      "needs_background": "light"
     },
     "output_type": "display_data"
    }
   ],
   "source": [
    "wave = dat[20][2.649]['wave']\n",
    "wav = ptw_wave*u.Angstrom\n",
    "Ryd = 2.1798723611035e-18 * u.J\n",
    "\n",
    "gal_wave = wave*u.Angstrom\n",
    "\n",
    "nu_gal = gal_wave.to(\"J\", equivalence=\"spectral\") / Ryd\n",
    "nu_gal = np.flip(nu_gal.to_value())\n",
    "\n",
    "dlis = [20,50,100,150,200]\n",
    "speclis = []\n",
    "ptw_spec = ptw_data[:,0,-1]\n",
    "\n",
    "nu = wav.to(\"J\", equivalence= \"spectral\") / Ryd\n",
    "nu = np.flip(nu.to_value())\n",
    "\n",
    "# setting RS\n",
    "rs = 2.649\n",
    "\n",
    "#index of rs in uvb data\n",
    "irs = 10\n",
    "\n",
    "for d in dlis:\n",
    "    \n",
    "    wave = dat[d][rs][\"wave\"]\n",
    "    spec = dat[d][rs][\"spec\"]\n",
    "\n",
    "    gal_wave = wave*u.Angstrom\n",
    "\n",
    "    nu_gal = gal_wave.to(\"J\", equivalence=\"spectral\") / Ryd\n",
    "    nu_gal = np.flip(nu_gal.to_value())\n",
    "\n",
    "    # adding units to spectral data\n",
    "    spec = spec*u.lsun/u.Hz\n",
    "    # converting distance from galactic center into centimeters\n",
    "    d_cm = (d*u.kpc).to(\"cm\")\n",
    "\n",
    "    # converting FSPS spectra to units of erg/cm^2\n",
    "    erg = spec.to(\"erg\")/((4*np.pi)**2*d_cm**2)\n",
    "\n",
    "    # calling the uvb intensity data for the current redshift\n",
    "    uvb_spec = ptw_data[:,0,irs]*u.erg/u.cm**2\n",
    "\n",
    "    # rebining data to match desired Cloudy input\n",
    "    spec = rebin(nu_gal,erg,uvb_spec)\n",
    "                                        \n",
    "    plt.plot(nu,np.log10(spec))\n",
    "#     plt.plot(nu,np.flip(ptw_spec))\n",
    "# plt.yscale(\"log\")\n",
    "plt.xscale(\"log\")\n",
    "plt.xlim(0.5,10)\n",
    "# plt.ylim(1e-27,1e-18)"
   ]
  },
  {
   "cell_type": "code",
   "execution_count": 9,
   "metadata": {},
   "outputs": [
    {
     "data": {
      "text/plain": [
       "array([17, 18, 19, 20, 21, 22, 23, 24, 25, 26, 27])"
      ]
     },
     "execution_count": 9,
     "metadata": {},
     "output_type": "execute_result"
    }
   ],
   "source": []
  },
  {
   "cell_type": "code",
   "execution_count": null,
   "metadata": {
    "scrolled": false
   },
   "outputs": [],
   "source": []
  },
  {
   "cell_type": "code",
   "execution_count": 28,
   "metadata": {},
   "outputs": [],
   "source": [
    "iout = []\n",
    "\n",
    "for i in range(len(dat[20][2.649]['rebin_spec'])):\n",
    "#     iout.append(float(f\"{dat[20][2.649]['rebin_spec'][i]:.10f}\"))\n",
    "    iout.append(float(f\"{speclis[0][i]:.10f}\"))\n",
    "    print()\n",
    "iout = np.asarray(iout)"
   ]
  },
  {
   "cell_type": "code",
   "execution_count": 29,
   "metadata": {},
   "outputs": [
    {
     "data": {
      "text/plain": [
       "array([-32.18362611, -31.10796108, -31.0725783 , -31.03715732,\n",
       "       -31.00178427, -30.96657624, -30.93107239, -30.89551289,\n",
       "       -30.86012091, -30.8247782 , -30.78941398, -30.7539941 ,\n",
       "       -30.71851211, -30.68319125, -30.64781748, -30.61243222,\n",
       "       -30.57691804, -30.54151324, -30.50612389, -30.4708264 ,\n",
       "       -30.43533394, -30.40000782, -30.3646168 , -30.32919772,\n",
       "       -30.29379446, -30.24343996, -30.16027062, -30.05041485,\n",
       "       -29.92009553, -29.78198996, -29.64454848, -29.50668139,\n",
       "       -29.37232697, -29.24214866, -29.11492162, -28.99396204,\n",
       "       -28.87680192, -28.76346274, -28.65501859, -28.54990492,\n",
       "       -28.44867201, -28.3513473 , -28.25696085, -28.16698045,\n",
       "       -28.07998108, -27.99567863, -27.91470942, -27.83594471,\n",
       "       -27.75995023, -27.68676571, -27.61618463, -27.54852059,\n",
       "       -27.48306819, -27.41941712, -27.35783237, -27.29782805,\n",
       "       -27.23957752, -27.18283143, -27.12755235, -27.07443009,\n",
       "       -27.0228711 , -26.97265039, -26.92372374, -26.87582194,\n",
       "       -26.8291518 , -26.78357017, -26.73873713, -26.69550947,\n",
       "       -26.65286522, -26.61136603, -26.57073233, -26.5309147 ,\n",
       "       -26.49187446, -26.45358073, -26.41566878, -26.37861597,\n",
       "       -26.3419886 , -26.3058337 , -26.27002571, -26.23448046,\n",
       "       -26.19921421, -26.16418265, -26.12930354, -26.09490603,\n",
       "       -26.06083032, -26.02691835, -25.99310629, -25.95939766,\n",
       "       -25.92591531, -25.89279003, -25.85949196, -25.82681373,\n",
       "       -25.79452496, -25.76270766, -25.73095429, -25.69962194,\n",
       "       -25.66877522, -25.63846103, -25.6083593 , -25.57888987,\n",
       "       -25.54975089, -25.52100087, -25.49254894, -25.46445272,\n",
       "       -25.43687504, -25.4097156 , -25.38289477, -25.35654732,\n",
       "       -25.33049717, -25.30495634, -25.27992343, -25.25547233,\n",
       "       -25.23165794, -25.20830935, -25.18548605, -25.16316971,\n",
       "       -25.14140266, -25.12010168, -25.0996875 , -25.08018998,\n",
       "       -25.06168046, -25.04416799, -25.02775086, -25.0126019 ,\n",
       "       -24.99869907, -24.98674133, -24.97592501, -24.96697856,\n",
       "       -24.95900231, -24.95233581, -24.94692156, -24.9423339 ,\n",
       "       -24.93817069, -24.93479387, -24.9314431 , -24.9277501 ,\n",
       "       -24.92408824, -24.92009553, -24.91578131, -24.91115544,\n",
       "       -24.90657831, -24.90204893, -24.89756629, -24.89312946,\n",
       "       -24.88907376, -24.88438949, -24.87942607, -24.87451873,\n",
       "       -24.86646109, -24.85356186, -24.83773439, -24.82188675,\n",
       "       -24.80799041, -24.79642323, -24.78674795, -24.77884668,\n",
       "       -24.7721133 , -24.76624264, -24.76070052, -24.75522824,\n",
       "       -24.74982405, -24.74424521, -24.73873713, -24.73282827,\n",
       "       -24.72699873, -24.72101788, -24.71489297, -24.70840917,\n",
       "       -24.70158362, -24.69486368, -24.68803434, -24.6806857 ,\n",
       "       -24.67284549, -24.66474274, -24.6569855 , -24.64917073,\n",
       "       -24.6411138 , -24.63301702, -24.62451929, -24.6165437 ,\n",
       "       -24.60906489, -24.60171269, -24.59448289, -24.58737148,\n",
       "       -24.57971412, -24.56831466, -24.55036735, -24.52389328,\n",
       "       -24.49241396, -24.45829598, -24.42423502, -24.3902989 ,\n",
       "       -24.35654732, -24.32294082, -24.28954414, -24.25649024,\n",
       "       -24.22373478, -24.19131649, -24.15926677, -24.12772715,\n",
       "       -24.09663866, -24.06615854, -24.03625938, -24.00735813,\n",
       "       -23.9788107 , -23.95116991, -23.92408824, -23.89825293,\n",
       "       -23.8728952 , -23.8480176 , -23.82419837, -23.80161787,\n",
       "       -23.77910775, -23.7577071 , -23.73683753, -23.71692503,\n",
       "       -23.69745263, -23.67881597, -23.66134433, -23.64378287,\n",
       "       -23.627088  , -23.61118859, -23.59585075, -23.58103617,\n",
       "       -23.567191  , -23.5537736 , -23.54106014, -23.52900183,\n",
       "       -23.51741223, -23.50640255, -23.49580108, -23.48545225,\n",
       "       -23.47534429, -23.46546624, -23.45580789, -23.4462383 ,\n",
       "       -23.4367563 , -23.42701229, -23.41770932, -23.40849019,\n",
       "       -23.39870069, -23.38944629, -23.37986395, -23.37191774,\n",
       "       -23.3646168 , -23.35497094, -23.34409358, -23.32790214,\n",
       "       -23.2916641 , -23.19287104, -22.97469413, -22.97469413,\n",
       "       -22.9058784 , -22.92299567, -22.92134384, -22.91976325,\n",
       "       -22.91819199, -22.91662281, -22.91506285, -22.91351204,\n",
       "       -22.91196319, -22.91042338, -22.90888549, -22.90727936,\n",
       "       -22.92811799, -22.92608013, -22.92391324, -22.92175712,\n",
       "       -22.91961526, -22.9174839 , -22.91536653, -22.91325588,\n",
       "       -22.91116252, -22.90907567, -22.90692869, -22.93292914,\n",
       "       -22.92975889, -22.92658228, -22.92343237, -22.92030514,\n",
       "       -22.91720386, -22.91412457, -22.91107404, -22.90804478,\n",
       "       -22.90504   , -22.90204893, -22.93554201, -22.9304688 ,\n",
       "       -22.92562978, -22.92085133, -22.91613204, -22.91146702,\n",
       "       -22.9068621 , -22.90231243, -22.89781679, -22.8933774 ,\n",
       "       -22.88907376, -22.93367407, -22.92568834, -22.91799419,\n",
       "       -22.91046225, -22.90308304, -22.89585787, -22.88878455,\n",
       "       -22.88186429, -22.87509492, -22.86847757, -22.86201327,\n",
       "       -22.92518356, -22.92072467, -22.9164723 , -22.91227891,\n",
       "       -22.90814319, -22.9040639 , -22.90003982, -22.89607661,\n",
       "       -22.89216957, -22.88831751, -22.90239567, -22.87181405,\n",
       "       -22.84310573, -22.81655647, -22.80548566, -22.90343756,\n",
       "       -22.88708346, -22.85927518, -22.83300481, -22.80873347,\n",
       "       -22.78542635, -22.76420651, -22.74617756, -22.7245274 ,\n",
       "       -22.70361346, -22.68420593, -22.66801223, -22.66054856,\n",
       "       -22.83953147, -22.83005825, -22.80787878, -22.78649818,\n",
       "       -22.76362903, -22.74340491, -22.72056121, -22.69948495,\n",
       "       -22.67816554, -22.65712747, -22.6450833 , -22.63244841,\n",
       "       -22.61776676, -22.60171096, -22.58544612, -22.56932844,\n",
       "       -22.55113915, -22.43592602, -22.33133458, -22.04291974,\n",
       "       -22.05134257, -22.06610796, -22.0651482 , -22.05119595,\n",
       "       -22.0216825 , -21.9863203 , -21.9515582 , -21.92081875,\n",
       "       -21.88438949, -21.84740592, -21.80715388, -21.77650406,\n",
       "       -21.73945163, -21.68613278, -21.64206515, -21.60677588,\n",
       "       -21.57300104, -21.53461715, -21.49825627, -21.470698  ,\n",
       "       -21.44141142, -21.40307319, -21.35438126, -21.31704307,\n",
       "       -21.31975516, -21.31867463, -21.31753993, -21.31639378,\n",
       "       -21.3152372 , -21.31406936, -21.31289216, -21.31170301,\n",
       "       -21.31050379, -21.30929282, -21.3080349 , -21.31140222,\n",
       "       -21.30965416, -21.30792545, -21.30617548, -21.30440451,\n",
       "       -21.30261284, -21.30079901, -21.29896507, -21.2971087 ,\n",
       "       -21.2952311 , -21.29336755, -21.29739716, -21.29455454,\n",
       "       -21.29164115, -21.28867962, -21.28567024, -21.28261163,\n",
       "       -21.27950415, -21.27634898, -21.27314326, -21.26988906,\n",
       "       -21.26656197, -21.27188982, -21.26658685, -21.26119646,\n",
       "       -21.25568432, -21.25005045, -21.24429509, -21.23841793,\n",
       "       -21.23241747, -21.22629545, -21.22005016, -21.21367457,\n",
       "       -21.22083658, -21.20985071, -21.19856405, -21.18694034,\n",
       "       -21.17498305, -21.16269319, -21.15007472, -21.13713011,\n",
       "       -21.1238636 , -21.11027822, -21.09636748, -21.10662667,\n",
       "       -21.09813264, -21.08955703, -21.08087639, -21.07209249,\n",
       "       -21.06320687, -21.05422033, -21.04513448, -21.03595026,\n",
       "       -21.02666891, -21.01818139, -20.96826039, -20.92220709,\n",
       "       -20.87939317, -20.86106606, -20.87745648, -20.8518757 ,\n",
       "       -20.80818583, -20.76737993, -20.7290488 , -20.69282713,\n",
       "       -20.65481258, -20.61564659, -20.5876201 , -20.56014804,\n",
       "       -20.53321243, -20.50578277, -20.49025998, -20.52157781,\n",
       "       -20.50942355, -20.48211954, -20.45533056, -20.42900665,\n",
       "       -20.40122481, -20.37232697, -20.35094372, -20.33030758,\n",
       "       -20.3103316 , -20.290418  , -20.27055171, -20.25065875,\n",
       "       -20.23088717, -20.21122447, -20.1916722 , -20.16889844,\n",
       "       -20.02576472, -19.92922354, -19.72955409, -19.67284549,\n",
       "       -19.60959484, -19.55752023, -19.51257879, -19.47873112,\n",
       "       -19.44952704, -19.4175957 , -19.38785216, -19.36151074,\n",
       "       -19.33894492, -19.31975516, -19.30399328, -19.28676154,\n",
       "       -19.27368039, -19.2651202 , -19.25508146, -19.24542234,\n",
       "       -19.23612297, -19.22599427, -19.21666824, -19.20746824,\n",
       "       -19.19804777, -19.19077708, -19.17515853, -19.14176366,\n",
       "       -19.10507502, -19.07334892, -19.04460091, -19.02232211,\n",
       "       -19.00388252, -18.98464024, -18.96697856, -18.95039439,\n",
       "       -18.93591656, -18.92190585, -18.90868484, -18.89722339,\n",
       "       -18.88405682, -18.86998805, -18.85667287, -18.84345085,\n",
       "       -18.82768903, -18.81107152, -18.79588002, -18.77963037,\n",
       "       -18.76497684, -18.75276345, -18.74208155, -18.73235902,\n",
       "       -18.72399801, -18.7171514 , -18.71018816, -18.7000571 ,\n",
       "       -18.68697689, -18.67386904, -18.66514431, -18.66294027,\n",
       "       -18.66534523, -18.6699923 , -18.67633546, -18.68444947,\n",
       "       -18.70027485, -18.72514968, -18.75129126, -18.77417401,\n",
       "       -18.79371396, -18.81163407, -18.82768903, -18.84375381,\n",
       "       -18.86043573, -18.87811201, -18.89722339, -18.91721463,\n",
       "       -18.93741802, -18.96058588, -18.9863203 , -19.01019435,\n",
       "       -19.03147036, -19.04987865, -19.06524913, -19.07779372,\n",
       "       -19.08772479, -19.09533854, -19.10100073, -19.10457745,\n",
       "       -19.105961  , -19.1049644 , -19.10149421, -19.09550084,\n",
       "       -19.08714052, -19.07639336, -19.06348626, -19.04793441,\n",
       "       -19.02951365, -19.00877392, -18.9863203 , -18.96417017,\n",
       "       -18.94309515, -18.92226882, -18.90239567, -18.8827287 ,\n",
       "       -18.86296255, -18.84345085, -18.82390874, -18.80437706,\n",
       "       -18.78462685, -18.76421913, -18.74280157, -18.72033306,\n",
       "       -18.69680394, -18.67243674, -18.64723881, -18.62142042,\n",
       "       -18.59482445, -18.56783273, -18.54030602, -18.51215488,\n",
       "       -18.48359685, -18.45469288, -18.42527442, -18.39544997,\n",
       "       -18.36542198, -18.33545204, -18.3053948 , -18.27523275,\n",
       "       -18.24496407, -18.21467017, -18.18415671, -18.15353917,\n",
       "       -18.12303203, -18.09291125, -18.063235  , -18.03390522,\n",
       "       -18.00480371, -17.97592501, -17.94730606, -17.91973437,\n",
       "       -17.89312946, -17.86710023, -17.84163751, -17.8173001 ,\n",
       "       -17.79452496, -17.77314243])"
      ]
     },
     "execution_count": 29,
     "metadata": {},
     "output_type": "execute_result"
    }
   ],
   "source": [
    "iout"
   ]
  },
  {
   "cell_type": "code",
   "execution_count": 22,
   "metadata": {},
   "outputs": [
    {
     "ename": "IndexError",
     "evalue": "list index out of range",
     "output_type": "error",
     "traceback": [
      "\u001b[0;31m---------------------------------------------------------------------------\u001b[0m",
      "\u001b[0;31mIndexError\u001b[0m                                Traceback (most recent call last)",
      "\u001b[0;32m<ipython-input-22-93035f83b200>\u001b[0m in \u001b[0;36m<module>\u001b[0;34m\u001b[0m\n\u001b[1;32m      1\u001b[0m \u001b[0;31m# plt.plot(nu,10**(np.flip(iout))- 10**(put_dat[2]))\u001b[0m\u001b[0;34m\u001b[0m\u001b[0;34m\u001b[0m\u001b[0m\n\u001b[0;32m----> 2\u001b[0;31m \u001b[0mplt\u001b[0m\u001b[0;34m.\u001b[0m\u001b[0mplot\u001b[0m\u001b[0;34m(\u001b[0m\u001b[0mnu\u001b[0m\u001b[0;34m,\u001b[0m\u001b[0;36m10\u001b[0m\u001b[0;34m**\u001b[0m\u001b[0;34m(\u001b[0m\u001b[0mnp\u001b[0m\u001b[0;34m.\u001b[0m\u001b[0mflip\u001b[0m\u001b[0;34m(\u001b[0m\u001b[0mspeclis\u001b[0m\u001b[0;34m[\u001b[0m\u001b[0;36m0\u001b[0m\u001b[0;34m]\u001b[0m\u001b[0;34m)\u001b[0m\u001b[0;34m)\u001b[0m\u001b[0;34m-\u001b[0m \u001b[0;36m10\u001b[0m\u001b[0;34m**\u001b[0m\u001b[0;34m(\u001b[0m\u001b[0mput_dat\u001b[0m\u001b[0;34m[\u001b[0m\u001b[0;36m2\u001b[0m\u001b[0;34m]\u001b[0m\u001b[0;34m)\u001b[0m\u001b[0;34m)\u001b[0m\u001b[0;34m\u001b[0m\u001b[0m\n\u001b[0m\u001b[1;32m      3\u001b[0m \u001b[0;34m\u001b[0m\u001b[0m\n\u001b[1;32m      4\u001b[0m \u001b[0mplt\u001b[0m\u001b[0;34m.\u001b[0m\u001b[0myscale\u001b[0m\u001b[0;34m(\u001b[0m\u001b[0;34m\"log\"\u001b[0m\u001b[0;34m)\u001b[0m\u001b[0;34m\u001b[0m\u001b[0m\n\u001b[1;32m      5\u001b[0m \u001b[0;31m# plt.xlim([0,0.2e6])\u001b[0m\u001b[0;34m\u001b[0m\u001b[0;34m\u001b[0m\u001b[0m\n",
      "\u001b[0;31mIndexError\u001b[0m: list index out of range"
     ]
    }
   ],
   "source": [
    "# plt.plot(nu,10**(np.flip(iout))- 10**(put_dat[2]))\n",
    "plt.plot(nu,10**(np.flip(speclis[0]))- 10**(put_dat[2]))\n",
    "\n",
    "plt.yscale(\"log\")\n",
    "# plt.xlim([0,0.2e6])\n",
    "plt.title(\"Intensity from cloudy input\")\n",
    "plt.ylabel(\"$\\Delta$ I ($\\odot$/$cm^2$)\")\n",
    "plt.xlabel(\"E (Ryd)\")"
   ]
  },
  {
   "cell_type": "code",
   "execution_count": 14,
   "metadata": {},
   "outputs": [
    {
     "data": {
      "text/plain": [
       "<matplotlib.legend.Legend at 0x2ae925ee7940>"
      ]
     },
     "execution_count": 14,
     "metadata": {},
     "output_type": "execute_result"
    },
    {
     "data": {
      "image/png": "[encoded data removed]",
      "text/plain": [
       "<Figure size 432x288 with 1 Axes>"
      ]
     },
     "metadata": {
      "needs_background": "light"
     },
     "output_type": "display_data"
    }
   ],
   "source": [
    "for d in dlis:\n",
    "    spec = dat[d][2.013]['spec']/(16*np.pi**2*(d*3.086e+21)**2)\n",
    "    wave = dat[d][2.013]['wave']*u.Angstrom\n",
    "    nu = wave.to(\"J\", equivalence=\"spectral\") / Ryd\n",
    "    nu = nu.to_value()\n",
    "    plt.plot(nu,spec, label = str(d))\n",
    "    \n",
    "plt.yscale('log')\n",
    "# plt.xlim([-0.05e6,1e6])\n",
    "plt.ylim([10**(-58),10**(-52)])\n",
    "plt.title(\"$I_{new} - I_{old}$ v E (z = 2.649)\")\n",
    "plt.ylabel(\"$\\Delta$ I ($\\odot$/$cm^2$)\")\n",
    "plt.xlabel(\"E (Ryd)\")\n",
    "plt.legend(title = \"r (kpc)\", ncol = 2)"
   ]
  },
  {
   "cell_type": "code",
   "execution_count": 21,
   "metadata": {},
   "outputs": [
    {
     "data": {
      "text/plain": [
       "<matplotlib.legend.Legend at 0x2ae9262dc908>"
      ]
     },
     "execution_count": 21,
     "metadata": {},
     "output_type": "execute_result"
    },
    {
     "data": {
      "image/png": "[encoded data removed]",
      "text/plain": [
       "<Figure size 432x288 with 1 Axes>"
      ]
     },
     "metadata": {
      "needs_background": "light"
     },
     "output_type": "display_data"
    }
   ],
   "source": [
    "for d in dlis:\n",
    "    spec = dat[d][2.013]['rebin_spec']\n",
    "    wave = ptw_wave*u.Angstrom\n",
    "    nu = wave.to(\"J\", equivalence=\"spectral\") / Ryd\n",
    "    nu = nu.to_value()\n",
    "    plt.plot(np.log10(nu),spec, label = str(d))\n",
    "    \n",
    "# plt.yscale('log')\n",
    "plt.xlim([0.1,10])\n",
    "# plt.ylim([10**(-58),10**(-52)])\n",
    "plt.title(\"$I_{new} - I_{old}$ v E (z = 2.649)\")\n",
    "plt.ylabel(\"$\\Delta$ I ($\\odot$/$cm^2$)\")\n",
    "plt.xlabel(\"E (Ryd)\")\n",
    "plt.legend(title = \"r (kpc)\", ncol = 2)"
   ]
  },
  {
   "cell_type": "code",
   "execution_count": 12,
   "metadata": {},
   "outputs": [
    {
     "name": "stdout",
     "output_type": "stream",
     "text": [
      "3672982.550650771 dimensionless\n"
     ]
    }
   ],
   "source": [
    "Ryd = 2.1798723611035e-18 * u.J\n",
    "ptw_wave = ptw_wave * u.Angstrom\n",
    "nu = ptw_wave.to(\"J\", equivalence=\"spectral\") / Ryd\n",
    "print(np.max(nu))"
   ]
  },
  {
   "cell_type": "code",
   "execution_count": null,
   "metadata": {},
   "outputs": [],
   "source": [
    "dlist = [20,50,100,150,200]\n",
    "\n",
    "for d in dlist:\n",
    "    d_m = d\n",
    "    print(np.max(np.log(spec/d_m**2)))"
   ]
  },
  {
   "cell_type": "code",
   "execution_count": null,
   "metadata": {},
   "outputs": [],
   "source": [
    "ptw_file = '/mnt/home/tairaeli/Junk/cloudy_cooling_tools_degraded/examples/ion_balance/test_bin/puchwein19_bkgthick.out'\n",
    "ptw_zs = np.genfromtxt(ptw_file, max_rows = 1)\n",
    "ptw_data = np.genfromtxt(ptw_file, skip_header=11)\n",
    "\n",
    "ptw_wave = ptw_data[:,3]*u.Angstrom\n",
    "print(np.max(ptw_wave))"
   ]
  },
  {
   "cell_type": "code",
   "execution_count": null,
   "metadata": {},
   "outputs": [],
   "source": [
    "ptw_file = '/mnt/home/tairaeli/Junk/cloudy_cooling_tools_degraded/examples/ion_balance/test_bin/puchwein19_bkgthick.out'\n",
    "\n",
    "ptw_rs = np.genfromtxt(ptw_file, max_rows = 1)\n",
    "ptw_data = np.genfromtxt(ptw_file, skip_header=11)\n",
    "\n",
    "\n",
    "rs_range = [1.4,2.7]\n",
    "rs_mask0 = np.where((ptw_rs>=rs_range[0]) & (ptw_rs<=rs_range[1]))\n",
    "print(ptw_rs[rs_mask0].shape)\n",
    "print(ptw_data[:,rs_mask0].shape)"
   ]
  },
  {
   "cell_type": "code",
   "execution_count": null,
   "metadata": {},
   "outputs": [],
   "source": [
    "ptw_rs[rs_mask0][15]"
   ]
  },
  {
   "cell_type": "code",
   "execution_count": null,
   "metadata": {
    "scrolled": true
   },
   "outputs": [],
   "source": [
    "for irs in range(len(ptw_zs)):\n",
    "    rs = ptw_zs[irs]\n",
    "    if (rs < 2) or (rs > 3):\n",
    "        continue\n",
    "    print(rs)"
   ]
  },
  {
   "cell_type": "code",
   "execution_count": null,
   "metadata": {},
   "outputs": [],
   "source": [
    "with open(\"./d_20_kpc_rs.pkl\",\"rb\") as f:\n",
    "    rss = pickle.load(f)\n",
    "print(*rss, sep=' ')"
   ]
  },
  {
   "cell_type": "code",
   "execution_count": null,
   "metadata": {},
   "outputs": [],
   "source": [
    "np.where((ptw_zs<2))"
   ]
  },
  {
   "cell_type": "markdown",
   "metadata": {},
   "source": [
    "python gen_cloudy_input_no_gal.py --ds /mnt/scratch/tairaeli/fg_2020_uvb_dat --uvb /mnt/home/tairaeli/trident_uncertainty/mods/abundances/data_bin/fg20_spec_lambda.dat"
   ]
  },
  {
   "cell_type": "code",
   "execution_count": 13,
   "metadata": {},
   "outputs": [],
   "source": [
    "import numpy as np\n",
    "import unyt as u\n",
    "from scipy.interpolate import interp1d\n",
    "import argparse\n",
    "import pickle\n",
    "\n",
    "uvb_file = \"/mnt/home/tairaeli/trident_uncertainty/mods/abundances/data_bin/fg20_spec_lambda.dat\"\n",
    "# uvb_file = \"/mnt/home/tairaeli/trident_uncertainty/mods/abundances/data_bin/fg20_spec_nu.dat\"\n",
    "rs_range = [1.2,2.7]\n",
    "ds = \"/mnt/scratch/tairaeli/fg_2020_uvb_dat\"\n",
    "\n",
    "# loading in array for desired energy bins\n",
    "uvb_rs = np.genfromtxt(uvb_file, max_rows = 1)\n",
    "\n",
    "# creating a mask to isolate desired redshift data\n",
    "rs_mask = np.where((uvb_rs>=rs_range[0]) & (uvb_rs<=rs_range[1]))\n",
    "\n",
    "# masking redhsifts with desired analysis range using previously generated mask\n",
    "uvb_rs = uvb_rs[rs_mask]"
   ]
  },
  {
   "cell_type": "code",
   "execution_count": 15,
   "metadata": {},
   "outputs": [],
   "source": [
    "uvb_data = np.genfromtxt(uvb_file, skip_header=11)"
   ]
  },
  {
   "cell_type": "code",
   "execution_count": 16,
   "metadata": {},
   "outputs": [
    {
     "data": {
      "text/plain": [
       "array([[1.22320738e-02, 4.88896683e-29, 5.33208755e-29, ...,\n",
       "        3.17778706e-33, 3.06888647e-33, 0.00000000e+00],\n",
       "       [1.23147229e-02, 4.93819147e-29, 5.38580558e-29, ...,\n",
       "        3.21049885e-33, 3.10047724e-33, 0.00000000e+00],\n",
       "       [1.23984965e-02, 4.98826148e-29, 5.44044641e-29, ...,\n",
       "        3.24377799e-33, 3.13261593e-33, 0.00000000e+00],\n",
       "       ...,\n",
       "       [4.55644748e+03, 5.91497609e-21, 6.40935283e-21, ...,\n",
       "        4.28825932e-27, 4.14130360e-27, 0.00000000e+00],\n",
       "       [6.07526331e+03, 7.29358516e-21, 7.94807585e-21, ...,\n",
       "        5.11085630e-27, 4.93571073e-27, 0.00000000e+00],\n",
       "       [9.11289496e+03, 9.75158590e-21, 1.05146141e-20, ...,\n",
       "        6.54499529e-27, 6.32070275e-27, 0.00000000e+00]])"
      ]
     },
     "execution_count": 16,
     "metadata": {},
     "output_type": "execute_result"
    }
   ],
   "source": [
    "uvb_data"
   ]
  },
  {
   "cell_type": "code",
   "execution_count": null,
   "metadata": {},
   "outputs": [],
   "source": []
  }
 ],
 "metadata": {
  "kernelspec": {
   "display_name": "Python 3",
   "language": "python",
   "name": "python3"
  },
  "language_info": {
   "codemirror_mode": {
    "name": "ipython",
    "version": 3
   },
   "file_extension": ".py",
   "mimetype": "text/x-python",
   "name": "python",
   "nbconvert_exporter": "python",
   "pygments_lexer": "ipython3",
   "version": "3.7.12"
  }
 },
 "nbformat": 4,
 "nbformat_minor": 2
}
